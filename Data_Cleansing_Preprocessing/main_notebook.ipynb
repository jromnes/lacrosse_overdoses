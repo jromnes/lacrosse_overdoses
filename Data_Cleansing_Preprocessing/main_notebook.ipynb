{
 "cells": [
  {
   "cell_type": "code",
   "execution_count": 3,
   "id": "65d560ac-71ab-419f-8865-b01c901adbe7",
   "metadata": {
    "tags": []
   },
   "outputs": [],
   "source": [
    "import pandas as pd\n",
    "import numpy as np\n",
    "import matplotlib.pyplot as plt\n",
    "import seaborn as sns\n",
    "from collections import Counter\n",
    "from functions import find_columns_with_ones\n",
    "from functions import categorize_age\n",
    "import plotly.express as px\n",
    "import plotly.graph_objs as go\n"
   ]
  },
  {
   "cell_type": "code",
   "execution_count": 4,
   "id": "0638cfad-e1ee-43a6-9cf1-27706fe374c0",
   "metadata": {},
   "outputs": [
    {
     "data": {
      "text/html": [
       "<div>\n",
       "<style scoped>\n",
       "    .dataframe tbody tr th:only-of-type {\n",
       "        vertical-align: middle;\n",
       "    }\n",
       "\n",
       "    .dataframe tbody tr th {\n",
       "        vertical-align: top;\n",
       "    }\n",
       "\n",
       "    .dataframe thead th {\n",
       "        text-align: right;\n",
       "    }\n",
       "</style>\n",
       "<table border=\"1\" class=\"dataframe\">\n",
       "  <thead>\n",
       "    <tr style=\"text-align: right;\">\n",
       "      <th></th>\n",
       "      <th>Year</th>\n",
       "      <th>Age</th>\n",
       "      <th>Gender</th>\n",
       "      <th>Type</th>\n",
       "      <th>Alcohol</th>\n",
       "      <th>Heroin</th>\n",
       "      <th>Methamphetamine</th>\n",
       "      <th>Cocaine</th>\n",
       "      <th>RX</th>\n",
       "      <th>Opioids</th>\n",
       "      <th>THC</th>\n",
       "      <th>Fentanyl</th>\n",
       "      <th>Codeine</th>\n",
       "      <th>Norfentanyl</th>\n",
       "      <th>Methadone</th>\n",
       "      <th>Morphine</th>\n",
       "      <th>Amphetamines</th>\n",
       "    </tr>\n",
       "    <tr>\n",
       "      <th>ID</th>\n",
       "      <th></th>\n",
       "      <th></th>\n",
       "      <th></th>\n",
       "      <th></th>\n",
       "      <th></th>\n",
       "      <th></th>\n",
       "      <th></th>\n",
       "      <th></th>\n",
       "      <th></th>\n",
       "      <th></th>\n",
       "      <th></th>\n",
       "      <th></th>\n",
       "      <th></th>\n",
       "      <th></th>\n",
       "      <th></th>\n",
       "      <th></th>\n",
       "      <th></th>\n",
       "    </tr>\n",
       "  </thead>\n",
       "  <tbody>\n",
       "    <tr>\n",
       "      <th>1</th>\n",
       "      <td>2008</td>\n",
       "      <td>38</td>\n",
       "      <td>Female</td>\n",
       "      <td>Accidental</td>\n",
       "      <td>0.0</td>\n",
       "      <td>0.0</td>\n",
       "      <td>0.0</td>\n",
       "      <td>0.0</td>\n",
       "      <td>1.0</td>\n",
       "      <td>0</td>\n",
       "      <td>0</td>\n",
       "      <td>NaN</td>\n",
       "      <td>NaN</td>\n",
       "      <td>NaN</td>\n",
       "      <td>NaN</td>\n",
       "      <td>NaN</td>\n",
       "      <td>NaN</td>\n",
       "    </tr>\n",
       "    <tr>\n",
       "      <th>2</th>\n",
       "      <td>2008</td>\n",
       "      <td>43</td>\n",
       "      <td>Male</td>\n",
       "      <td>Accidental</td>\n",
       "      <td>0.0</td>\n",
       "      <td>0.0</td>\n",
       "      <td>0.0</td>\n",
       "      <td>0.0</td>\n",
       "      <td>1.0</td>\n",
       "      <td>1</td>\n",
       "      <td>0</td>\n",
       "      <td>NaN</td>\n",
       "      <td>NaN</td>\n",
       "      <td>NaN</td>\n",
       "      <td>NaN</td>\n",
       "      <td>NaN</td>\n",
       "      <td>NaN</td>\n",
       "    </tr>\n",
       "    <tr>\n",
       "      <th>3</th>\n",
       "      <td>2008</td>\n",
       "      <td>55</td>\n",
       "      <td>Male</td>\n",
       "      <td>Accidental</td>\n",
       "      <td>0.0</td>\n",
       "      <td>0.0</td>\n",
       "      <td>0.0</td>\n",
       "      <td>1.0</td>\n",
       "      <td>1.0</td>\n",
       "      <td>1</td>\n",
       "      <td>1</td>\n",
       "      <td>NaN</td>\n",
       "      <td>NaN</td>\n",
       "      <td>NaN</td>\n",
       "      <td>NaN</td>\n",
       "      <td>NaN</td>\n",
       "      <td>NaN</td>\n",
       "    </tr>\n",
       "    <tr>\n",
       "      <th>4</th>\n",
       "      <td>2008</td>\n",
       "      <td>52</td>\n",
       "      <td>Male</td>\n",
       "      <td>Accidental</td>\n",
       "      <td>0.0</td>\n",
       "      <td>0.0</td>\n",
       "      <td>0.0</td>\n",
       "      <td>0.0</td>\n",
       "      <td>1.0</td>\n",
       "      <td>1</td>\n",
       "      <td>0</td>\n",
       "      <td>NaN</td>\n",
       "      <td>NaN</td>\n",
       "      <td>NaN</td>\n",
       "      <td>NaN</td>\n",
       "      <td>NaN</td>\n",
       "      <td>NaN</td>\n",
       "    </tr>\n",
       "    <tr>\n",
       "      <th>5</th>\n",
       "      <td>2008</td>\n",
       "      <td>42</td>\n",
       "      <td>Male</td>\n",
       "      <td>Accidental</td>\n",
       "      <td>1.0</td>\n",
       "      <td>0.0</td>\n",
       "      <td>0.0</td>\n",
       "      <td>0.0</td>\n",
       "      <td>1.0</td>\n",
       "      <td>1</td>\n",
       "      <td>0</td>\n",
       "      <td>NaN</td>\n",
       "      <td>NaN</td>\n",
       "      <td>NaN</td>\n",
       "      <td>NaN</td>\n",
       "      <td>NaN</td>\n",
       "      <td>NaN</td>\n",
       "    </tr>\n",
       "  </tbody>\n",
       "</table>\n",
       "</div>"
      ],
      "text/plain": [
       "    Year  Age  Gender        Type  Alcohol  Heroin  Methamphetamine  Cocaine  \\\n",
       "ID                                                                             \n",
       "1   2008   38  Female  Accidental      0.0     0.0              0.0      0.0   \n",
       "2   2008   43    Male  Accidental      0.0     0.0              0.0      0.0   \n",
       "3   2008   55    Male  Accidental      0.0     0.0              0.0      1.0   \n",
       "4   2008   52    Male  Accidental      0.0     0.0              0.0      0.0   \n",
       "5   2008   42    Male  Accidental      1.0     0.0              0.0      0.0   \n",
       "\n",
       "     RX  Opioids THC  Fentanyl  Codeine  Norfentanyl  Methadone  Morphine  \\\n",
       "ID                                                                          \n",
       "1   1.0        0   0       NaN      NaN          NaN        NaN       NaN   \n",
       "2   1.0        1   0       NaN      NaN          NaN        NaN       NaN   \n",
       "3   1.0        1   1       NaN      NaN          NaN        NaN       NaN   \n",
       "4   1.0        1   0       NaN      NaN          NaN        NaN       NaN   \n",
       "5   1.0        1   0       NaN      NaN          NaN        NaN       NaN   \n",
       "\n",
       "    Amphetamines  \n",
       "ID                \n",
       "1            NaN  \n",
       "2            NaN  \n",
       "3            NaN  \n",
       "4            NaN  \n",
       "5            NaN  "
      ]
     },
     "execution_count": 4,
     "metadata": {},
     "output_type": "execute_result"
    }
   ],
   "source": [
    "# All Main Data in one dataframe imported to be cleaned\n",
    "overdose_df = pd.read_csv(\"overdose_data.csv\", index_col=\"ID\")\n",
    "opioid_columns = ['Fentanyl', 'Morphine', 'Codeine', 'Norfentanyl', 'Methadone', 'Heroin']\n",
    "yes_no_columns = ['Alcohol', 'Heroin', 'Methamphetamine', 'Cocaine', 'RX', 'Opioids', 'THC', 'Fentanyl', 'Morphine', 'Codeine', 'Norfentanyl', 'Methadone', 'Amphetamines']\n",
    "overdose_df['Opioids'] = overdose_df.apply(\n",
    "    lambda row: 'Yes' if row['Opioids'] == 'Yes' or 'Yes' in row[opioid_columns].values else 'No', axis=1)\n",
    "overdose_df.replace({'No': 0, 'Yes': 1}, inplace=True)\n",
    "overdose_df.head()"
   ]
  },
  {
   "cell_type": "markdown",
   "id": "65b580d3-e9fd-4fdb-a8ec-5054d4e0b34f",
   "metadata": {},
   "source": [
    "## Yearly Overdose Death Count"
   ]
  },
  {
   "cell_type": "code",
   "execution_count": 138,
   "id": "ae538d3d-06c2-47a0-a7a7-c48d50bd47c0",
   "metadata": {
    "tags": []
   },
   "outputs": [
    {
     "data": {
      "text/html": [
       "<div>\n",
       "<style scoped>\n",
       "    .dataframe tbody tr th:only-of-type {\n",
       "        vertical-align: middle;\n",
       "    }\n",
       "\n",
       "    .dataframe tbody tr th {\n",
       "        vertical-align: top;\n",
       "    }\n",
       "\n",
       "    .dataframe thead th {\n",
       "        text-align: right;\n",
       "    }\n",
       "</style>\n",
       "<table border=\"1\" class=\"dataframe\">\n",
       "  <thead>\n",
       "    <tr style=\"text-align: right;\">\n",
       "      <th></th>\n",
       "      <th>count</th>\n",
       "    </tr>\n",
       "    <tr>\n",
       "      <th>Year</th>\n",
       "      <th></th>\n",
       "    </tr>\n",
       "  </thead>\n",
       "  <tbody>\n",
       "    <tr>\n",
       "      <th>2008</th>\n",
       "      <td>5</td>\n",
       "    </tr>\n",
       "    <tr>\n",
       "      <th>2009</th>\n",
       "      <td>6</td>\n",
       "    </tr>\n",
       "    <tr>\n",
       "      <th>2010</th>\n",
       "      <td>15</td>\n",
       "    </tr>\n",
       "    <tr>\n",
       "      <th>2011</th>\n",
       "      <td>13</td>\n",
       "    </tr>\n",
       "    <tr>\n",
       "      <th>2012</th>\n",
       "      <td>13</td>\n",
       "    </tr>\n",
       "    <tr>\n",
       "      <th>2013</th>\n",
       "      <td>11</td>\n",
       "    </tr>\n",
       "    <tr>\n",
       "      <th>2014</th>\n",
       "      <td>9</td>\n",
       "    </tr>\n",
       "    <tr>\n",
       "      <th>2015</th>\n",
       "      <td>12</td>\n",
       "    </tr>\n",
       "    <tr>\n",
       "      <th>2016</th>\n",
       "      <td>21</td>\n",
       "    </tr>\n",
       "    <tr>\n",
       "      <th>2017</th>\n",
       "      <td>29</td>\n",
       "    </tr>\n",
       "    <tr>\n",
       "      <th>2018</th>\n",
       "      <td>24</td>\n",
       "    </tr>\n",
       "    <tr>\n",
       "      <th>2019</th>\n",
       "      <td>22</td>\n",
       "    </tr>\n",
       "    <tr>\n",
       "      <th>2020</th>\n",
       "      <td>40</td>\n",
       "    </tr>\n",
       "    <tr>\n",
       "      <th>2021</th>\n",
       "      <td>31</td>\n",
       "    </tr>\n",
       "    <tr>\n",
       "      <th>2022</th>\n",
       "      <td>38</td>\n",
       "    </tr>\n",
       "  </tbody>\n",
       "</table>\n",
       "</div>"
      ],
      "text/plain": [
       "      count\n",
       "Year       \n",
       "2008      5\n",
       "2009      6\n",
       "2010     15\n",
       "2011     13\n",
       "2012     13\n",
       "2013     11\n",
       "2014      9\n",
       "2015     12\n",
       "2016     21\n",
       "2017     29\n",
       "2018     24\n",
       "2019     22\n",
       "2020     40\n",
       "2021     31\n",
       "2022     38"
      ]
     },
     "execution_count": 138,
     "metadata": {},
     "output_type": "execute_result"
    }
   ],
   "source": [
    "yearly_overdose_count = overdose_df['Year'].value_counts()\n",
    "\n",
    "# Assuming yearly_overdose_count is a Series containing the counts of overdoses per year\n",
    "# Create a DataFrame for plotting\n",
    "yearly_overdose_df = yearly_overdose_count.reset_index()\n",
    "yearly_overdose_df = yearly_overdose_df.set_index('Year')\n",
    "yearly_overdose_df = yearly_overdose_df.sort_values('Year')\n",
    "yearly_overdose_df"
   ]
  },
  {
   "cell_type": "markdown",
   "id": "ba06f05a-d348-4e27-80ec-026c65137183",
   "metadata": {
    "tags": []
   },
   "source": [
    "## Age Statistics"
   ]
  },
  {
   "cell_type": "code",
   "execution_count": 99,
   "id": "2e5dc20f-2042-4aee-b630-ee4c3245a3cd",
   "metadata": {
    "tags": []
   },
   "outputs": [
    {
     "data": {
      "text/plain": [
       "Year\n",
       "2008    46.0\n",
       "2009    41.0\n",
       "2010    39.0\n",
       "2011    40.0\n",
       "2012    46.0\n",
       "2013    44.0\n",
       "2014    48.0\n",
       "2015    42.0\n",
       "2016    45.0\n",
       "2017    42.0\n",
       "2018    42.0\n",
       "2019    46.0\n",
       "2020    38.0\n",
       "2021    37.0\n",
       "2022    47.0\n",
       "Name: Age, dtype: float64"
      ]
     },
     "execution_count": 99,
     "metadata": {},
     "output_type": "execute_result"
    }
   ],
   "source": [
    "average_age_by_year = overdose_df['Age'].groupby(overdose_df['Year']).mean('Age').round()\n",
    "average_age_by_gender = overdose_df.groupby('Gender').mean('Age').round()\n",
    "average_age_by_year"
   ]
  },
  {
   "cell_type": "code",
   "execution_count": 5,
   "id": "1327d2c7-c975-4c58-b38c-e95fc11c49a5",
   "metadata": {
    "tags": []
   },
   "outputs": [],
   "source": [
    "sliced_age_df = overdose_df[['Age', 'Year', 'Gender']].copy()"
   ]
  },
  {
   "cell_type": "code",
   "execution_count": 8,
   "id": "68ed7995-7ccd-450d-b36d-2e4d79c5a7da",
   "metadata": {
    "tags": []
   },
   "outputs": [],
   "source": [
    "sliced_age_df['Age Range'] = pd.cut(sliced_age_df['Age'], bins=[0, 18, 75, float('inf')], labels=['Adolescent/Teenager', 'Adult', 'Senior'])\n",
    "sliced_age_df.drop('Age', axis=1, inplace=True)"
   ]
  },
  {
   "cell_type": "code",
   "execution_count": 10,
   "id": "890660bc-2ecd-478b-8742-f411381b907e",
   "metadata": {
    "tags": []
   },
   "outputs": [
    {
     "data": {
      "text/plain": [
       "Age Range\n",
       "Adult                  284\n",
       "Senior                   3\n",
       "Adolescent/Teenager      2\n",
       "Name: count, dtype: int64"
      ]
     },
     "execution_count": 10,
     "metadata": {},
     "output_type": "execute_result"
    }
   ],
   "source": [
    "sliced_age_df.value_counts('Age Range')"
   ]
  },
  {
   "cell_type": "code",
   "execution_count": null,
   "id": "468c18c3-f463-4781-90aa-fe7d47c30e88",
   "metadata": {},
   "outputs": [],
   "source": []
  },
  {
   "cell_type": "code",
   "execution_count": 100,
   "id": "bf5f4887-efb9-48b1-aa31-b5e0e00350e2",
   "metadata": {},
   "outputs": [
    {
     "data": {
      "application/vnd.plotly.v1+json": {
       "config": {
        "plotlyServerURL": "https://plot.ly"
       },
       "data": [
        {
         "hovertemplate": "variable=Age<br>Year=%{x}<br>value=%{y}<extra></extra>",
         "legendgroup": "Age",
         "line": {
          "color": "#636efa",
          "dash": "solid"
         },
         "marker": {
          "symbol": "circle"
         },
         "mode": "lines",
         "name": "Age",
         "orientation": "v",
         "showlegend": true,
         "type": "scatter",
         "x": [
          2008,
          2009,
          2010,
          2011,
          2012,
          2013,
          2014,
          2015,
          2016,
          2017,
          2018,
          2019,
          2020,
          2021,
          2022
         ],
         "xaxis": "x",
         "y": [
          46,
          41,
          39,
          40,
          46,
          44,
          48,
          42,
          45,
          42,
          42,
          46,
          38,
          37,
          47
         ],
         "yaxis": "y"
        }
       ],
       "layout": {
        "autosize": true,
        "legend": {
         "title": {
          "text": "variable"
         },
         "tracegroupgap": 0
        },
        "margin": {
         "t": 60
        },
        "template": {
         "data": {
          "bar": [
           {
            "error_x": {
             "color": "#2a3f5f"
            },
            "error_y": {
             "color": "#2a3f5f"
            },
            "marker": {
             "line": {
              "color": "#E5ECF6",
              "width": 0.5
             },
             "pattern": {
              "fillmode": "overlay",
              "size": 10,
              "solidity": 0.2
             }
            },
            "type": "bar"
           }
          ],
          "barpolar": [
           {
            "marker": {
             "line": {
              "color": "#E5ECF6",
              "width": 0.5
             },
             "pattern": {
              "fillmode": "overlay",
              "size": 10,
              "solidity": 0.2
             }
            },
            "type": "barpolar"
           }
          ],
          "carpet": [
           {
            "aaxis": {
             "endlinecolor": "#2a3f5f",
             "gridcolor": "white",
             "linecolor": "white",
             "minorgridcolor": "white",
             "startlinecolor": "#2a3f5f"
            },
            "baxis": {
             "endlinecolor": "#2a3f5f",
             "gridcolor": "white",
             "linecolor": "white",
             "minorgridcolor": "white",
             "startlinecolor": "#2a3f5f"
            },
            "type": "carpet"
           }
          ],
          "choropleth": [
           {
            "colorbar": {
             "outlinewidth": 0,
             "ticks": ""
            },
            "type": "choropleth"
           }
          ],
          "contour": [
           {
            "colorbar": {
             "outlinewidth": 0,
             "ticks": ""
            },
            "colorscale": [
             [
              0,
              "#0d0887"
             ],
             [
              0.1111111111111111,
              "#46039f"
             ],
             [
              0.2222222222222222,
              "#7201a8"
             ],
             [
              0.3333333333333333,
              "#9c179e"
             ],
             [
              0.4444444444444444,
              "#bd3786"
             ],
             [
              0.5555555555555556,
              "#d8576b"
             ],
             [
              0.6666666666666666,
              "#ed7953"
             ],
             [
              0.7777777777777778,
              "#fb9f3a"
             ],
             [
              0.8888888888888888,
              "#fdca26"
             ],
             [
              1,
              "#f0f921"
             ]
            ],
            "type": "contour"
           }
          ],
          "contourcarpet": [
           {
            "colorbar": {
             "outlinewidth": 0,
             "ticks": ""
            },
            "type": "contourcarpet"
           }
          ],
          "heatmap": [
           {
            "colorbar": {
             "outlinewidth": 0,
             "ticks": ""
            },
            "colorscale": [
             [
              0,
              "#0d0887"
             ],
             [
              0.1111111111111111,
              "#46039f"
             ],
             [
              0.2222222222222222,
              "#7201a8"
             ],
             [
              0.3333333333333333,
              "#9c179e"
             ],
             [
              0.4444444444444444,
              "#bd3786"
             ],
             [
              0.5555555555555556,
              "#d8576b"
             ],
             [
              0.6666666666666666,
              "#ed7953"
             ],
             [
              0.7777777777777778,
              "#fb9f3a"
             ],
             [
              0.8888888888888888,
              "#fdca26"
             ],
             [
              1,
              "#f0f921"
             ]
            ],
            "type": "heatmap"
           }
          ],
          "heatmapgl": [
           {
            "colorbar": {
             "outlinewidth": 0,
             "ticks": ""
            },
            "colorscale": [
             [
              0,
              "#0d0887"
             ],
             [
              0.1111111111111111,
              "#46039f"
             ],
             [
              0.2222222222222222,
              "#7201a8"
             ],
             [
              0.3333333333333333,
              "#9c179e"
             ],
             [
              0.4444444444444444,
              "#bd3786"
             ],
             [
              0.5555555555555556,
              "#d8576b"
             ],
             [
              0.6666666666666666,
              "#ed7953"
             ],
             [
              0.7777777777777778,
              "#fb9f3a"
             ],
             [
              0.8888888888888888,
              "#fdca26"
             ],
             [
              1,
              "#f0f921"
             ]
            ],
            "type": "heatmapgl"
           }
          ],
          "histogram": [
           {
            "marker": {
             "pattern": {
              "fillmode": "overlay",
              "size": 10,
              "solidity": 0.2
             }
            },
            "type": "histogram"
           }
          ],
          "histogram2d": [
           {
            "colorbar": {
             "outlinewidth": 0,
             "ticks": ""
            },
            "colorscale": [
             [
              0,
              "#0d0887"
             ],
             [
              0.1111111111111111,
              "#46039f"
             ],
             [
              0.2222222222222222,
              "#7201a8"
             ],
             [
              0.3333333333333333,
              "#9c179e"
             ],
             [
              0.4444444444444444,
              "#bd3786"
             ],
             [
              0.5555555555555556,
              "#d8576b"
             ],
             [
              0.6666666666666666,
              "#ed7953"
             ],
             [
              0.7777777777777778,
              "#fb9f3a"
             ],
             [
              0.8888888888888888,
              "#fdca26"
             ],
             [
              1,
              "#f0f921"
             ]
            ],
            "type": "histogram2d"
           }
          ],
          "histogram2dcontour": [
           {
            "colorbar": {
             "outlinewidth": 0,
             "ticks": ""
            },
            "colorscale": [
             [
              0,
              "#0d0887"
             ],
             [
              0.1111111111111111,
              "#46039f"
             ],
             [
              0.2222222222222222,
              "#7201a8"
             ],
             [
              0.3333333333333333,
              "#9c179e"
             ],
             [
              0.4444444444444444,
              "#bd3786"
             ],
             [
              0.5555555555555556,
              "#d8576b"
             ],
             [
              0.6666666666666666,
              "#ed7953"
             ],
             [
              0.7777777777777778,
              "#fb9f3a"
             ],
             [
              0.8888888888888888,
              "#fdca26"
             ],
             [
              1,
              "#f0f921"
             ]
            ],
            "type": "histogram2dcontour"
           }
          ],
          "mesh3d": [
           {
            "colorbar": {
             "outlinewidth": 0,
             "ticks": ""
            },
            "type": "mesh3d"
           }
          ],
          "parcoords": [
           {
            "line": {
             "colorbar": {
              "outlinewidth": 0,
              "ticks": ""
             }
            },
            "type": "parcoords"
           }
          ],
          "pie": [
           {
            "automargin": true,
            "type": "pie"
           }
          ],
          "scatter": [
           {
            "fillpattern": {
             "fillmode": "overlay",
             "size": 10,
             "solidity": 0.2
            },
            "type": "scatter"
           }
          ],
          "scatter3d": [
           {
            "line": {
             "colorbar": {
              "outlinewidth": 0,
              "ticks": ""
             }
            },
            "marker": {
             "colorbar": {
              "outlinewidth": 0,
              "ticks": ""
             }
            },
            "type": "scatter3d"
           }
          ],
          "scattercarpet": [
           {
            "marker": {
             "colorbar": {
              "outlinewidth": 0,
              "ticks": ""
             }
            },
            "type": "scattercarpet"
           }
          ],
          "scattergeo": [
           {
            "marker": {
             "colorbar": {
              "outlinewidth": 0,
              "ticks": ""
             }
            },
            "type": "scattergeo"
           }
          ],
          "scattergl": [
           {
            "marker": {
             "colorbar": {
              "outlinewidth": 0,
              "ticks": ""
             }
            },
            "type": "scattergl"
           }
          ],
          "scattermapbox": [
           {
            "marker": {
             "colorbar": {
              "outlinewidth": 0,
              "ticks": ""
             }
            },
            "type": "scattermapbox"
           }
          ],
          "scatterpolar": [
           {
            "marker": {
             "colorbar": {
              "outlinewidth": 0,
              "ticks": ""
             }
            },
            "type": "scatterpolar"
           }
          ],
          "scatterpolargl": [
           {
            "marker": {
             "colorbar": {
              "outlinewidth": 0,
              "ticks": ""
             }
            },
            "type": "scatterpolargl"
           }
          ],
          "scatterternary": [
           {
            "marker": {
             "colorbar": {
              "outlinewidth": 0,
              "ticks": ""
             }
            },
            "type": "scatterternary"
           }
          ],
          "surface": [
           {
            "colorbar": {
             "outlinewidth": 0,
             "ticks": ""
            },
            "colorscale": [
             [
              0,
              "#0d0887"
             ],
             [
              0.1111111111111111,
              "#46039f"
             ],
             [
              0.2222222222222222,
              "#7201a8"
             ],
             [
              0.3333333333333333,
              "#9c179e"
             ],
             [
              0.4444444444444444,
              "#bd3786"
             ],
             [
              0.5555555555555556,
              "#d8576b"
             ],
             [
              0.6666666666666666,
              "#ed7953"
             ],
             [
              0.7777777777777778,
              "#fb9f3a"
             ],
             [
              0.8888888888888888,
              "#fdca26"
             ],
             [
              1,
              "#f0f921"
             ]
            ],
            "type": "surface"
           }
          ],
          "table": [
           {
            "cells": {
             "fill": {
              "color": "#EBF0F8"
             },
             "line": {
              "color": "white"
             }
            },
            "header": {
             "fill": {
              "color": "#C8D4E3"
             },
             "line": {
              "color": "white"
             }
            },
            "type": "table"
           }
          ]
         },
         "layout": {
          "annotationdefaults": {
           "arrowcolor": "#2a3f5f",
           "arrowhead": 0,
           "arrowwidth": 1
          },
          "autotypenumbers": "strict",
          "coloraxis": {
           "colorbar": {
            "outlinewidth": 0,
            "ticks": ""
           }
          },
          "colorscale": {
           "diverging": [
            [
             0,
             "#8e0152"
            ],
            [
             0.1,
             "#c51b7d"
            ],
            [
             0.2,
             "#de77ae"
            ],
            [
             0.3,
             "#f1b6da"
            ],
            [
             0.4,
             "#fde0ef"
            ],
            [
             0.5,
             "#f7f7f7"
            ],
            [
             0.6,
             "#e6f5d0"
            ],
            [
             0.7,
             "#b8e186"
            ],
            [
             0.8,
             "#7fbc41"
            ],
            [
             0.9,
             "#4d9221"
            ],
            [
             1,
             "#276419"
            ]
           ],
           "sequential": [
            [
             0,
             "#0d0887"
            ],
            [
             0.1111111111111111,
             "#46039f"
            ],
            [
             0.2222222222222222,
             "#7201a8"
            ],
            [
             0.3333333333333333,
             "#9c179e"
            ],
            [
             0.4444444444444444,
             "#bd3786"
            ],
            [
             0.5555555555555556,
             "#d8576b"
            ],
            [
             0.6666666666666666,
             "#ed7953"
            ],
            [
             0.7777777777777778,
             "#fb9f3a"
            ],
            [
             0.8888888888888888,
             "#fdca26"
            ],
            [
             1,
             "#f0f921"
            ]
           ],
           "sequentialminus": [
            [
             0,
             "#0d0887"
            ],
            [
             0.1111111111111111,
             "#46039f"
            ],
            [
             0.2222222222222222,
             "#7201a8"
            ],
            [
             0.3333333333333333,
             "#9c179e"
            ],
            [
             0.4444444444444444,
             "#bd3786"
            ],
            [
             0.5555555555555556,
             "#d8576b"
            ],
            [
             0.6666666666666666,
             "#ed7953"
            ],
            [
             0.7777777777777778,
             "#fb9f3a"
            ],
            [
             0.8888888888888888,
             "#fdca26"
            ],
            [
             1,
             "#f0f921"
            ]
           ]
          },
          "colorway": [
           "#636efa",
           "#EF553B",
           "#00cc96",
           "#ab63fa",
           "#FFA15A",
           "#19d3f3",
           "#FF6692",
           "#B6E880",
           "#FF97FF",
           "#FECB52"
          ],
          "font": {
           "color": "#2a3f5f"
          },
          "geo": {
           "bgcolor": "white",
           "lakecolor": "white",
           "landcolor": "#E5ECF6",
           "showlakes": true,
           "showland": true,
           "subunitcolor": "white"
          },
          "hoverlabel": {
           "align": "left"
          },
          "hovermode": "closest",
          "mapbox": {
           "style": "light"
          },
          "paper_bgcolor": "white",
          "plot_bgcolor": "#E5ECF6",
          "polar": {
           "angularaxis": {
            "gridcolor": "white",
            "linecolor": "white",
            "ticks": ""
           },
           "bgcolor": "#E5ECF6",
           "radialaxis": {
            "gridcolor": "white",
            "linecolor": "white",
            "ticks": ""
           }
          },
          "scene": {
           "xaxis": {
            "backgroundcolor": "#E5ECF6",
            "gridcolor": "white",
            "gridwidth": 2,
            "linecolor": "white",
            "showbackground": true,
            "ticks": "",
            "zerolinecolor": "white"
           },
           "yaxis": {
            "backgroundcolor": "#E5ECF6",
            "gridcolor": "white",
            "gridwidth": 2,
            "linecolor": "white",
            "showbackground": true,
            "ticks": "",
            "zerolinecolor": "white"
           },
           "zaxis": {
            "backgroundcolor": "#E5ECF6",
            "gridcolor": "white",
            "gridwidth": 2,
            "linecolor": "white",
            "showbackground": true,
            "ticks": "",
            "zerolinecolor": "white"
           }
          },
          "shapedefaults": {
           "line": {
            "color": "#2a3f5f"
           }
          },
          "ternary": {
           "aaxis": {
            "gridcolor": "white",
            "linecolor": "white",
            "ticks": ""
           },
           "baxis": {
            "gridcolor": "white",
            "linecolor": "white",
            "ticks": ""
           },
           "bgcolor": "#E5ECF6",
           "caxis": {
            "gridcolor": "white",
            "linecolor": "white",
            "ticks": ""
           }
          },
          "title": {
           "x": 0.05
          },
          "xaxis": {
           "automargin": true,
           "gridcolor": "white",
           "linecolor": "white",
           "ticks": "",
           "title": {
            "standoff": 15
           },
           "zerolinecolor": "white",
           "zerolinewidth": 2
          },
          "yaxis": {
           "automargin": true,
           "gridcolor": "white",
           "linecolor": "white",
           "ticks": "",
           "title": {
            "standoff": 15
           },
           "zerolinecolor": "white",
           "zerolinewidth": 2
          }
         }
        },
        "xaxis": {
         "anchor": "y",
         "autorange": true,
         "domain": [
          0,
          1
         ],
         "range": [
          2008,
          2022
         ],
         "title": {
          "text": "Year"
         },
         "type": "linear"
        },
        "yaxis": {
         "anchor": "x",
         "autorange": true,
         "domain": [
          0,
          1
         ],
         "range": [
          36.388888888888886,
          48.611111111111114
         ],
         "title": {
          "text": "value"
         },
         "type": "linear"
        }
       }
      },
      "image/png": "[encoded data removed]",
      "text/html": [
       "<div>                            <div id=\"ad11bc1f-f413-4aa1-83d7-652bbb3f255a\" class=\"plotly-graph-div\" style=\"height:525px; width:100%;\"></div>            <script type=\"text/javascript\">                require([\"plotly\"], function(Plotly) {                    window.PLOTLYENV=window.PLOTLYENV || {};                                    if (document.getElementById(\"ad11bc1f-f413-4aa1-83d7-652bbb3f255a\")) {                    Plotly.newPlot(                        \"ad11bc1f-f413-4aa1-83d7-652bbb3f255a\",                        [{\"hovertemplate\":\"variable=Age\\u003cbr\\u003eYear=%{x}\\u003cbr\\u003evalue=%{y}\\u003cextra\\u003e\\u003c\\u002fextra\\u003e\",\"legendgroup\":\"Age\",\"line\":{\"color\":\"#636efa\",\"dash\":\"solid\"},\"marker\":{\"symbol\":\"circle\"},\"mode\":\"lines\",\"name\":\"Age\",\"orientation\":\"v\",\"showlegend\":true,\"x\":[2008,2009,2010,2011,2012,2013,2014,2015,2016,2017,2018,2019,2020,2021,2022],\"xaxis\":\"x\",\"y\":[46.0,41.0,39.0,40.0,46.0,44.0,48.0,42.0,45.0,42.0,42.0,46.0,38.0,37.0,47.0],\"yaxis\":\"y\",\"type\":\"scatter\"}],                        {\"template\":{\"data\":{\"histogram2dcontour\":[{\"type\":\"histogram2dcontour\",\"colorbar\":{\"outlinewidth\":0,\"ticks\":\"\"},\"colorscale\":[[0.0,\"#0d0887\"],[0.1111111111111111,\"#46039f\"],[0.2222222222222222,\"#7201a8\"],[0.3333333333333333,\"#9c179e\"],[0.4444444444444444,\"#bd3786\"],[0.5555555555555556,\"#d8576b\"],[0.6666666666666666,\"#ed7953\"],[0.7777777777777778,\"#fb9f3a\"],[0.8888888888888888,\"#fdca26\"],[1.0,\"#f0f921\"]]}],\"choropleth\":[{\"type\":\"choropleth\",\"colorbar\":{\"outlinewidth\":0,\"ticks\":\"\"}}],\"histogram2d\":[{\"type\":\"histogram2d\",\"colorbar\":{\"outlinewidth\":0,\"ticks\":\"\"},\"colorscale\":[[0.0,\"#0d0887\"],[0.1111111111111111,\"#46039f\"],[0.2222222222222222,\"#7201a8\"],[0.3333333333333333,\"#9c179e\"],[0.4444444444444444,\"#bd3786\"],[0.5555555555555556,\"#d8576b\"],[0.6666666666666666,\"#ed7953\"],[0.7777777777777778,\"#fb9f3a\"],[0.8888888888888888,\"#fdca26\"],[1.0,\"#f0f921\"]]}],\"heatmap\":[{\"type\":\"heatmap\",\"colorbar\":{\"outlinewidth\":0,\"ticks\":\"\"},\"colorscale\":[[0.0,\"#0d0887\"],[0.1111111111111111,\"#46039f\"],[0.2222222222222222,\"#7201a8\"],[0.3333333333333333,\"#9c179e\"],[0.4444444444444444,\"#bd3786\"],[0.5555555555555556,\"#d8576b\"],[0.6666666666666666,\"#ed7953\"],[0.7777777777777778,\"#fb9f3a\"],[0.8888888888888888,\"#fdca26\"],[1.0,\"#f0f921\"]]}],\"heatmapgl\":[{\"type\":\"heatmapgl\",\"colorbar\":{\"outlinewidth\":0,\"ticks\":\"\"},\"colorscale\":[[0.0,\"#0d0887\"],[0.1111111111111111,\"#46039f\"],[0.2222222222222222,\"#7201a8\"],[0.3333333333333333,\"#9c179e\"],[0.4444444444444444,\"#bd3786\"],[0.5555555555555556,\"#d8576b\"],[0.6666666666666666,\"#ed7953\"],[0.7777777777777778,\"#fb9f3a\"],[0.8888888888888888,\"#fdca26\"],[1.0,\"#f0f921\"]]}],\"contourcarpet\":[{\"type\":\"contourcarpet\",\"colorbar\":{\"outlinewidth\":0,\"ticks\":\"\"}}],\"contour\":[{\"type\":\"contour\",\"colorbar\":{\"outlinewidth\":0,\"ticks\":\"\"},\"colorscale\":[[0.0,\"#0d0887\"],[0.1111111111111111,\"#46039f\"],[0.2222222222222222,\"#7201a8\"],[0.3333333333333333,\"#9c179e\"],[0.4444444444444444,\"#bd3786\"],[0.5555555555555556,\"#d8576b\"],[0.6666666666666666,\"#ed7953\"],[0.7777777777777778,\"#fb9f3a\"],[0.8888888888888888,\"#fdca26\"],[1.0,\"#f0f921\"]]}],\"surface\":[{\"type\":\"surface\",\"colorbar\":{\"outlinewidth\":0,\"ticks\":\"\"},\"colorscale\":[[0.0,\"#0d0887\"],[0.1111111111111111,\"#46039f\"],[0.2222222222222222,\"#7201a8\"],[0.3333333333333333,\"#9c179e\"],[0.4444444444444444,\"#bd3786\"],[0.5555555555555556,\"#d8576b\"],[0.6666666666666666,\"#ed7953\"],[0.7777777777777778,\"#fb9f3a\"],[0.8888888888888888,\"#fdca26\"],[1.0,\"#f0f921\"]]}],\"mesh3d\":[{\"type\":\"mesh3d\",\"colorbar\":{\"outlinewidth\":0,\"ticks\":\"\"}}],\"scatter\":[{\"fillpattern\":{\"fillmode\":\"overlay\",\"size\":10,\"solidity\":0.2},\"type\":\"scatter\"}],\"parcoords\":[{\"type\":\"parcoords\",\"line\":{\"colorbar\":{\"outlinewidth\":0,\"ticks\":\"\"}}}],\"scatterpolargl\":[{\"type\":\"scatterpolargl\",\"marker\":{\"colorbar\":{\"outlinewidth\":0,\"ticks\":\"\"}}}],\"bar\":[{\"error_x\":{\"color\":\"#2a3f5f\"},\"error_y\":{\"color\":\"#2a3f5f\"},\"marker\":{\"line\":{\"color\":\"#E5ECF6\",\"width\":0.5},\"pattern\":{\"fillmode\":\"overlay\",\"size\":10,\"solidity\":0.2}},\"type\":\"bar\"}],\"scattergeo\":[{\"type\":\"scattergeo\",\"marker\":{\"colorbar\":{\"outlinewidth\":0,\"ticks\":\"\"}}}],\"scatterpolar\":[{\"type\":\"scatterpolar\",\"marker\":{\"colorbar\":{\"outlinewidth\":0,\"ticks\":\"\"}}}],\"histogram\":[{\"marker\":{\"pattern\":{\"fillmode\":\"overlay\",\"size\":10,\"solidity\":0.2}},\"type\":\"histogram\"}],\"scattergl\":[{\"type\":\"scattergl\",\"marker\":{\"colorbar\":{\"outlinewidth\":0,\"ticks\":\"\"}}}],\"scatter3d\":[{\"type\":\"scatter3d\",\"line\":{\"colorbar\":{\"outlinewidth\":0,\"ticks\":\"\"}},\"marker\":{\"colorbar\":{\"outlinewidth\":0,\"ticks\":\"\"}}}],\"scattermapbox\":[{\"type\":\"scattermapbox\",\"marker\":{\"colorbar\":{\"outlinewidth\":0,\"ticks\":\"\"}}}],\"scatterternary\":[{\"type\":\"scatterternary\",\"marker\":{\"colorbar\":{\"outlinewidth\":0,\"ticks\":\"\"}}}],\"scattercarpet\":[{\"type\":\"scattercarpet\",\"marker\":{\"colorbar\":{\"outlinewidth\":0,\"ticks\":\"\"}}}],\"carpet\":[{\"aaxis\":{\"endlinecolor\":\"#2a3f5f\",\"gridcolor\":\"white\",\"linecolor\":\"white\",\"minorgridcolor\":\"white\",\"startlinecolor\":\"#2a3f5f\"},\"baxis\":{\"endlinecolor\":\"#2a3f5f\",\"gridcolor\":\"white\",\"linecolor\":\"white\",\"minorgridcolor\":\"white\",\"startlinecolor\":\"#2a3f5f\"},\"type\":\"carpet\"}],\"table\":[{\"cells\":{\"fill\":{\"color\":\"#EBF0F8\"},\"line\":{\"color\":\"white\"}},\"header\":{\"fill\":{\"color\":\"#C8D4E3\"},\"line\":{\"color\":\"white\"}},\"type\":\"table\"}],\"barpolar\":[{\"marker\":{\"line\":{\"color\":\"#E5ECF6\",\"width\":0.5},\"pattern\":{\"fillmode\":\"overlay\",\"size\":10,\"solidity\":0.2}},\"type\":\"barpolar\"}],\"pie\":[{\"automargin\":true,\"type\":\"pie\"}]},\"layout\":{\"autotypenumbers\":\"strict\",\"colorway\":[\"#636efa\",\"#EF553B\",\"#00cc96\",\"#ab63fa\",\"#FFA15A\",\"#19d3f3\",\"#FF6692\",\"#B6E880\",\"#FF97FF\",\"#FECB52\"],\"font\":{\"color\":\"#2a3f5f\"},\"hovermode\":\"closest\",\"hoverlabel\":{\"align\":\"left\"},\"paper_bgcolor\":\"white\",\"plot_bgcolor\":\"#E5ECF6\",\"polar\":{\"bgcolor\":\"#E5ECF6\",\"angularaxis\":{\"gridcolor\":\"white\",\"linecolor\":\"white\",\"ticks\":\"\"},\"radialaxis\":{\"gridcolor\":\"white\",\"linecolor\":\"white\",\"ticks\":\"\"}},\"ternary\":{\"bgcolor\":\"#E5ECF6\",\"aaxis\":{\"gridcolor\":\"white\",\"linecolor\":\"white\",\"ticks\":\"\"},\"baxis\":{\"gridcolor\":\"white\",\"linecolor\":\"white\",\"ticks\":\"\"},\"caxis\":{\"gridcolor\":\"white\",\"linecolor\":\"white\",\"ticks\":\"\"}},\"coloraxis\":{\"colorbar\":{\"outlinewidth\":0,\"ticks\":\"\"}},\"colorscale\":{\"sequential\":[[0.0,\"#0d0887\"],[0.1111111111111111,\"#46039f\"],[0.2222222222222222,\"#7201a8\"],[0.3333333333333333,\"#9c179e\"],[0.4444444444444444,\"#bd3786\"],[0.5555555555555556,\"#d8576b\"],[0.6666666666666666,\"#ed7953\"],[0.7777777777777778,\"#fb9f3a\"],[0.8888888888888888,\"#fdca26\"],[1.0,\"#f0f921\"]],\"sequentialminus\":[[0.0,\"#0d0887\"],[0.1111111111111111,\"#46039f\"],[0.2222222222222222,\"#7201a8\"],[0.3333333333333333,\"#9c179e\"],[0.4444444444444444,\"#bd3786\"],[0.5555555555555556,\"#d8576b\"],[0.6666666666666666,\"#ed7953\"],[0.7777777777777778,\"#fb9f3a\"],[0.8888888888888888,\"#fdca26\"],[1.0,\"#f0f921\"]],\"diverging\":[[0,\"#8e0152\"],[0.1,\"#c51b7d\"],[0.2,\"#de77ae\"],[0.3,\"#f1b6da\"],[0.4,\"#fde0ef\"],[0.5,\"#f7f7f7\"],[0.6,\"#e6f5d0\"],[0.7,\"#b8e186\"],[0.8,\"#7fbc41\"],[0.9,\"#4d9221\"],[1,\"#276419\"]]},\"xaxis\":{\"gridcolor\":\"white\",\"linecolor\":\"white\",\"ticks\":\"\",\"title\":{\"standoff\":15},\"zerolinecolor\":\"white\",\"automargin\":true,\"zerolinewidth\":2},\"yaxis\":{\"gridcolor\":\"white\",\"linecolor\":\"white\",\"ticks\":\"\",\"title\":{\"standoff\":15},\"zerolinecolor\":\"white\",\"automargin\":true,\"zerolinewidth\":2},\"scene\":{\"xaxis\":{\"backgroundcolor\":\"#E5ECF6\",\"gridcolor\":\"white\",\"linecolor\":\"white\",\"showbackground\":true,\"ticks\":\"\",\"zerolinecolor\":\"white\",\"gridwidth\":2},\"yaxis\":{\"backgroundcolor\":\"#E5ECF6\",\"gridcolor\":\"white\",\"linecolor\":\"white\",\"showbackground\":true,\"ticks\":\"\",\"zerolinecolor\":\"white\",\"gridwidth\":2},\"zaxis\":{\"backgroundcolor\":\"#E5ECF6\",\"gridcolor\":\"white\",\"linecolor\":\"white\",\"showbackground\":true,\"ticks\":\"\",\"zerolinecolor\":\"white\",\"gridwidth\":2}},\"shapedefaults\":{\"line\":{\"color\":\"#2a3f5f\"}},\"annotationdefaults\":{\"arrowcolor\":\"#2a3f5f\",\"arrowhead\":0,\"arrowwidth\":1},\"geo\":{\"bgcolor\":\"white\",\"landcolor\":\"#E5ECF6\",\"subunitcolor\":\"white\",\"showland\":true,\"showlakes\":true,\"lakecolor\":\"white\"},\"title\":{\"x\":0.05},\"mapbox\":{\"style\":\"light\"}}},\"xaxis\":{\"anchor\":\"y\",\"domain\":[0.0,1.0],\"title\":{\"text\":\"Year\"}},\"yaxis\":{\"anchor\":\"x\",\"domain\":[0.0,1.0],\"title\":{\"text\":\"value\"}},\"legend\":{\"title\":{\"text\":\"variable\"},\"tracegroupgap\":0},\"margin\":{\"t\":60}},                        {\"responsive\": true}                    ).then(function(){\n",
       "                            \n",
       "var gd = document.getElementById('ad11bc1f-f413-4aa1-83d7-652bbb3f255a');\n",
       "var x = new MutationObserver(function (mutations, observer) {{\n",
       "        var display = window.getComputedStyle(gd).display;\n",
       "        if (!display || display === 'none') {{\n",
       "            console.log([gd, 'removed!']);\n",
       "            Plotly.purge(gd);\n",
       "            observer.disconnect();\n",
       "        }}\n",
       "}});\n",
       "\n",
       "// Listen for the removal of the full notebook cells\n",
       "var notebookContainer = gd.closest('#notebook-container');\n",
       "if (notebookContainer) {{\n",
       "    x.observe(notebookContainer, {childList: true});\n",
       "}}\n",
       "\n",
       "// Listen for the clearing of the current output cell\n",
       "var outputEl = gd.closest('.output');\n",
       "if (outputEl) {{\n",
       "    x.observe(outputEl, {childList: true});\n",
       "}}\n",
       "\n",
       "                        })                };                });            </script>        </div>"
      ]
     },
     "metadata": {},
     "output_type": "display_data"
    }
   ],
   "source": [
    "average_age_by_year_plot = px.line(average_age_by_year)\n",
    "average_age_by_year_plot.show()"
   ]
  },
  {
   "cell_type": "code",
   "execution_count": 131,
   "id": "743922fe-a6a3-441a-b897-bd0f38bdde58",
   "metadata": {},
   "outputs": [
    {
     "data": {
      "application/vnd.plotly.v1+json": {
       "config": {
        "plotlyServerURL": "https://plot.ly"
       },
       "data": [
        {
         "hovertemplate": "Type=Accidental<br>Year=%{x}<br>Age=%{y}<extra></extra>",
         "legendgroup": "Accidental",
         "marker": {
          "color": "#636efa",
          "symbol": "circle"
         },
         "mode": "markers",
         "name": "Accidental",
         "orientation": "v",
         "showlegend": true,
         "type": "scatter",
         "x": [
          2008,
          2008,
          2008,
          2008,
          2008,
          2009,
          2009,
          2009,
          2009,
          2009,
          2009,
          2010,
          2010,
          2010,
          2010,
          2010,
          2010,
          2010,
          2010,
          2010,
          2010,
          2010,
          2010,
          2010,
          2011,
          2011,
          2011,
          2011,
          2011,
          2011,
          2011,
          2011,
          2011,
          2011,
          2011,
          2011,
          2011,
          2012,
          2012,
          2012,
          2012,
          2012,
          2012,
          2012,
          2012,
          2012,
          2012,
          2012,
          2013,
          2013,
          2013,
          2013,
          2013,
          2013,
          2013,
          2013,
          2014,
          2014,
          2014,
          2014,
          2015,
          2015,
          2015,
          2015,
          2015,
          2015,
          2015,
          2016,
          2016,
          2016,
          2016,
          2016,
          2016,
          2016,
          2016,
          2016,
          2016,
          2016,
          2016,
          2016,
          2016,
          2016,
          2016,
          2016,
          2017,
          2017,
          2017,
          2017,
          2017,
          2017,
          2017,
          2017,
          2017,
          2017,
          2017,
          2017,
          2017,
          2017,
          2017,
          2017,
          2017,
          2017,
          2017,
          2017,
          2017,
          2017,
          2017,
          2017,
          2017,
          2018,
          2018,
          2018,
          2018,
          2018,
          2018,
          2018,
          2018,
          2018,
          2018,
          2018,
          2018,
          2018,
          2018,
          2018,
          2018,
          2018,
          2018,
          2018,
          2018,
          2018,
          2018,
          2019,
          2019,
          2019,
          2019,
          2019,
          2019,
          2019,
          2019,
          2019,
          2019,
          2019,
          2019,
          2019,
          2019,
          2019,
          2019,
          2019,
          2019,
          2019,
          2019,
          2019,
          2019,
          2020,
          2020,
          2020,
          2020,
          2020,
          2020,
          2020,
          2020,
          2020,
          2020,
          2020,
          2020,
          2020,
          2020,
          2020,
          2020,
          2020,
          2020,
          2020,
          2020,
          2020,
          2020,
          2020,
          2020,
          2020,
          2020,
          2020,
          2020,
          2020,
          2020,
          2020,
          2020,
          2020,
          2020,
          2020,
          2020,
          2020,
          2020,
          2020,
          2021,
          2021,
          2021,
          2021,
          2021,
          2021,
          2021,
          2021,
          2021,
          2021,
          2021,
          2021,
          2021,
          2021,
          2021,
          2021,
          2021,
          2021,
          2021,
          2021,
          2021,
          2021,
          2021,
          2021,
          2021,
          2021,
          2021,
          2021,
          2021,
          2021,
          2021,
          2022,
          2022,
          2022,
          2022,
          2022,
          2022,
          2022,
          2022,
          2022,
          2022,
          2022,
          2022,
          2022,
          2022,
          2022,
          2022,
          2022,
          2022,
          2022,
          2022,
          2022,
          2022,
          2022,
          2022,
          2022,
          2022,
          2022,
          2022,
          2022,
          2022,
          2022,
          2022,
          2022
         ],
         "xaxis": "x",
         "y": [
          38,
          43,
          55,
          52,
          42,
          52,
          44,
          25,
          41,
          33,
          52,
          32,
          45,
          53,
          44,
          29,
          36,
          47,
          36,
          26,
          20,
          51,
          55,
          29,
          56,
          57,
          28,
          50,
          40,
          23,
          47,
          22,
          24,
          40,
          46,
          57,
          24,
          44,
          33,
          65,
          71,
          54,
          24,
          45,
          59,
          53,
          37,
          27,
          56,
          53,
          31,
          48,
          43,
          36,
          56,
          25,
          31,
          53,
          50,
          56,
          53,
          29,
          68,
          36,
          48,
          31,
          38,
          50,
          50,
          29,
          30,
          61,
          37,
          48,
          52,
          50,
          36,
          37,
          40,
          26,
          27,
          66,
          52,
          37,
          32,
          48,
          26,
          30,
          65,
          32,
          26,
          60,
          28,
          57,
          25,
          57,
          45,
          33,
          40,
          45,
          43,
          45,
          50,
          35,
          50,
          72,
          23,
          31,
          21,
          36,
          25,
          56,
          37,
          33,
          52,
          64,
          25,
          40,
          47,
          40,
          28,
          51,
          56,
          34,
          31,
          35,
          53,
          34,
          23,
          48,
          94,
          33,
          51,
          32,
          44,
          41,
          56,
          61,
          27,
          60,
          30,
          58,
          29,
          66,
          66,
          24,
          60,
          61,
          57,
          43,
          30,
          66,
          24,
          25,
          57,
          35,
          41,
          57,
          34,
          51,
          39,
          29,
          39,
          29,
          38,
          33,
          35,
          39,
          31,
          58,
          41,
          37,
          26,
          38,
          34,
          55,
          30,
          29,
          29,
          36,
          45,
          26,
          50,
          54,
          35,
          51,
          37,
          27,
          27,
          40,
          40,
          34,
          60,
          35,
          58,
          35,
          29,
          28,
          26,
          31,
          45,
          21,
          29,
          26,
          39,
          32,
          40,
          41,
          38,
          38,
          53,
          50,
          36,
          42,
          36,
          32,
          23,
          31,
          46,
          31,
          46,
          35,
          26,
          31,
          53,
          34,
          23,
          59,
          47,
          51,
          51,
          56,
          44,
          45,
          59,
          63,
          59,
          37,
          32,
          68,
          57,
          31,
          36,
          35,
          56,
          41,
          45,
          44,
          41,
          61,
          36,
          64,
          51,
          43,
          38,
          32
         ],
         "yaxis": "y"
        },
        {
         "hovertemplate": "Type=Intentional<br>Year=%{x}<br>Age=%{y}<extra></extra>",
         "legendgroup": "Intentional",
         "marker": {
          "color": "#EF553B",
          "symbol": "circle"
         },
         "mode": "markers",
         "name": "Intentional",
         "orientation": "v",
         "showlegend": true,
         "type": "scatter",
         "x": [
          2010,
          2010,
          2012,
          2012,
          2013,
          2013,
          2013,
          2014,
          2014,
          2014,
          2014,
          2014,
          2015,
          2015,
          2015,
          2015,
          2015,
          2016,
          2016,
          2016,
          2016,
          2017,
          2017,
          2017,
          2017,
          2018,
          2018,
          2020,
          2022,
          2022,
          2022,
          2022
         ],
         "xaxis": "x",
         "y": [
          28,
          47,
          42,
          48,
          47,
          53,
          32,
          63,
          32,
          36,
          83,
          27,
          18,
          28,
          49,
          61,
          47,
          56,
          69,
          51,
          38,
          50,
          73,
          60,
          22,
          36,
          42,
          33,
          95,
          74,
          35,
          15
         ],
         "yaxis": "y"
        }
       ],
       "layout": {
        "autosize": true,
        "legend": {
         "title": {
          "text": "Type"
         },
         "tracegroupgap": 0
        },
        "margin": {
         "t": 60
        },
        "template": {
         "data": {
          "bar": [
           {
            "error_x": {
             "color": "#2a3f5f"
            },
            "error_y": {
             "color": "#2a3f5f"
            },
            "marker": {
             "line": {
              "color": "#E5ECF6",
              "width": 0.5
             },
             "pattern": {
              "fillmode": "overlay",
              "size": 10,
              "solidity": 0.2
             }
            },
            "type": "bar"
           }
          ],
          "barpolar": [
           {
            "marker": {
             "line": {
              "color": "#E5ECF6",
              "width": 0.5
             },
             "pattern": {
              "fillmode": "overlay",
              "size": 10,
              "solidity": 0.2
             }
            },
            "type": "barpolar"
           }
          ],
          "carpet": [
           {
            "aaxis": {
             "endlinecolor": "#2a3f5f",
             "gridcolor": "white",
             "linecolor": "white",
             "minorgridcolor": "white",
             "startlinecolor": "#2a3f5f"
            },
            "baxis": {
             "endlinecolor": "#2a3f5f",
             "gridcolor": "white",
             "linecolor": "white",
             "minorgridcolor": "white",
             "startlinecolor": "#2a3f5f"
            },
            "type": "carpet"
           }
          ],
          "choropleth": [
           {
            "colorbar": {
             "outlinewidth": 0,
             "ticks": ""
            },
            "type": "choropleth"
           }
          ],
          "contour": [
           {
            "colorbar": {
             "outlinewidth": 0,
             "ticks": ""
            },
            "colorscale": [
             [
              0,
              "#0d0887"
             ],
             [
              0.1111111111111111,
              "#46039f"
             ],
             [
              0.2222222222222222,
              "#7201a8"
             ],
             [
              0.3333333333333333,
              "#9c179e"
             ],
             [
              0.4444444444444444,
              "#bd3786"
             ],
             [
              0.5555555555555556,
              "#d8576b"
             ],
             [
              0.6666666666666666,
              "#ed7953"
             ],
             [
              0.7777777777777778,
              "#fb9f3a"
             ],
             [
              0.8888888888888888,
              "#fdca26"
             ],
             [
              1,
              "#f0f921"
             ]
            ],
            "type": "contour"
           }
          ],
          "contourcarpet": [
           {
            "colorbar": {
             "outlinewidth": 0,
             "ticks": ""
            },
            "type": "contourcarpet"
           }
          ],
          "heatmap": [
           {
            "colorbar": {
             "outlinewidth": 0,
             "ticks": ""
            },
            "colorscale": [
             [
              0,
              "#0d0887"
             ],
             [
              0.1111111111111111,
              "#46039f"
             ],
             [
              0.2222222222222222,
              "#7201a8"
             ],
             [
              0.3333333333333333,
              "#9c179e"
             ],
             [
              0.4444444444444444,
              "#bd3786"
             ],
             [
              0.5555555555555556,
              "#d8576b"
             ],
             [
              0.6666666666666666,
              "#ed7953"
             ],
             [
              0.7777777777777778,
              "#fb9f3a"
             ],
             [
              0.8888888888888888,
              "#fdca26"
             ],
             [
              1,
              "#f0f921"
             ]
            ],
            "type": "heatmap"
           }
          ],
          "heatmapgl": [
           {
            "colorbar": {
             "outlinewidth": 0,
             "ticks": ""
            },
            "colorscale": [
             [
              0,
              "#0d0887"
             ],
             [
              0.1111111111111111,
              "#46039f"
             ],
             [
              0.2222222222222222,
              "#7201a8"
             ],
             [
              0.3333333333333333,
              "#9c179e"
             ],
             [
              0.4444444444444444,
              "#bd3786"
             ],
             [
              0.5555555555555556,
              "#d8576b"
             ],
             [
              0.6666666666666666,
              "#ed7953"
             ],
             [
              0.7777777777777778,
              "#fb9f3a"
             ],
             [
              0.8888888888888888,
              "#fdca26"
             ],
             [
              1,
              "#f0f921"
             ]
            ],
            "type": "heatmapgl"
           }
          ],
          "histogram": [
           {
            "marker": {
             "pattern": {
              "fillmode": "overlay",
              "size": 10,
              "solidity": 0.2
             }
            },
            "type": "histogram"
           }
          ],
          "histogram2d": [
           {
            "colorbar": {
             "outlinewidth": 0,
             "ticks": ""
            },
            "colorscale": [
             [
              0,
              "#0d0887"
             ],
             [
              0.1111111111111111,
              "#46039f"
             ],
             [
              0.2222222222222222,
              "#7201a8"
             ],
             [
              0.3333333333333333,
              "#9c179e"
             ],
             [
              0.4444444444444444,
              "#bd3786"
             ],
             [
              0.5555555555555556,
              "#d8576b"
             ],
             [
              0.6666666666666666,
              "#ed7953"
             ],
             [
              0.7777777777777778,
              "#fb9f3a"
             ],
             [
              0.8888888888888888,
              "#fdca26"
             ],
             [
              1,
              "#f0f921"
             ]
            ],
            "type": "histogram2d"
           }
          ],
          "histogram2dcontour": [
           {
            "colorbar": {
             "outlinewidth": 0,
             "ticks": ""
            },
            "colorscale": [
             [
              0,
              "#0d0887"
             ],
             [
              0.1111111111111111,
              "#46039f"
             ],
             [
              0.2222222222222222,
              "#7201a8"
             ],
             [
              0.3333333333333333,
              "#9c179e"
             ],
             [
              0.4444444444444444,
              "#bd3786"
             ],
             [
              0.5555555555555556,
              "#d8576b"
             ],
             [
              0.6666666666666666,
              "#ed7953"
             ],
             [
              0.7777777777777778,
              "#fb9f3a"
             ],
             [
              0.8888888888888888,
              "#fdca26"
             ],
             [
              1,
              "#f0f921"
             ]
            ],
            "type": "histogram2dcontour"
           }
          ],
          "mesh3d": [
           {
            "colorbar": {
             "outlinewidth": 0,
             "ticks": ""
            },
            "type": "mesh3d"
           }
          ],
          "parcoords": [
           {
            "line": {
             "colorbar": {
              "outlinewidth": 0,
              "ticks": ""
             }
            },
            "type": "parcoords"
           }
          ],
          "pie": [
           {
            "automargin": true,
            "type": "pie"
           }
          ],
          "scatter": [
           {
            "fillpattern": {
             "fillmode": "overlay",
             "size": 10,
             "solidity": 0.2
            },
            "type": "scatter"
           }
          ],
          "scatter3d": [
           {
            "line": {
             "colorbar": {
              "outlinewidth": 0,
              "ticks": ""
             }
            },
            "marker": {
             "colorbar": {
              "outlinewidth": 0,
              "ticks": ""
             }
            },
            "type": "scatter3d"
           }
          ],
          "scattercarpet": [
           {
            "marker": {
             "colorbar": {
              "outlinewidth": 0,
              "ticks": ""
             }
            },
            "type": "scattercarpet"
           }
          ],
          "scattergeo": [
           {
            "marker": {
             "colorbar": {
              "outlinewidth": 0,
              "ticks": ""
             }
            },
            "type": "scattergeo"
           }
          ],
          "scattergl": [
           {
            "marker": {
             "colorbar": {
              "outlinewidth": 0,
              "ticks": ""
             }
            },
            "type": "scattergl"
           }
          ],
          "scattermapbox": [
           {
            "marker": {
             "colorbar": {
              "outlinewidth": 0,
              "ticks": ""
             }
            },
            "type": "scattermapbox"
           }
          ],
          "scatterpolar": [
           {
            "marker": {
             "colorbar": {
              "outlinewidth": 0,
              "ticks": ""
             }
            },
            "type": "scatterpolar"
           }
          ],
          "scatterpolargl": [
           {
            "marker": {
             "colorbar": {
              "outlinewidth": 0,
              "ticks": ""
             }
            },
            "type": "scatterpolargl"
           }
          ],
          "scatterternary": [
           {
            "marker": {
             "colorbar": {
              "outlinewidth": 0,
              "ticks": ""
             }
            },
            "type": "scatterternary"
           }
          ],
          "surface": [
           {
            "colorbar": {
             "outlinewidth": 0,
             "ticks": ""
            },
            "colorscale": [
             [
              0,
              "#0d0887"
             ],
             [
              0.1111111111111111,
              "#46039f"
             ],
             [
              0.2222222222222222,
              "#7201a8"
             ],
             [
              0.3333333333333333,
              "#9c179e"
             ],
             [
              0.4444444444444444,
              "#bd3786"
             ],
             [
              0.5555555555555556,
              "#d8576b"
             ],
             [
              0.6666666666666666,
              "#ed7953"
             ],
             [
              0.7777777777777778,
              "#fb9f3a"
             ],
             [
              0.8888888888888888,
              "#fdca26"
             ],
             [
              1,
              "#f0f921"
             ]
            ],
            "type": "surface"
           }
          ],
          "table": [
           {
            "cells": {
             "fill": {
              "color": "#EBF0F8"
             },
             "line": {
              "color": "white"
             }
            },
            "header": {
             "fill": {
              "color": "#C8D4E3"
             },
             "line": {
              "color": "white"
             }
            },
            "type": "table"
           }
          ]
         },
         "layout": {
          "annotationdefaults": {
           "arrowcolor": "#2a3f5f",
           "arrowhead": 0,
           "arrowwidth": 1
          },
          "autotypenumbers": "strict",
          "coloraxis": {
           "colorbar": {
            "outlinewidth": 0,
            "ticks": ""
           }
          },
          "colorscale": {
           "diverging": [
            [
             0,
             "#8e0152"
            ],
            [
             0.1,
             "#c51b7d"
            ],
            [
             0.2,
             "#de77ae"
            ],
            [
             0.3,
             "#f1b6da"
            ],
            [
             0.4,
             "#fde0ef"
            ],
            [
             0.5,
             "#f7f7f7"
            ],
            [
             0.6,
             "#e6f5d0"
            ],
            [
             0.7,
             "#b8e186"
            ],
            [
             0.8,
             "#7fbc41"
            ],
            [
             0.9,
             "#4d9221"
            ],
            [
             1,
             "#276419"
            ]
           ],
           "sequential": [
            [
             0,
             "#0d0887"
            ],
            [
             0.1111111111111111,
             "#46039f"
            ],
            [
             0.2222222222222222,
             "#7201a8"
            ],
            [
             0.3333333333333333,
             "#9c179e"
            ],
            [
             0.4444444444444444,
             "#bd3786"
            ],
            [
             0.5555555555555556,
             "#d8576b"
            ],
            [
             0.6666666666666666,
             "#ed7953"
            ],
            [
             0.7777777777777778,
             "#fb9f3a"
            ],
            [
             0.8888888888888888,
             "#fdca26"
            ],
            [
             1,
             "#f0f921"
            ]
           ],
           "sequentialminus": [
            [
             0,
             "#0d0887"
            ],
            [
             0.1111111111111111,
             "#46039f"
            ],
            [
             0.2222222222222222,
             "#7201a8"
            ],
            [
             0.3333333333333333,
             "#9c179e"
            ],
            [
             0.4444444444444444,
             "#bd3786"
            ],
            [
             0.5555555555555556,
             "#d8576b"
            ],
            [
             0.6666666666666666,
             "#ed7953"
            ],
            [
             0.7777777777777778,
             "#fb9f3a"
            ],
            [
             0.8888888888888888,
             "#fdca26"
            ],
            [
             1,
             "#f0f921"
            ]
           ]
          },
          "colorway": [
           "#636efa",
           "#EF553B",
           "#00cc96",
           "#ab63fa",
           "#FFA15A",
           "#19d3f3",
           "#FF6692",
           "#B6E880",
           "#FF97FF",
           "#FECB52"
          ],
          "font": {
           "color": "#2a3f5f"
          },
          "geo": {
           "bgcolor": "white",
           "lakecolor": "white",
           "landcolor": "#E5ECF6",
           "showlakes": true,
           "showland": true,
           "subunitcolor": "white"
          },
          "hoverlabel": {
           "align": "left"
          },
          "hovermode": "closest",
          "mapbox": {
           "style": "light"
          },
          "paper_bgcolor": "white",
          "plot_bgcolor": "#E5ECF6",
          "polar": {
           "angularaxis": {
            "gridcolor": "white",
            "linecolor": "white",
            "ticks": ""
           },
           "bgcolor": "#E5ECF6",
           "radialaxis": {
            "gridcolor": "white",
            "linecolor": "white",
            "ticks": ""
           }
          },
          "scene": {
           "xaxis": {
            "backgroundcolor": "#E5ECF6",
            "gridcolor": "white",
            "gridwidth": 2,
            "linecolor": "white",
            "showbackground": true,
            "ticks": "",
            "zerolinecolor": "white"
           },
           "yaxis": {
            "backgroundcolor": "#E5ECF6",
            "gridcolor": "white",
            "gridwidth": 2,
            "linecolor": "white",
            "showbackground": true,
            "ticks": "",
            "zerolinecolor": "white"
           },
           "zaxis": {
            "backgroundcolor": "#E5ECF6",
            "gridcolor": "white",
            "gridwidth": 2,
            "linecolor": "white",
            "showbackground": true,
            "ticks": "",
            "zerolinecolor": "white"
           }
          },
          "shapedefaults": {
           "line": {
            "color": "#2a3f5f"
           }
          },
          "ternary": {
           "aaxis": {
            "gridcolor": "white",
            "linecolor": "white",
            "ticks": ""
           },
           "baxis": {
            "gridcolor": "white",
            "linecolor": "white",
            "ticks": ""
           },
           "bgcolor": "#E5ECF6",
           "caxis": {
            "gridcolor": "white",
            "linecolor": "white",
            "ticks": ""
           }
          },
          "title": {
           "x": 0.05
          },
          "xaxis": {
           "automargin": true,
           "gridcolor": "white",
           "linecolor": "white",
           "ticks": "",
           "title": {
            "standoff": 15
           },
           "zerolinecolor": "white",
           "zerolinewidth": 2
          },
          "yaxis": {
           "automargin": true,
           "gridcolor": "white",
           "linecolor": "white",
           "ticks": "",
           "title": {
            "standoff": 15
           },
           "zerolinecolor": "white",
           "zerolinewidth": 2
          }
         }
        },
        "xaxis": {
         "anchor": "y",
         "autorange": true,
         "domain": [
          0,
          1
         ],
         "range": [
          2007.1098265895953,
          2022.8901734104047
         ],
         "title": {
          "text": "Year"
         },
         "type": "linear"
        },
        "yaxis": {
         "anchor": "x",
         "autorange": true,
         "domain": [
          0,
          1
         ],
         "range": [
          8.805774278215223,
          101.19422572178478
         ],
         "title": {
          "text": "Age"
         },
         "type": "linear"
        }
       }
      },
      "image/png": "[encoded data removed]",
      "text/html": [
       "<div>                            <div id=\"17f4743d-66bd-4258-8212-04c9299b488a\" class=\"plotly-graph-div\" style=\"height:525px; width:100%;\"></div>            <script type=\"text/javascript\">                require([\"plotly\"], function(Plotly) {                    window.PLOTLYENV=window.PLOTLYENV || {};                                    if (document.getElementById(\"17f4743d-66bd-4258-8212-04c9299b488a\")) {                    Plotly.newPlot(                        \"17f4743d-66bd-4258-8212-04c9299b488a\",                        [{\"hovertemplate\":\"Type=Accidental\\u003cbr\\u003eYear=%{x}\\u003cbr\\u003eAge=%{y}\\u003cextra\\u003e\\u003c\\u002fextra\\u003e\",\"legendgroup\":\"Accidental\",\"marker\":{\"color\":\"#636efa\",\"symbol\":\"circle\"},\"mode\":\"markers\",\"name\":\"Accidental\",\"orientation\":\"v\",\"showlegend\":true,\"x\":[2008,2008,2008,2008,2008,2009,2009,2009,2009,2009,2009,2010,2010,2010,2010,2010,2010,2010,2010,2010,2010,2010,2010,2010,2011,2011,2011,2011,2011,2011,2011,2011,2011,2011,2011,2011,2011,2012,2012,2012,2012,2012,2012,2012,2012,2012,2012,2012,2013,2013,2013,2013,2013,2013,2013,2013,2014,2014,2014,2014,2015,2015,2015,2015,2015,2015,2015,2016,2016,2016,2016,2016,2016,2016,2016,2016,2016,2016,2016,2016,2016,2016,2016,2016,2017,2017,2017,2017,2017,2017,2017,2017,2017,2017,2017,2017,2017,2017,2017,2017,2017,2017,2017,2017,2017,2017,2017,2017,2017,2018,2018,2018,2018,2018,2018,2018,2018,2018,2018,2018,2018,2018,2018,2018,2018,2018,2018,2018,2018,2018,2018,2019,2019,2019,2019,2019,2019,2019,2019,2019,2019,2019,2019,2019,2019,2019,2019,2019,2019,2019,2019,2019,2019,2020,2020,2020,2020,2020,2020,2020,2020,2020,2020,2020,2020,2020,2020,2020,2020,2020,2020,2020,2020,2020,2020,2020,2020,2020,2020,2020,2020,2020,2020,2020,2020,2020,2020,2020,2020,2020,2020,2020,2021,2021,2021,2021,2021,2021,2021,2021,2021,2021,2021,2021,2021,2021,2021,2021,2021,2021,2021,2021,2021,2021,2021,2021,2021,2021,2021,2021,2021,2021,2021,2022,2022,2022,2022,2022,2022,2022,2022,2022,2022,2022,2022,2022,2022,2022,2022,2022,2022,2022,2022,2022,2022,2022,2022,2022,2022,2022,2022,2022,2022,2022,2022,2022],\"xaxis\":\"x\",\"y\":[38,43,55,52,42,52,44,25,41,33,52,32,45,53,44,29,36,47,36,26,20,51,55,29,56,57,28,50,40,23,47,22,24,40,46,57,24,44,33,65,71,54,24,45,59,53,37,27,56,53,31,48,43,36,56,25,31,53,50,56,53,29,68,36,48,31,38,50,50,29,30,61,37,48,52,50,36,37,40,26,27,66,52,37,32,48,26,30,65,32,26,60,28,57,25,57,45,33,40,45,43,45,50,35,50,72,23,31,21,36,25,56,37,33,52,64,25,40,47,40,28,51,56,34,31,35,53,34,23,48,94,33,51,32,44,41,56,61,27,60,30,58,29,66,66,24,60,61,57,43,30,66,24,25,57,35,41,57,34,51,39,29,39,29,38,33,35,39,31,58,41,37,26,38,34,55,30,29,29,36,45,26,50,54,35,51,37,27,27,40,40,34,60,35,58,35,29,28,26,31,45,21,29,26,39,32,40,41,38,38,53,50,36,42,36,32,23,31,46,31,46,35,26,31,53,34,23,59,47,51,51,56,44,45,59,63,59,37,32,68,57,31,36,35,56,41,45,44,41,61,36,64,51,43,38,32],\"yaxis\":\"y\",\"type\":\"scatter\"},{\"hovertemplate\":\"Type=Intentional\\u003cbr\\u003eYear=%{x}\\u003cbr\\u003eAge=%{y}\\u003cextra\\u003e\\u003c\\u002fextra\\u003e\",\"legendgroup\":\"Intentional\",\"marker\":{\"color\":\"#EF553B\",\"symbol\":\"circle\"},\"mode\":\"markers\",\"name\":\"Intentional\",\"orientation\":\"v\",\"showlegend\":true,\"x\":[2010,2010,2012,2012,2013,2013,2013,2014,2014,2014,2014,2014,2015,2015,2015,2015,2015,2016,2016,2016,2016,2017,2017,2017,2017,2018,2018,2020,2022,2022,2022,2022],\"xaxis\":\"x\",\"y\":[28,47,42,48,47,53,32,63,32,36,83,27,18,28,49,61,47,56,69,51,38,50,73,60,22,36,42,33,95,74,35,15],\"yaxis\":\"y\",\"type\":\"scatter\"}],                        {\"template\":{\"data\":{\"histogram2dcontour\":[{\"type\":\"histogram2dcontour\",\"colorbar\":{\"outlinewidth\":0,\"ticks\":\"\"},\"colorscale\":[[0.0,\"#0d0887\"],[0.1111111111111111,\"#46039f\"],[0.2222222222222222,\"#7201a8\"],[0.3333333333333333,\"#9c179e\"],[0.4444444444444444,\"#bd3786\"],[0.5555555555555556,\"#d8576b\"],[0.6666666666666666,\"#ed7953\"],[0.7777777777777778,\"#fb9f3a\"],[0.8888888888888888,\"#fdca26\"],[1.0,\"#f0f921\"]]}],\"choropleth\":[{\"type\":\"choropleth\",\"colorbar\":{\"outlinewidth\":0,\"ticks\":\"\"}}],\"histogram2d\":[{\"type\":\"histogram2d\",\"colorbar\":{\"outlinewidth\":0,\"ticks\":\"\"},\"colorscale\":[[0.0,\"#0d0887\"],[0.1111111111111111,\"#46039f\"],[0.2222222222222222,\"#7201a8\"],[0.3333333333333333,\"#9c179e\"],[0.4444444444444444,\"#bd3786\"],[0.5555555555555556,\"#d8576b\"],[0.6666666666666666,\"#ed7953\"],[0.7777777777777778,\"#fb9f3a\"],[0.8888888888888888,\"#fdca26\"],[1.0,\"#f0f921\"]]}],\"heatmap\":[{\"type\":\"heatmap\",\"colorbar\":{\"outlinewidth\":0,\"ticks\":\"\"},\"colorscale\":[[0.0,\"#0d0887\"],[0.1111111111111111,\"#46039f\"],[0.2222222222222222,\"#7201a8\"],[0.3333333333333333,\"#9c179e\"],[0.4444444444444444,\"#bd3786\"],[0.5555555555555556,\"#d8576b\"],[0.6666666666666666,\"#ed7953\"],[0.7777777777777778,\"#fb9f3a\"],[0.8888888888888888,\"#fdca26\"],[1.0,\"#f0f921\"]]}],\"heatmapgl\":[{\"type\":\"heatmapgl\",\"colorbar\":{\"outlinewidth\":0,\"ticks\":\"\"},\"colorscale\":[[0.0,\"#0d0887\"],[0.1111111111111111,\"#46039f\"],[0.2222222222222222,\"#7201a8\"],[0.3333333333333333,\"#9c179e\"],[0.4444444444444444,\"#bd3786\"],[0.5555555555555556,\"#d8576b\"],[0.6666666666666666,\"#ed7953\"],[0.7777777777777778,\"#fb9f3a\"],[0.8888888888888888,\"#fdca26\"],[1.0,\"#f0f921\"]]}],\"contourcarpet\":[{\"type\":\"contourcarpet\",\"colorbar\":{\"outlinewidth\":0,\"ticks\":\"\"}}],\"contour\":[{\"type\":\"contour\",\"colorbar\":{\"outlinewidth\":0,\"ticks\":\"\"},\"colorscale\":[[0.0,\"#0d0887\"],[0.1111111111111111,\"#46039f\"],[0.2222222222222222,\"#7201a8\"],[0.3333333333333333,\"#9c179e\"],[0.4444444444444444,\"#bd3786\"],[0.5555555555555556,\"#d8576b\"],[0.6666666666666666,\"#ed7953\"],[0.7777777777777778,\"#fb9f3a\"],[0.8888888888888888,\"#fdca26\"],[1.0,\"#f0f921\"]]}],\"surface\":[{\"type\":\"surface\",\"colorbar\":{\"outlinewidth\":0,\"ticks\":\"\"},\"colorscale\":[[0.0,\"#0d0887\"],[0.1111111111111111,\"#46039f\"],[0.2222222222222222,\"#7201a8\"],[0.3333333333333333,\"#9c179e\"],[0.4444444444444444,\"#bd3786\"],[0.5555555555555556,\"#d8576b\"],[0.6666666666666666,\"#ed7953\"],[0.7777777777777778,\"#fb9f3a\"],[0.8888888888888888,\"#fdca26\"],[1.0,\"#f0f921\"]]}],\"mesh3d\":[{\"type\":\"mesh3d\",\"colorbar\":{\"outlinewidth\":0,\"ticks\":\"\"}}],\"scatter\":[{\"fillpattern\":{\"fillmode\":\"overlay\",\"size\":10,\"solidity\":0.2},\"type\":\"scatter\"}],\"parcoords\":[{\"type\":\"parcoords\",\"line\":{\"colorbar\":{\"outlinewidth\":0,\"ticks\":\"\"}}}],\"scatterpolargl\":[{\"type\":\"scatterpolargl\",\"marker\":{\"colorbar\":{\"outlinewidth\":0,\"ticks\":\"\"}}}],\"bar\":[{\"error_x\":{\"color\":\"#2a3f5f\"},\"error_y\":{\"color\":\"#2a3f5f\"},\"marker\":{\"line\":{\"color\":\"#E5ECF6\",\"width\":0.5},\"pattern\":{\"fillmode\":\"overlay\",\"size\":10,\"solidity\":0.2}},\"type\":\"bar\"}],\"scattergeo\":[{\"type\":\"scattergeo\",\"marker\":{\"colorbar\":{\"outlinewidth\":0,\"ticks\":\"\"}}}],\"scatterpolar\":[{\"type\":\"scatterpolar\",\"marker\":{\"colorbar\":{\"outlinewidth\":0,\"ticks\":\"\"}}}],\"histogram\":[{\"marker\":{\"pattern\":{\"fillmode\":\"overlay\",\"size\":10,\"solidity\":0.2}},\"type\":\"histogram\"}],\"scattergl\":[{\"type\":\"scattergl\",\"marker\":{\"colorbar\":{\"outlinewidth\":0,\"ticks\":\"\"}}}],\"scatter3d\":[{\"type\":\"scatter3d\",\"line\":{\"colorbar\":{\"outlinewidth\":0,\"ticks\":\"\"}},\"marker\":{\"colorbar\":{\"outlinewidth\":0,\"ticks\":\"\"}}}],\"scattermapbox\":[{\"type\":\"scattermapbox\",\"marker\":{\"colorbar\":{\"outlinewidth\":0,\"ticks\":\"\"}}}],\"scatterternary\":[{\"type\":\"scatterternary\",\"marker\":{\"colorbar\":{\"outlinewidth\":0,\"ticks\":\"\"}}}],\"scattercarpet\":[{\"type\":\"scattercarpet\",\"marker\":{\"colorbar\":{\"outlinewidth\":0,\"ticks\":\"\"}}}],\"carpet\":[{\"aaxis\":{\"endlinecolor\":\"#2a3f5f\",\"gridcolor\":\"white\",\"linecolor\":\"white\",\"minorgridcolor\":\"white\",\"startlinecolor\":\"#2a3f5f\"},\"baxis\":{\"endlinecolor\":\"#2a3f5f\",\"gridcolor\":\"white\",\"linecolor\":\"white\",\"minorgridcolor\":\"white\",\"startlinecolor\":\"#2a3f5f\"},\"type\":\"carpet\"}],\"table\":[{\"cells\":{\"fill\":{\"color\":\"#EBF0F8\"},\"line\":{\"color\":\"white\"}},\"header\":{\"fill\":{\"color\":\"#C8D4E3\"},\"line\":{\"color\":\"white\"}},\"type\":\"table\"}],\"barpolar\":[{\"marker\":{\"line\":{\"color\":\"#E5ECF6\",\"width\":0.5},\"pattern\":{\"fillmode\":\"overlay\",\"size\":10,\"solidity\":0.2}},\"type\":\"barpolar\"}],\"pie\":[{\"automargin\":true,\"type\":\"pie\"}]},\"layout\":{\"autotypenumbers\":\"strict\",\"colorway\":[\"#636efa\",\"#EF553B\",\"#00cc96\",\"#ab63fa\",\"#FFA15A\",\"#19d3f3\",\"#FF6692\",\"#B6E880\",\"#FF97FF\",\"#FECB52\"],\"font\":{\"color\":\"#2a3f5f\"},\"hovermode\":\"closest\",\"hoverlabel\":{\"align\":\"left\"},\"paper_bgcolor\":\"white\",\"plot_bgcolor\":\"#E5ECF6\",\"polar\":{\"bgcolor\":\"#E5ECF6\",\"angularaxis\":{\"gridcolor\":\"white\",\"linecolor\":\"white\",\"ticks\":\"\"},\"radialaxis\":{\"gridcolor\":\"white\",\"linecolor\":\"white\",\"ticks\":\"\"}},\"ternary\":{\"bgcolor\":\"#E5ECF6\",\"aaxis\":{\"gridcolor\":\"white\",\"linecolor\":\"white\",\"ticks\":\"\"},\"baxis\":{\"gridcolor\":\"white\",\"linecolor\":\"white\",\"ticks\":\"\"},\"caxis\":{\"gridcolor\":\"white\",\"linecolor\":\"white\",\"ticks\":\"\"}},\"coloraxis\":{\"colorbar\":{\"outlinewidth\":0,\"ticks\":\"\"}},\"colorscale\":{\"sequential\":[[0.0,\"#0d0887\"],[0.1111111111111111,\"#46039f\"],[0.2222222222222222,\"#7201a8\"],[0.3333333333333333,\"#9c179e\"],[0.4444444444444444,\"#bd3786\"],[0.5555555555555556,\"#d8576b\"],[0.6666666666666666,\"#ed7953\"],[0.7777777777777778,\"#fb9f3a\"],[0.8888888888888888,\"#fdca26\"],[1.0,\"#f0f921\"]],\"sequentialminus\":[[0.0,\"#0d0887\"],[0.1111111111111111,\"#46039f\"],[0.2222222222222222,\"#7201a8\"],[0.3333333333333333,\"#9c179e\"],[0.4444444444444444,\"#bd3786\"],[0.5555555555555556,\"#d8576b\"],[0.6666666666666666,\"#ed7953\"],[0.7777777777777778,\"#fb9f3a\"],[0.8888888888888888,\"#fdca26\"],[1.0,\"#f0f921\"]],\"diverging\":[[0,\"#8e0152\"],[0.1,\"#c51b7d\"],[0.2,\"#de77ae\"],[0.3,\"#f1b6da\"],[0.4,\"#fde0ef\"],[0.5,\"#f7f7f7\"],[0.6,\"#e6f5d0\"],[0.7,\"#b8e186\"],[0.8,\"#7fbc41\"],[0.9,\"#4d9221\"],[1,\"#276419\"]]},\"xaxis\":{\"gridcolor\":\"white\",\"linecolor\":\"white\",\"ticks\":\"\",\"title\":{\"standoff\":15},\"zerolinecolor\":\"white\",\"automargin\":true,\"zerolinewidth\":2},\"yaxis\":{\"gridcolor\":\"white\",\"linecolor\":\"white\",\"ticks\":\"\",\"title\":{\"standoff\":15},\"zerolinecolor\":\"white\",\"automargin\":true,\"zerolinewidth\":2},\"scene\":{\"xaxis\":{\"backgroundcolor\":\"#E5ECF6\",\"gridcolor\":\"white\",\"linecolor\":\"white\",\"showbackground\":true,\"ticks\":\"\",\"zerolinecolor\":\"white\",\"gridwidth\":2},\"yaxis\":{\"backgroundcolor\":\"#E5ECF6\",\"gridcolor\":\"white\",\"linecolor\":\"white\",\"showbackground\":true,\"ticks\":\"\",\"zerolinecolor\":\"white\",\"gridwidth\":2},\"zaxis\":{\"backgroundcolor\":\"#E5ECF6\",\"gridcolor\":\"white\",\"linecolor\":\"white\",\"showbackground\":true,\"ticks\":\"\",\"zerolinecolor\":\"white\",\"gridwidth\":2}},\"shapedefaults\":{\"line\":{\"color\":\"#2a3f5f\"}},\"annotationdefaults\":{\"arrowcolor\":\"#2a3f5f\",\"arrowhead\":0,\"arrowwidth\":1},\"geo\":{\"bgcolor\":\"white\",\"landcolor\":\"#E5ECF6\",\"subunitcolor\":\"white\",\"showland\":true,\"showlakes\":true,\"lakecolor\":\"white\"},\"title\":{\"x\":0.05},\"mapbox\":{\"style\":\"light\"}}},\"xaxis\":{\"anchor\":\"y\",\"domain\":[0.0,1.0],\"title\":{\"text\":\"Year\"}},\"yaxis\":{\"anchor\":\"x\",\"domain\":[0.0,1.0],\"title\":{\"text\":\"Age\"}},\"legend\":{\"title\":{\"text\":\"Type\"},\"tracegroupgap\":0},\"margin\":{\"t\":60}},                        {\"responsive\": true}                    ).then(function(){\n",
       "                            \n",
       "var gd = document.getElementById('17f4743d-66bd-4258-8212-04c9299b488a');\n",
       "var x = new MutationObserver(function (mutations, observer) {{\n",
       "        var display = window.getComputedStyle(gd).display;\n",
       "        if (!display || display === 'none') {{\n",
       "            console.log([gd, 'removed!']);\n",
       "            Plotly.purge(gd);\n",
       "            observer.disconnect();\n",
       "        }}\n",
       "}});\n",
       "\n",
       "// Listen for the removal of the full notebook cells\n",
       "var notebookContainer = gd.closest('#notebook-container');\n",
       "if (notebookContainer) {{\n",
       "    x.observe(notebookContainer, {childList: true});\n",
       "}}\n",
       "\n",
       "// Listen for the clearing of the current output cell\n",
       "var outputEl = gd.closest('.output');\n",
       "if (outputEl) {{\n",
       "    x.observe(outputEl, {childList: true});\n",
       "}}\n",
       "\n",
       "                        })                };                });            </script>        </div>"
      ]
     },
     "metadata": {},
     "output_type": "display_data"
    }
   ],
   "source": [
    "age_scatter = px.scatter(overdose_df, x='Year', y='Age', color='Type')\n",
    "age_scatter.show()"
   ]
  },
  {
   "cell_type": "code",
   "execution_count": 102,
   "id": "83e04612-9af6-4e23-a779-4b947e1217df",
   "metadata": {
    "tags": []
   },
   "outputs": [],
   "source": [
    "age_count = overdose_df['Age'].value_counts()\n",
    "min_age = overdose_df['Age'].min()\n",
    "max_age = overdose_df['Age'].max()"
   ]
  },
  {
   "cell_type": "markdown",
   "id": "b609bf3a-fd5a-40ad-af43-31aa97737caf",
   "metadata": {
    "tags": []
   },
   "source": [
    "## Type Statictics"
   ]
  },
  {
   "cell_type": "code",
   "execution_count": 103,
   "id": "68a4a471-0eff-435e-bb2f-7d4753c66b75",
   "metadata": {
    "tags": []
   },
   "outputs": [
    {
     "data": {
      "text/plain": [
       "Type\n",
       "Accidental     256\n",
       "Intentional     32\n",
       "Name: count, dtype: int64"
      ]
     },
     "execution_count": 103,
     "metadata": {},
     "output_type": "execute_result"
    }
   ],
   "source": [
    "type_count = overdose_df['Type'].value_counts()\n",
    "type_count"
   ]
  },
  {
   "cell_type": "code",
   "execution_count": 104,
   "id": "9bf4ccd7-e1a5-4efe-8f35-0b8b5ea4e584",
   "metadata": {
    "tags": []
   },
   "outputs": [],
   "source": [
    "type_count_by_year = overdose_df['Type'].groupby(overdose_df['Year']).value_counts()"
   ]
  },
  {
   "cell_type": "code",
   "execution_count": 105,
   "id": "a5271a07-f3dd-4ea4-a366-f9e5eb325a6b",
   "metadata": {
    "tags": []
   },
   "outputs": [
    {
     "data": {
      "application/vnd.plotly.v1+json": {
       "config": {
        "plotlyServerURL": "https://plot.ly"
       },
       "data": [
        {
         "domain": {
          "x": [
           0,
           1
          ],
          "y": [
           0,
           1
          ]
         },
         "hovertemplate": "Type=%{label}<br>value=%{value}<extra></extra>",
         "labels": [
          "Accidental",
          "Intentional"
         ],
         "legendgroup": "",
         "name": "",
         "showlegend": true,
         "type": "pie",
         "values": [
          256,
          32
         ]
        }
       ],
       "layout": {
        "autosize": true,
        "legend": {
         "tracegroupgap": 0
        },
        "template": {
         "data": {
          "bar": [
           {
            "error_x": {
             "color": "#2a3f5f"
            },
            "error_y": {
             "color": "#2a3f5f"
            },
            "marker": {
             "line": {
              "color": "#E5ECF6",
              "width": 0.5
             },
             "pattern": {
              "fillmode": "overlay",
              "size": 10,
              "solidity": 0.2
             }
            },
            "type": "bar"
           }
          ],
          "barpolar": [
           {
            "marker": {
             "line": {
              "color": "#E5ECF6",
              "width": 0.5
             },
             "pattern": {
              "fillmode": "overlay",
              "size": 10,
              "solidity": 0.2
             }
            },
            "type": "barpolar"
           }
          ],
          "carpet": [
           {
            "aaxis": {
             "endlinecolor": "#2a3f5f",
             "gridcolor": "white",
             "linecolor": "white",
             "minorgridcolor": "white",
             "startlinecolor": "#2a3f5f"
            },
            "baxis": {
             "endlinecolor": "#2a3f5f",
             "gridcolor": "white",
             "linecolor": "white",
             "minorgridcolor": "white",
             "startlinecolor": "#2a3f5f"
            },
            "type": "carpet"
           }
          ],
          "choropleth": [
           {
            "colorbar": {
             "outlinewidth": 0,
             "ticks": ""
            },
            "type": "choropleth"
           }
          ],
          "contour": [
           {
            "colorbar": {
             "outlinewidth": 0,
             "ticks": ""
            },
            "colorscale": [
             [
              0,
              "#0d0887"
             ],
             [
              0.1111111111111111,
              "#46039f"
             ],
             [
              0.2222222222222222,
              "#7201a8"
             ],
             [
              0.3333333333333333,
              "#9c179e"
             ],
             [
              0.4444444444444444,
              "#bd3786"
             ],
             [
              0.5555555555555556,
              "#d8576b"
             ],
             [
              0.6666666666666666,
              "#ed7953"
             ],
             [
              0.7777777777777778,
              "#fb9f3a"
             ],
             [
              0.8888888888888888,
              "#fdca26"
             ],
             [
              1,
              "#f0f921"
             ]
            ],
            "type": "contour"
           }
          ],
          "contourcarpet": [
           {
            "colorbar": {
             "outlinewidth": 0,
             "ticks": ""
            },
            "type": "contourcarpet"
           }
          ],
          "heatmap": [
           {
            "colorbar": {
             "outlinewidth": 0,
             "ticks": ""
            },
            "colorscale": [
             [
              0,
              "#0d0887"
             ],
             [
              0.1111111111111111,
              "#46039f"
             ],
             [
              0.2222222222222222,
              "#7201a8"
             ],
             [
              0.3333333333333333,
              "#9c179e"
             ],
             [
              0.4444444444444444,
              "#bd3786"
             ],
             [
              0.5555555555555556,
              "#d8576b"
             ],
             [
              0.6666666666666666,
              "#ed7953"
             ],
             [
              0.7777777777777778,
              "#fb9f3a"
             ],
             [
              0.8888888888888888,
              "#fdca26"
             ],
             [
              1,
              "#f0f921"
             ]
            ],
            "type": "heatmap"
           }
          ],
          "heatmapgl": [
           {
            "colorbar": {
             "outlinewidth": 0,
             "ticks": ""
            },
            "colorscale": [
             [
              0,
              "#0d0887"
             ],
             [
              0.1111111111111111,
              "#46039f"
             ],
             [
              0.2222222222222222,
              "#7201a8"
             ],
             [
              0.3333333333333333,
              "#9c179e"
             ],
             [
              0.4444444444444444,
              "#bd3786"
             ],
             [
              0.5555555555555556,
              "#d8576b"
             ],
             [
              0.6666666666666666,
              "#ed7953"
             ],
             [
              0.7777777777777778,
              "#fb9f3a"
             ],
             [
              0.8888888888888888,
              "#fdca26"
             ],
             [
              1,
              "#f0f921"
             ]
            ],
            "type": "heatmapgl"
           }
          ],
          "histogram": [
           {
            "marker": {
             "pattern": {
              "fillmode": "overlay",
              "size": 10,
              "solidity": 0.2
             }
            },
            "type": "histogram"
           }
          ],
          "histogram2d": [
           {
            "colorbar": {
             "outlinewidth": 0,
             "ticks": ""
            },
            "colorscale": [
             [
              0,
              "#0d0887"
             ],
             [
              0.1111111111111111,
              "#46039f"
             ],
             [
              0.2222222222222222,
              "#7201a8"
             ],
             [
              0.3333333333333333,
              "#9c179e"
             ],
             [
              0.4444444444444444,
              "#bd3786"
             ],
             [
              0.5555555555555556,
              "#d8576b"
             ],
             [
              0.6666666666666666,
              "#ed7953"
             ],
             [
              0.7777777777777778,
              "#fb9f3a"
             ],
             [
              0.8888888888888888,
              "#fdca26"
             ],
             [
              1,
              "#f0f921"
             ]
            ],
            "type": "histogram2d"
           }
          ],
          "histogram2dcontour": [
           {
            "colorbar": {
             "outlinewidth": 0,
             "ticks": ""
            },
            "colorscale": [
             [
              0,
              "#0d0887"
             ],
             [
              0.1111111111111111,
              "#46039f"
             ],
             [
              0.2222222222222222,
              "#7201a8"
             ],
             [
              0.3333333333333333,
              "#9c179e"
             ],
             [
              0.4444444444444444,
              "#bd3786"
             ],
             [
              0.5555555555555556,
              "#d8576b"
             ],
             [
              0.6666666666666666,
              "#ed7953"
             ],
             [
              0.7777777777777778,
              "#fb9f3a"
             ],
             [
              0.8888888888888888,
              "#fdca26"
             ],
             [
              1,
              "#f0f921"
             ]
            ],
            "type": "histogram2dcontour"
           }
          ],
          "mesh3d": [
           {
            "colorbar": {
             "outlinewidth": 0,
             "ticks": ""
            },
            "type": "mesh3d"
           }
          ],
          "parcoords": [
           {
            "line": {
             "colorbar": {
              "outlinewidth": 0,
              "ticks": ""
             }
            },
            "type": "parcoords"
           }
          ],
          "pie": [
           {
            "automargin": true,
            "type": "pie"
           }
          ],
          "scatter": [
           {
            "fillpattern": {
             "fillmode": "overlay",
             "size": 10,
             "solidity": 0.2
            },
            "type": "scatter"
           }
          ],
          "scatter3d": [
           {
            "line": {
             "colorbar": {
              "outlinewidth": 0,
              "ticks": ""
             }
            },
            "marker": {
             "colorbar": {
              "outlinewidth": 0,
              "ticks": ""
             }
            },
            "type": "scatter3d"
           }
          ],
          "scattercarpet": [
           {
            "marker": {
             "colorbar": {
              "outlinewidth": 0,
              "ticks": ""
             }
            },
            "type": "scattercarpet"
           }
          ],
          "scattergeo": [
           {
            "marker": {
             "colorbar": {
              "outlinewidth": 0,
              "ticks": ""
             }
            },
            "type": "scattergeo"
           }
          ],
          "scattergl": [
           {
            "marker": {
             "colorbar": {
              "outlinewidth": 0,
              "ticks": ""
             }
            },
            "type": "scattergl"
           }
          ],
          "scattermapbox": [
           {
            "marker": {
             "colorbar": {
              "outlinewidth": 0,
              "ticks": ""
             }
            },
            "type": "scattermapbox"
           }
          ],
          "scatterpolar": [
           {
            "marker": {
             "colorbar": {
              "outlinewidth": 0,
              "ticks": ""
             }
            },
            "type": "scatterpolar"
           }
          ],
          "scatterpolargl": [
           {
            "marker": {
             "colorbar": {
              "outlinewidth": 0,
              "ticks": ""
             }
            },
            "type": "scatterpolargl"
           }
          ],
          "scatterternary": [
           {
            "marker": {
             "colorbar": {
              "outlinewidth": 0,
              "ticks": ""
             }
            },
            "type": "scatterternary"
           }
          ],
          "surface": [
           {
            "colorbar": {
             "outlinewidth": 0,
             "ticks": ""
            },
            "colorscale": [
             [
              0,
              "#0d0887"
             ],
             [
              0.1111111111111111,
              "#46039f"
             ],
             [
              0.2222222222222222,
              "#7201a8"
             ],
             [
              0.3333333333333333,
              "#9c179e"
             ],
             [
              0.4444444444444444,
              "#bd3786"
             ],
             [
              0.5555555555555556,
              "#d8576b"
             ],
             [
              0.6666666666666666,
              "#ed7953"
             ],
             [
              0.7777777777777778,
              "#fb9f3a"
             ],
             [
              0.8888888888888888,
              "#fdca26"
             ],
             [
              1,
              "#f0f921"
             ]
            ],
            "type": "surface"
           }
          ],
          "table": [
           {
            "cells": {
             "fill": {
              "color": "#EBF0F8"
             },
             "line": {
              "color": "white"
             }
            },
            "header": {
             "fill": {
              "color": "#C8D4E3"
             },
             "line": {
              "color": "white"
             }
            },
            "type": "table"
           }
          ]
         },
         "layout": {
          "annotationdefaults": {
           "arrowcolor": "#2a3f5f",
           "arrowhead": 0,
           "arrowwidth": 1
          },
          "autotypenumbers": "strict",
          "coloraxis": {
           "colorbar": {
            "outlinewidth": 0,
            "ticks": ""
           }
          },
          "colorscale": {
           "diverging": [
            [
             0,
             "#8e0152"
            ],
            [
             0.1,
             "#c51b7d"
            ],
            [
             0.2,
             "#de77ae"
            ],
            [
             0.3,
             "#f1b6da"
            ],
            [
             0.4,
             "#fde0ef"
            ],
            [
             0.5,
             "#f7f7f7"
            ],
            [
             0.6,
             "#e6f5d0"
            ],
            [
             0.7,
             "#b8e186"
            ],
            [
             0.8,
             "#7fbc41"
            ],
            [
             0.9,
             "#4d9221"
            ],
            [
             1,
             "#276419"
            ]
           ],
           "sequential": [
            [
             0,
             "#0d0887"
            ],
            [
             0.1111111111111111,
             "#46039f"
            ],
            [
             0.2222222222222222,
             "#7201a8"
            ],
            [
             0.3333333333333333,
             "#9c179e"
            ],
            [
             0.4444444444444444,
             "#bd3786"
            ],
            [
             0.5555555555555556,
             "#d8576b"
            ],
            [
             0.6666666666666666,
             "#ed7953"
            ],
            [
             0.7777777777777778,
             "#fb9f3a"
            ],
            [
             0.8888888888888888,
             "#fdca26"
            ],
            [
             1,
             "#f0f921"
            ]
           ],
           "sequentialminus": [
            [
             0,
             "#0d0887"
            ],
            [
             0.1111111111111111,
             "#46039f"
            ],
            [
             0.2222222222222222,
             "#7201a8"
            ],
            [
             0.3333333333333333,
             "#9c179e"
            ],
            [
             0.4444444444444444,
             "#bd3786"
            ],
            [
             0.5555555555555556,
             "#d8576b"
            ],
            [
             0.6666666666666666,
             "#ed7953"
            ],
            [
             0.7777777777777778,
             "#fb9f3a"
            ],
            [
             0.8888888888888888,
             "#fdca26"
            ],
            [
             1,
             "#f0f921"
            ]
           ]
          },
          "colorway": [
           "#636efa",
           "#EF553B",
           "#00cc96",
           "#ab63fa",
           "#FFA15A",
           "#19d3f3",
           "#FF6692",
           "#B6E880",
           "#FF97FF",
           "#FECB52"
          ],
          "font": {
           "color": "#2a3f5f"
          },
          "geo": {
           "bgcolor": "white",
           "lakecolor": "white",
           "landcolor": "#E5ECF6",
           "showlakes": true,
           "showland": true,
           "subunitcolor": "white"
          },
          "hoverlabel": {
           "align": "left"
          },
          "hovermode": "closest",
          "mapbox": {
           "style": "light"
          },
          "paper_bgcolor": "white",
          "plot_bgcolor": "#E5ECF6",
          "polar": {
           "angularaxis": {
            "gridcolor": "white",
            "linecolor": "white",
            "ticks": ""
           },
           "bgcolor": "#E5ECF6",
           "radialaxis": {
            "gridcolor": "white",
            "linecolor": "white",
            "ticks": ""
           }
          },
          "scene": {
           "xaxis": {
            "backgroundcolor": "#E5ECF6",
            "gridcolor": "white",
            "gridwidth": 2,
            "linecolor": "white",
            "showbackground": true,
            "ticks": "",
            "zerolinecolor": "white"
           },
           "yaxis": {
            "backgroundcolor": "#E5ECF6",
            "gridcolor": "white",
            "gridwidth": 2,
            "linecolor": "white",
            "showbackground": true,
            "ticks": "",
            "zerolinecolor": "white"
           },
           "zaxis": {
            "backgroundcolor": "#E5ECF6",
            "gridcolor": "white",
            "gridwidth": 2,
            "linecolor": "white",
            "showbackground": true,
            "ticks": "",
            "zerolinecolor": "white"
           }
          },
          "shapedefaults": {
           "line": {
            "color": "#2a3f5f"
           }
          },
          "ternary": {
           "aaxis": {
            "gridcolor": "white",
            "linecolor": "white",
            "ticks": ""
           },
           "baxis": {
            "gridcolor": "white",
            "linecolor": "white",
            "ticks": ""
           },
           "bgcolor": "#E5ECF6",
           "caxis": {
            "gridcolor": "white",
            "linecolor": "white",
            "ticks": ""
           }
          },
          "title": {
           "x": 0.05
          },
          "xaxis": {
           "automargin": true,
           "gridcolor": "white",
           "linecolor": "white",
           "ticks": "",
           "title": {
            "standoff": 15
           },
           "zerolinecolor": "white",
           "zerolinewidth": 2
          },
          "yaxis": {
           "automargin": true,
           "gridcolor": "white",
           "linecolor": "white",
           "ticks": "",
           "title": {
            "standoff": 15
           },
           "zerolinecolor": "white",
           "zerolinewidth": 2
          }
         }
        },
        "title": {
         "text": "Type Distribution"
        }
       }
      },
      "image/png": "[encoded data removed]",
      "text/html": [
       "<div>                            <div id=\"3a776957-4573-47db-90db-3008c452f8e5\" class=\"plotly-graph-div\" style=\"height:525px; width:100%;\"></div>            <script type=\"text/javascript\">                require([\"plotly\"], function(Plotly) {                    window.PLOTLYENV=window.PLOTLYENV || {};                                    if (document.getElementById(\"3a776957-4573-47db-90db-3008c452f8e5\")) {                    Plotly.newPlot(                        \"3a776957-4573-47db-90db-3008c452f8e5\",                        [{\"domain\":{\"x\":[0.0,1.0],\"y\":[0.0,1.0]},\"hovertemplate\":\"Type=%{label}\\u003cbr\\u003evalue=%{value}\\u003cextra\\u003e\\u003c\\u002fextra\\u003e\",\"labels\":[\"Accidental\",\"Intentional\"],\"legendgroup\":\"\",\"name\":\"\",\"showlegend\":true,\"values\":[256,32],\"type\":\"pie\"}],                        {\"template\":{\"data\":{\"histogram2dcontour\":[{\"type\":\"histogram2dcontour\",\"colorbar\":{\"outlinewidth\":0,\"ticks\":\"\"},\"colorscale\":[[0.0,\"#0d0887\"],[0.1111111111111111,\"#46039f\"],[0.2222222222222222,\"#7201a8\"],[0.3333333333333333,\"#9c179e\"],[0.4444444444444444,\"#bd3786\"],[0.5555555555555556,\"#d8576b\"],[0.6666666666666666,\"#ed7953\"],[0.7777777777777778,\"#fb9f3a\"],[0.8888888888888888,\"#fdca26\"],[1.0,\"#f0f921\"]]}],\"choropleth\":[{\"type\":\"choropleth\",\"colorbar\":{\"outlinewidth\":0,\"ticks\":\"\"}}],\"histogram2d\":[{\"type\":\"histogram2d\",\"colorbar\":{\"outlinewidth\":0,\"ticks\":\"\"},\"colorscale\":[[0.0,\"#0d0887\"],[0.1111111111111111,\"#46039f\"],[0.2222222222222222,\"#7201a8\"],[0.3333333333333333,\"#9c179e\"],[0.4444444444444444,\"#bd3786\"],[0.5555555555555556,\"#d8576b\"],[0.6666666666666666,\"#ed7953\"],[0.7777777777777778,\"#fb9f3a\"],[0.8888888888888888,\"#fdca26\"],[1.0,\"#f0f921\"]]}],\"heatmap\":[{\"type\":\"heatmap\",\"colorbar\":{\"outlinewidth\":0,\"ticks\":\"\"},\"colorscale\":[[0.0,\"#0d0887\"],[0.1111111111111111,\"#46039f\"],[0.2222222222222222,\"#7201a8\"],[0.3333333333333333,\"#9c179e\"],[0.4444444444444444,\"#bd3786\"],[0.5555555555555556,\"#d8576b\"],[0.6666666666666666,\"#ed7953\"],[0.7777777777777778,\"#fb9f3a\"],[0.8888888888888888,\"#fdca26\"],[1.0,\"#f0f921\"]]}],\"heatmapgl\":[{\"type\":\"heatmapgl\",\"colorbar\":{\"outlinewidth\":0,\"ticks\":\"\"},\"colorscale\":[[0.0,\"#0d0887\"],[0.1111111111111111,\"#46039f\"],[0.2222222222222222,\"#7201a8\"],[0.3333333333333333,\"#9c179e\"],[0.4444444444444444,\"#bd3786\"],[0.5555555555555556,\"#d8576b\"],[0.6666666666666666,\"#ed7953\"],[0.7777777777777778,\"#fb9f3a\"],[0.8888888888888888,\"#fdca26\"],[1.0,\"#f0f921\"]]}],\"contourcarpet\":[{\"type\":\"contourcarpet\",\"colorbar\":{\"outlinewidth\":0,\"ticks\":\"\"}}],\"contour\":[{\"type\":\"contour\",\"colorbar\":{\"outlinewidth\":0,\"ticks\":\"\"},\"colorscale\":[[0.0,\"#0d0887\"],[0.1111111111111111,\"#46039f\"],[0.2222222222222222,\"#7201a8\"],[0.3333333333333333,\"#9c179e\"],[0.4444444444444444,\"#bd3786\"],[0.5555555555555556,\"#d8576b\"],[0.6666666666666666,\"#ed7953\"],[0.7777777777777778,\"#fb9f3a\"],[0.8888888888888888,\"#fdca26\"],[1.0,\"#f0f921\"]]}],\"surface\":[{\"type\":\"surface\",\"colorbar\":{\"outlinewidth\":0,\"ticks\":\"\"},\"colorscale\":[[0.0,\"#0d0887\"],[0.1111111111111111,\"#46039f\"],[0.2222222222222222,\"#7201a8\"],[0.3333333333333333,\"#9c179e\"],[0.4444444444444444,\"#bd3786\"],[0.5555555555555556,\"#d8576b\"],[0.6666666666666666,\"#ed7953\"],[0.7777777777777778,\"#fb9f3a\"],[0.8888888888888888,\"#fdca26\"],[1.0,\"#f0f921\"]]}],\"mesh3d\":[{\"type\":\"mesh3d\",\"colorbar\":{\"outlinewidth\":0,\"ticks\":\"\"}}],\"scatter\":[{\"fillpattern\":{\"fillmode\":\"overlay\",\"size\":10,\"solidity\":0.2},\"type\":\"scatter\"}],\"parcoords\":[{\"type\":\"parcoords\",\"line\":{\"colorbar\":{\"outlinewidth\":0,\"ticks\":\"\"}}}],\"scatterpolargl\":[{\"type\":\"scatterpolargl\",\"marker\":{\"colorbar\":{\"outlinewidth\":0,\"ticks\":\"\"}}}],\"bar\":[{\"error_x\":{\"color\":\"#2a3f5f\"},\"error_y\":{\"color\":\"#2a3f5f\"},\"marker\":{\"line\":{\"color\":\"#E5ECF6\",\"width\":0.5},\"pattern\":{\"fillmode\":\"overlay\",\"size\":10,\"solidity\":0.2}},\"type\":\"bar\"}],\"scattergeo\":[{\"type\":\"scattergeo\",\"marker\":{\"colorbar\":{\"outlinewidth\":0,\"ticks\":\"\"}}}],\"scatterpolar\":[{\"type\":\"scatterpolar\",\"marker\":{\"colorbar\":{\"outlinewidth\":0,\"ticks\":\"\"}}}],\"histogram\":[{\"marker\":{\"pattern\":{\"fillmode\":\"overlay\",\"size\":10,\"solidity\":0.2}},\"type\":\"histogram\"}],\"scattergl\":[{\"type\":\"scattergl\",\"marker\":{\"colorbar\":{\"outlinewidth\":0,\"ticks\":\"\"}}}],\"scatter3d\":[{\"type\":\"scatter3d\",\"line\":{\"colorbar\":{\"outlinewidth\":0,\"ticks\":\"\"}},\"marker\":{\"colorbar\":{\"outlinewidth\":0,\"ticks\":\"\"}}}],\"scattermapbox\":[{\"type\":\"scattermapbox\",\"marker\":{\"colorbar\":{\"outlinewidth\":0,\"ticks\":\"\"}}}],\"scatterternary\":[{\"type\":\"scatterternary\",\"marker\":{\"colorbar\":{\"outlinewidth\":0,\"ticks\":\"\"}}}],\"scattercarpet\":[{\"type\":\"scattercarpet\",\"marker\":{\"colorbar\":{\"outlinewidth\":0,\"ticks\":\"\"}}}],\"carpet\":[{\"aaxis\":{\"endlinecolor\":\"#2a3f5f\",\"gridcolor\":\"white\",\"linecolor\":\"white\",\"minorgridcolor\":\"white\",\"startlinecolor\":\"#2a3f5f\"},\"baxis\":{\"endlinecolor\":\"#2a3f5f\",\"gridcolor\":\"white\",\"linecolor\":\"white\",\"minorgridcolor\":\"white\",\"startlinecolor\":\"#2a3f5f\"},\"type\":\"carpet\"}],\"table\":[{\"cells\":{\"fill\":{\"color\":\"#EBF0F8\"},\"line\":{\"color\":\"white\"}},\"header\":{\"fill\":{\"color\":\"#C8D4E3\"},\"line\":{\"color\":\"white\"}},\"type\":\"table\"}],\"barpolar\":[{\"marker\":{\"line\":{\"color\":\"#E5ECF6\",\"width\":0.5},\"pattern\":{\"fillmode\":\"overlay\",\"size\":10,\"solidity\":0.2}},\"type\":\"barpolar\"}],\"pie\":[{\"automargin\":true,\"type\":\"pie\"}]},\"layout\":{\"autotypenumbers\":\"strict\",\"colorway\":[\"#636efa\",\"#EF553B\",\"#00cc96\",\"#ab63fa\",\"#FFA15A\",\"#19d3f3\",\"#FF6692\",\"#B6E880\",\"#FF97FF\",\"#FECB52\"],\"font\":{\"color\":\"#2a3f5f\"},\"hovermode\":\"closest\",\"hoverlabel\":{\"align\":\"left\"},\"paper_bgcolor\":\"white\",\"plot_bgcolor\":\"#E5ECF6\",\"polar\":{\"bgcolor\":\"#E5ECF6\",\"angularaxis\":{\"gridcolor\":\"white\",\"linecolor\":\"white\",\"ticks\":\"\"},\"radialaxis\":{\"gridcolor\":\"white\",\"linecolor\":\"white\",\"ticks\":\"\"}},\"ternary\":{\"bgcolor\":\"#E5ECF6\",\"aaxis\":{\"gridcolor\":\"white\",\"linecolor\":\"white\",\"ticks\":\"\"},\"baxis\":{\"gridcolor\":\"white\",\"linecolor\":\"white\",\"ticks\":\"\"},\"caxis\":{\"gridcolor\":\"white\",\"linecolor\":\"white\",\"ticks\":\"\"}},\"coloraxis\":{\"colorbar\":{\"outlinewidth\":0,\"ticks\":\"\"}},\"colorscale\":{\"sequential\":[[0.0,\"#0d0887\"],[0.1111111111111111,\"#46039f\"],[0.2222222222222222,\"#7201a8\"],[0.3333333333333333,\"#9c179e\"],[0.4444444444444444,\"#bd3786\"],[0.5555555555555556,\"#d8576b\"],[0.6666666666666666,\"#ed7953\"],[0.7777777777777778,\"#fb9f3a\"],[0.8888888888888888,\"#fdca26\"],[1.0,\"#f0f921\"]],\"sequentialminus\":[[0.0,\"#0d0887\"],[0.1111111111111111,\"#46039f\"],[0.2222222222222222,\"#7201a8\"],[0.3333333333333333,\"#9c179e\"],[0.4444444444444444,\"#bd3786\"],[0.5555555555555556,\"#d8576b\"],[0.6666666666666666,\"#ed7953\"],[0.7777777777777778,\"#fb9f3a\"],[0.8888888888888888,\"#fdca26\"],[1.0,\"#f0f921\"]],\"diverging\":[[0,\"#8e0152\"],[0.1,\"#c51b7d\"],[0.2,\"#de77ae\"],[0.3,\"#f1b6da\"],[0.4,\"#fde0ef\"],[0.5,\"#f7f7f7\"],[0.6,\"#e6f5d0\"],[0.7,\"#b8e186\"],[0.8,\"#7fbc41\"],[0.9,\"#4d9221\"],[1,\"#276419\"]]},\"xaxis\":{\"gridcolor\":\"white\",\"linecolor\":\"white\",\"ticks\":\"\",\"title\":{\"standoff\":15},\"zerolinecolor\":\"white\",\"automargin\":true,\"zerolinewidth\":2},\"yaxis\":{\"gridcolor\":\"white\",\"linecolor\":\"white\",\"ticks\":\"\",\"title\":{\"standoff\":15},\"zerolinecolor\":\"white\",\"automargin\":true,\"zerolinewidth\":2},\"scene\":{\"xaxis\":{\"backgroundcolor\":\"#E5ECF6\",\"gridcolor\":\"white\",\"linecolor\":\"white\",\"showbackground\":true,\"ticks\":\"\",\"zerolinecolor\":\"white\",\"gridwidth\":2},\"yaxis\":{\"backgroundcolor\":\"#E5ECF6\",\"gridcolor\":\"white\",\"linecolor\":\"white\",\"showbackground\":true,\"ticks\":\"\",\"zerolinecolor\":\"white\",\"gridwidth\":2},\"zaxis\":{\"backgroundcolor\":\"#E5ECF6\",\"gridcolor\":\"white\",\"linecolor\":\"white\",\"showbackground\":true,\"ticks\":\"\",\"zerolinecolor\":\"white\",\"gridwidth\":2}},\"shapedefaults\":{\"line\":{\"color\":\"#2a3f5f\"}},\"annotationdefaults\":{\"arrowcolor\":\"#2a3f5f\",\"arrowhead\":0,\"arrowwidth\":1},\"geo\":{\"bgcolor\":\"white\",\"landcolor\":\"#E5ECF6\",\"subunitcolor\":\"white\",\"showland\":true,\"showlakes\":true,\"lakecolor\":\"white\"},\"title\":{\"x\":0.05},\"mapbox\":{\"style\":\"light\"}}},\"legend\":{\"tracegroupgap\":0},\"title\":{\"text\":\"Type Distribution\"}},                        {\"responsive\": true}                    ).then(function(){\n",
       "                            \n",
       "var gd = document.getElementById('3a776957-4573-47db-90db-3008c452f8e5');\n",
       "var x = new MutationObserver(function (mutations, observer) {{\n",
       "        var display = window.getComputedStyle(gd).display;\n",
       "        if (!display || display === 'none') {{\n",
       "            console.log([gd, 'removed!']);\n",
       "            Plotly.purge(gd);\n",
       "            observer.disconnect();\n",
       "        }}\n",
       "}});\n",
       "\n",
       "// Listen for the removal of the full notebook cells\n",
       "var notebookContainer = gd.closest('#notebook-container');\n",
       "if (notebookContainer) {{\n",
       "    x.observe(notebookContainer, {childList: true});\n",
       "}}\n",
       "\n",
       "// Listen for the clearing of the current output cell\n",
       "var outputEl = gd.closest('.output');\n",
       "if (outputEl) {{\n",
       "    x.observe(outputEl, {childList: true});\n",
       "}}\n",
       "\n",
       "                        })                };                });            </script>        </div>"
      ]
     },
     "metadata": {},
     "output_type": "display_data"
    }
   ],
   "source": [
    "type_chart = px.pie(type_count, values=type_count.values, names=type_count.index, title='Type Distribution')\n",
    "type_chart.show()"
   ]
  },
  {
   "cell_type": "markdown",
   "id": "072a3a4a-ffc6-4eef-a7d3-8b44ea7387a0",
   "metadata": {
    "tags": []
   },
   "source": [
    "## Overall Count by Drug"
   ]
  },
  {
   "cell_type": "code",
   "execution_count": 106,
   "id": "346f8de5-6892-4520-b6a3-53439f3bd46e",
   "metadata": {
    "tags": []
   },
   "outputs": [
    {
     "data": {
      "text/plain": [
       "Alcohol             73\n",
       "Heroin              35\n",
       "Methamphetamine     98\n",
       "Cocaine             45\n",
       "RX                 136\n",
       "Opioids            230\n",
       "THC                 43\n",
       "Fentanyl           141\n",
       "Codeine              4\n",
       "Norfentanyl         17\n",
       "Methadone            3\n",
       "Morphine            26\n",
       "Amphetamines        34\n",
       "dtype: int64"
      ]
     },
     "execution_count": 106,
     "metadata": {},
     "output_type": "execute_result"
    }
   ],
   "source": [
    "# Most Common Drug Overall\n",
    "columns_to_exclude = ['Year', 'Age', 'Gender', 'Type']\n",
    "overdose_df_sliced = overdose_df.drop(columns=columns_to_exclude)\n",
    "overdose_df_sliced = overdose_df_sliced.apply(pd.to_numeric, errors='coerce')\n",
    "overdose_df_sliced = overdose_df_sliced.fillna(0)\n",
    "overdose_df_count = (overdose_df_sliced == 1).sum()\n",
    "\n",
    "overdose_df_count"
   ]
  },
  {
   "cell_type": "markdown",
   "id": "8a37f1d2-59d4-41b9-be64-046e0e94bbf3",
   "metadata": {
    "tags": []
   },
   "source": [
    "## Drug presence count by year"
   ]
  },
  {
   "cell_type": "code",
   "execution_count": 107,
   "id": "d7986cdb-8d1e-4724-a16c-fac71e71af71",
   "metadata": {
    "tags": []
   },
   "outputs": [
    {
     "data": {
      "text/html": [
       "<div>\n",
       "<style scoped>\n",
       "    .dataframe tbody tr th:only-of-type {\n",
       "        vertical-align: middle;\n",
       "    }\n",
       "\n",
       "    .dataframe tbody tr th {\n",
       "        vertical-align: top;\n",
       "    }\n",
       "\n",
       "    .dataframe thead th {\n",
       "        text-align: right;\n",
       "    }\n",
       "</style>\n",
       "<table border=\"1\" class=\"dataframe\">\n",
       "  <thead>\n",
       "    <tr style=\"text-align: right;\">\n",
       "      <th></th>\n",
       "      <th>Alcohol</th>\n",
       "      <th>Heroin</th>\n",
       "      <th>Methamphetamine</th>\n",
       "      <th>Cocaine</th>\n",
       "      <th>RX</th>\n",
       "      <th>Opioids</th>\n",
       "      <th>THC</th>\n",
       "      <th>Fentanyl</th>\n",
       "      <th>Codeine</th>\n",
       "      <th>Norfentanyl</th>\n",
       "      <th>Methadone</th>\n",
       "      <th>Morphine</th>\n",
       "      <th>Amphetamines</th>\n",
       "    </tr>\n",
       "    <tr>\n",
       "      <th>Year</th>\n",
       "      <th></th>\n",
       "      <th></th>\n",
       "      <th></th>\n",
       "      <th></th>\n",
       "      <th></th>\n",
       "      <th></th>\n",
       "      <th></th>\n",
       "      <th></th>\n",
       "      <th></th>\n",
       "      <th></th>\n",
       "      <th></th>\n",
       "      <th></th>\n",
       "      <th></th>\n",
       "    </tr>\n",
       "  </thead>\n",
       "  <tbody>\n",
       "    <tr>\n",
       "      <th>2008</th>\n",
       "      <td>1.0</td>\n",
       "      <td>0.0</td>\n",
       "      <td>0.0</td>\n",
       "      <td>1.0</td>\n",
       "      <td>5.0</td>\n",
       "      <td>4</td>\n",
       "      <td>1.0</td>\n",
       "      <td>0.0</td>\n",
       "      <td>0.0</td>\n",
       "      <td>0.0</td>\n",
       "      <td>0.0</td>\n",
       "      <td>0.0</td>\n",
       "      <td>0.0</td>\n",
       "    </tr>\n",
       "    <tr>\n",
       "      <th>2009</th>\n",
       "      <td>2.0</td>\n",
       "      <td>2.0</td>\n",
       "      <td>1.0</td>\n",
       "      <td>2.0</td>\n",
       "      <td>3.0</td>\n",
       "      <td>4</td>\n",
       "      <td>0.0</td>\n",
       "      <td>1.0</td>\n",
       "      <td>0.0</td>\n",
       "      <td>0.0</td>\n",
       "      <td>0.0</td>\n",
       "      <td>0.0</td>\n",
       "      <td>0.0</td>\n",
       "    </tr>\n",
       "    <tr>\n",
       "      <th>2010</th>\n",
       "      <td>7.0</td>\n",
       "      <td>4.0</td>\n",
       "      <td>2.0</td>\n",
       "      <td>0.0</td>\n",
       "      <td>11.0</td>\n",
       "      <td>12</td>\n",
       "      <td>2.0</td>\n",
       "      <td>6.0</td>\n",
       "      <td>0.0</td>\n",
       "      <td>0.0</td>\n",
       "      <td>0.0</td>\n",
       "      <td>0.0</td>\n",
       "      <td>0.0</td>\n",
       "    </tr>\n",
       "    <tr>\n",
       "      <th>2011</th>\n",
       "      <td>5.0</td>\n",
       "      <td>5.0</td>\n",
       "      <td>3.0</td>\n",
       "      <td>6.0</td>\n",
       "      <td>9.0</td>\n",
       "      <td>10</td>\n",
       "      <td>4.0</td>\n",
       "      <td>3.0</td>\n",
       "      <td>0.0</td>\n",
       "      <td>0.0</td>\n",
       "      <td>0.0</td>\n",
       "      <td>0.0</td>\n",
       "      <td>0.0</td>\n",
       "    </tr>\n",
       "    <tr>\n",
       "      <th>2012</th>\n",
       "      <td>6.0</td>\n",
       "      <td>1.0</td>\n",
       "      <td>1.0</td>\n",
       "      <td>3.0</td>\n",
       "      <td>12.0</td>\n",
       "      <td>12</td>\n",
       "      <td>1.0</td>\n",
       "      <td>0.0</td>\n",
       "      <td>0.0</td>\n",
       "      <td>0.0</td>\n",
       "      <td>0.0</td>\n",
       "      <td>0.0</td>\n",
       "      <td>0.0</td>\n",
       "    </tr>\n",
       "    <tr>\n",
       "      <th>2013</th>\n",
       "      <td>5.0</td>\n",
       "      <td>2.0</td>\n",
       "      <td>2.0</td>\n",
       "      <td>2.0</td>\n",
       "      <td>10.0</td>\n",
       "      <td>9</td>\n",
       "      <td>1.0</td>\n",
       "      <td>1.0</td>\n",
       "      <td>0.0</td>\n",
       "      <td>0.0</td>\n",
       "      <td>0.0</td>\n",
       "      <td>0.0</td>\n",
       "      <td>0.0</td>\n",
       "    </tr>\n",
       "    <tr>\n",
       "      <th>2014</th>\n",
       "      <td>3.0</td>\n",
       "      <td>0.0</td>\n",
       "      <td>1.0</td>\n",
       "      <td>2.0</td>\n",
       "      <td>8.0</td>\n",
       "      <td>5</td>\n",
       "      <td>2.0</td>\n",
       "      <td>0.0</td>\n",
       "      <td>0.0</td>\n",
       "      <td>0.0</td>\n",
       "      <td>0.0</td>\n",
       "      <td>0.0</td>\n",
       "      <td>0.0</td>\n",
       "    </tr>\n",
       "    <tr>\n",
       "      <th>2015</th>\n",
       "      <td>2.0</td>\n",
       "      <td>0.0</td>\n",
       "      <td>3.0</td>\n",
       "      <td>0.0</td>\n",
       "      <td>11.0</td>\n",
       "      <td>8</td>\n",
       "      <td>1.0</td>\n",
       "      <td>0.0</td>\n",
       "      <td>0.0</td>\n",
       "      <td>0.0</td>\n",
       "      <td>0.0</td>\n",
       "      <td>0.0</td>\n",
       "      <td>0.0</td>\n",
       "    </tr>\n",
       "    <tr>\n",
       "      <th>2016</th>\n",
       "      <td>2.0</td>\n",
       "      <td>3.0</td>\n",
       "      <td>7.0</td>\n",
       "      <td>2.0</td>\n",
       "      <td>19.0</td>\n",
       "      <td>19</td>\n",
       "      <td>6.0</td>\n",
       "      <td>4.0</td>\n",
       "      <td>0.0</td>\n",
       "      <td>0.0</td>\n",
       "      <td>0.0</td>\n",
       "      <td>0.0</td>\n",
       "      <td>0.0</td>\n",
       "    </tr>\n",
       "    <tr>\n",
       "      <th>2017</th>\n",
       "      <td>6.0</td>\n",
       "      <td>8.0</td>\n",
       "      <td>9.0</td>\n",
       "      <td>1.0</td>\n",
       "      <td>21.0</td>\n",
       "      <td>25</td>\n",
       "      <td>9.0</td>\n",
       "      <td>15.0</td>\n",
       "      <td>0.0</td>\n",
       "      <td>0.0</td>\n",
       "      <td>0.0</td>\n",
       "      <td>0.0</td>\n",
       "      <td>0.0</td>\n",
       "    </tr>\n",
       "    <tr>\n",
       "      <th>2018</th>\n",
       "      <td>4.0</td>\n",
       "      <td>0.0</td>\n",
       "      <td>0.0</td>\n",
       "      <td>4.0</td>\n",
       "      <td>6.0</td>\n",
       "      <td>21</td>\n",
       "      <td>5.0</td>\n",
       "      <td>18.0</td>\n",
       "      <td>0.0</td>\n",
       "      <td>0.0</td>\n",
       "      <td>0.0</td>\n",
       "      <td>12.0</td>\n",
       "      <td>10.0</td>\n",
       "    </tr>\n",
       "    <tr>\n",
       "      <th>2019</th>\n",
       "      <td>8.0</td>\n",
       "      <td>4.0</td>\n",
       "      <td>11.0</td>\n",
       "      <td>3.0</td>\n",
       "      <td>4.0</td>\n",
       "      <td>16</td>\n",
       "      <td>2.0</td>\n",
       "      <td>14.0</td>\n",
       "      <td>0.0</td>\n",
       "      <td>0.0</td>\n",
       "      <td>0.0</td>\n",
       "      <td>5.0</td>\n",
       "      <td>3.0</td>\n",
       "    </tr>\n",
       "    <tr>\n",
       "      <th>2020</th>\n",
       "      <td>7.0</td>\n",
       "      <td>4.0</td>\n",
       "      <td>23.0</td>\n",
       "      <td>5.0</td>\n",
       "      <td>11.0</td>\n",
       "      <td>31</td>\n",
       "      <td>9.0</td>\n",
       "      <td>27.0</td>\n",
       "      <td>3.0</td>\n",
       "      <td>17.0</td>\n",
       "      <td>2.0</td>\n",
       "      <td>7.0</td>\n",
       "      <td>20.0</td>\n",
       "    </tr>\n",
       "    <tr>\n",
       "      <th>2021</th>\n",
       "      <td>1.0</td>\n",
       "      <td>2.0</td>\n",
       "      <td>13.0</td>\n",
       "      <td>3.0</td>\n",
       "      <td>0.0</td>\n",
       "      <td>27</td>\n",
       "      <td>0.0</td>\n",
       "      <td>27.0</td>\n",
       "      <td>1.0</td>\n",
       "      <td>0.0</td>\n",
       "      <td>1.0</td>\n",
       "      <td>2.0</td>\n",
       "      <td>1.0</td>\n",
       "    </tr>\n",
       "    <tr>\n",
       "      <th>2022</th>\n",
       "      <td>14.0</td>\n",
       "      <td>0.0</td>\n",
       "      <td>22.0</td>\n",
       "      <td>11.0</td>\n",
       "      <td>6.0</td>\n",
       "      <td>27</td>\n",
       "      <td>0.0</td>\n",
       "      <td>25.0</td>\n",
       "      <td>0.0</td>\n",
       "      <td>0.0</td>\n",
       "      <td>0.0</td>\n",
       "      <td>0.0</td>\n",
       "      <td>0.0</td>\n",
       "    </tr>\n",
       "  </tbody>\n",
       "</table>\n",
       "</div>"
      ],
      "text/plain": [
       "      Alcohol  Heroin  Methamphetamine  Cocaine    RX  Opioids  THC  Fentanyl  \\\n",
       "Year                                                                            \n",
       "2008      1.0     0.0              0.0      1.0   5.0        4  1.0       0.0   \n",
       "2009      2.0     2.0              1.0      2.0   3.0        4  0.0       1.0   \n",
       "2010      7.0     4.0              2.0      0.0  11.0       12  2.0       6.0   \n",
       "2011      5.0     5.0              3.0      6.0   9.0       10  4.0       3.0   \n",
       "2012      6.0     1.0              1.0      3.0  12.0       12  1.0       0.0   \n",
       "2013      5.0     2.0              2.0      2.0  10.0        9  1.0       1.0   \n",
       "2014      3.0     0.0              1.0      2.0   8.0        5  2.0       0.0   \n",
       "2015      2.0     0.0              3.0      0.0  11.0        8  1.0       0.0   \n",
       "2016      2.0     3.0              7.0      2.0  19.0       19  6.0       4.0   \n",
       "2017      6.0     8.0              9.0      1.0  21.0       25  9.0      15.0   \n",
       "2018      4.0     0.0              0.0      4.0   6.0       21  5.0      18.0   \n",
       "2019      8.0     4.0             11.0      3.0   4.0       16  2.0      14.0   \n",
       "2020      7.0     4.0             23.0      5.0  11.0       31  9.0      27.0   \n",
       "2021      1.0     2.0             13.0      3.0   0.0       27  0.0      27.0   \n",
       "2022     14.0     0.0             22.0     11.0   6.0       27  0.0      25.0   \n",
       "\n",
       "      Codeine  Norfentanyl  Methadone  Morphine  Amphetamines  \n",
       "Year                                                           \n",
       "2008      0.0          0.0        0.0       0.0           0.0  \n",
       "2009      0.0          0.0        0.0       0.0           0.0  \n",
       "2010      0.0          0.0        0.0       0.0           0.0  \n",
       "2011      0.0          0.0        0.0       0.0           0.0  \n",
       "2012      0.0          0.0        0.0       0.0           0.0  \n",
       "2013      0.0          0.0        0.0       0.0           0.0  \n",
       "2014      0.0          0.0        0.0       0.0           0.0  \n",
       "2015      0.0          0.0        0.0       0.0           0.0  \n",
       "2016      0.0          0.0        0.0       0.0           0.0  \n",
       "2017      0.0          0.0        0.0       0.0           0.0  \n",
       "2018      0.0          0.0        0.0      12.0          10.0  \n",
       "2019      0.0          0.0        0.0       5.0           3.0  \n",
       "2020      3.0         17.0        2.0       7.0          20.0  \n",
       "2021      1.0          0.0        1.0       2.0           1.0  \n",
       "2022      0.0          0.0        0.0       0.0           0.0  "
      ]
     },
     "execution_count": 107,
     "metadata": {},
     "output_type": "execute_result"
    }
   ],
   "source": [
    "# Group by year and sum the occurrences of each substance\n",
    "overdose_df_count_by_year = overdose_df_sliced.groupby(overdose_df['Year']).sum()\n",
    "overdose_df_count_by_year"
   ]
  },
  {
   "cell_type": "markdown",
   "id": "a50f5a70-90ef-4465-982b-0ec56b6c4ced",
   "metadata": {
    "tags": []
   },
   "source": [
    "## Gender Count"
   ]
  },
  {
   "cell_type": "code",
   "execution_count": 108,
   "id": "fb1644c9-7217-4bfb-a6a7-1dc95387d7ae",
   "metadata": {
    "tags": []
   },
   "outputs": [],
   "source": [
    "gender_count = overdose_df['Gender'].value_counts()"
   ]
  },
  {
   "cell_type": "code",
   "execution_count": 109,
   "id": "aa906b29-7056-4b99-b10f-c1c88ee12fe6",
   "metadata": {
    "tags": []
   },
   "outputs": [],
   "source": [
    "gender_count_by_year = overdose_df['Gender'].groupby(overdose_df['Year']).value_counts()"
   ]
  },
  {
   "cell_type": "markdown",
   "id": "4b3a385d-e5dc-4710-8ddc-52072ec0d132",
   "metadata": {},
   "source": [
    "## Most Common Combination"
   ]
  },
  {
   "cell_type": "code",
   "execution_count": 14,
   "id": "5e899346-d64f-4384-b298-62e122e5e5bd",
   "metadata": {
    "tags": []
   },
   "outputs": [],
   "source": [
    "result = find_columns_with_ones(overdose_df)"
   ]
  },
  {
   "cell_type": "code",
   "execution_count": 15,
   "id": "f1f7792d-4e2e-43f4-aa40-08615a6c849c",
   "metadata": {
    "tags": []
   },
   "outputs": [
    {
     "name": "stdout",
     "output_type": "stream",
     "text": [
      "The most common combination is: ('Opioids', 'RX') with 29 occurrences.\n"
     ]
    }
   ],
   "source": [
    "# Extract tuples from the dictionary values\n",
    "combinations = list(result.values())\n",
    "\n",
    "# Use Counter to count occurrences of each combination\n",
    "combination_counts = Counter(combinations)\n",
    "\n",
    "# Find the most common combination\n",
    "most_common_combination, count = combination_counts.most_common(1)[0]\n",
    "\n",
    "# Print the most common combination and its count\n",
    "print(f\"The most common combination is: {most_common_combination} with {count} occurrences.\")\n"
   ]
  },
  {
   "cell_type": "code",
   "execution_count": 18,
   "id": "db4cf714-cf3d-40ca-b607-ce9dc0798fed",
   "metadata": {
    "tags": []
   },
   "outputs": [
    {
     "data": {
      "text/plain": [
       "Counter({('Opioids', 'RX'): 29,\n",
       "         ('Fentanyl', 'Methamphetamine', 'Opioids'): 18,\n",
       "         ('Fentanyl', 'Opioids'): 16,\n",
       "         ('Alcohol', 'Opioids', 'RX'): 14,\n",
       "         ('RX',): 10,\n",
       "         ('Alcohol', 'RX'): 9,\n",
       "         ('Alcohol', 'Fentanyl', 'Methamphetamine', 'Opioids'): 9,\n",
       "         ('Fentanyl', 'Opioids', 'RX'): 7,\n",
       "         ('Fentanyl', 'Morphine', 'Opioids'): 7,\n",
       "         ('Cocaine', 'Fentanyl', 'Opioids'): 7,\n",
       "         ('Methamphetamine', 'Opioids', 'RX'): 6,\n",
       "         ('Amphetamines', 'Methamphetamine'): 6,\n",
       "         ('Opioids', 'RX', 'THC'): 5,\n",
       "         (): 5,\n",
       "         ('Amphetamines', 'Fentanyl', 'Opioids'): 5,\n",
       "         ('Methamphetamine',): 5,\n",
       "         ('Cocaine', 'Opioids', 'RX'): 4,\n",
       "         ('Amphetamines', 'Fentanyl', 'Methamphetamine', 'Opioids'): 4,\n",
       "         ('Fentanyl', 'Heroin', 'Opioids'): 3,\n",
       "         ('Alcohol',): 3,\n",
       "         ('Alcohol', 'Methamphetamine'): 3,\n",
       "         ('Fentanyl', 'Opioids', 'RX', 'THC'): 3,\n",
       "         ('Fentanyl', 'Methamphetamine', 'Opioids', 'RX'): 3,\n",
       "         ('Fentanyl', 'Heroin', 'Methamphetamine', 'Opioids'): 3,\n",
       "         ('Amphetamines',\n",
       "          'Fentanyl',\n",
       "          'Methamphetamine',\n",
       "          'Norfentanyl',\n",
       "          'Opioids'): 3,\n",
       "         ('Cocaine',): 3,\n",
       "         ('Cocaine', 'Methamphetamine', 'Opioids', 'RX'): 2,\n",
       "         ('Heroin', 'Opioids'): 2,\n",
       "         ('Alcohol', 'Fentanyl', 'Heroin', 'Methamphetamine', 'Opioids'): 2,\n",
       "         ('Fentanyl', 'Heroin', 'Methamphetamine', 'Opioids', 'RX'): 2,\n",
       "         ('Cocaine', 'RX'): 2,\n",
       "         ('Fentanyl', 'Heroin', 'Methamphetamine', 'Opioids', 'THC'): 2,\n",
       "         ('Cocaine', 'Methamphetamine', 'RX'): 2,\n",
       "         ('Alcohol', 'Cocaine', 'Opioids', 'RX'): 2,\n",
       "         ('Alcohol', 'Opioids', 'RX', 'THC'): 2,\n",
       "         ('Fentanyl', 'Heroin', 'Opioids', 'RX'): 2,\n",
       "         ('Methamphetamine', 'THC'): 2,\n",
       "         ('Cocaine', 'Fentanyl', 'Heroin', 'Opioids', 'RX'): 2,\n",
       "         ('Methamphetamine', 'Opioids'): 2,\n",
       "         ('Alcohol', 'Fentanyl', 'Heroin', 'Opioids', 'RX'): 2,\n",
       "         ('Amphetamines', 'Fentanyl', 'Morphine', 'Opioids'): 2,\n",
       "         ('Alcohol', 'Methamphetamine', 'THC'): 2,\n",
       "         ('Alcohol', 'Cocaine', 'Fentanyl', 'Opioids'): 2,\n",
       "         ('Amphetamines',\n",
       "          'Fentanyl',\n",
       "          'Methamphetamine',\n",
       "          'Morphine',\n",
       "          'Norfentanyl',\n",
       "          'Opioids'): 2,\n",
       "         ('Alcohol', 'Cocaine', 'Fentanyl', 'Methamphetamine', 'Opioids'): 2,\n",
       "         ('Cocaine', 'Opioids', 'RX', 'THC'): 1,\n",
       "         ('Alcohol', 'Cocaine', 'RX'): 1,\n",
       "         ('Alcohol', 'Fentanyl', 'Opioids', 'RX'): 1,\n",
       "         ('Alcohol', 'RX', 'THC'): 1,\n",
       "         ('Heroin', 'Opioids', 'THC'): 1,\n",
       "         ('Alcohol',\n",
       "          'Cocaine',\n",
       "          'Fentanyl',\n",
       "          'Heroin',\n",
       "          'Opioids',\n",
       "          'RX',\n",
       "          'THC'): 1,\n",
       "         ('Cocaine', 'Heroin', 'Methamphetamine', 'Opioids'): 1,\n",
       "         ('Cocaine', 'Heroin', 'Opioids', 'THC'): 1,\n",
       "         ('Alcohol', 'Cocaine', 'Opioids'): 1,\n",
       "         ('Heroin', 'Opioids', 'RX'): 1,\n",
       "         ('Alcohol', 'Methamphetamine', 'Opioids', 'RX'): 1,\n",
       "         ('Alcohol', 'Heroin', 'Opioids'): 1,\n",
       "         ('Methamphetamine', 'RX'): 1,\n",
       "         ('Methamphetamine', 'RX', 'THC'): 1,\n",
       "         ('Methamphetamine', 'Opioids', 'RX', 'THC'): 1,\n",
       "         ('Fentanyl', 'Heroin', 'Opioids', 'RX', 'THC'): 1,\n",
       "         ('Methamphetamine', 'Opioids', 'THC'): 1,\n",
       "         ('Alcohol', 'Methamphetamine', 'Opioids', 'RX', 'THC'): 1,\n",
       "         ('Fentanyl', 'Methamphetamine', 'Opioids', 'THC'): 1,\n",
       "         ('Alcohol', 'Fentanyl', 'Opioids', 'RX', 'THC'): 1,\n",
       "         ('Fentanyl', 'Heroin', 'Opioids', 'THC'): 1,\n",
       "         ('Fentanyl', 'Morphine', 'Opioids', 'RX', 'THC'): 1,\n",
       "         ('Amphetamines', 'Cocaine', 'Morphine', 'Opioids', 'THC'): 1,\n",
       "         ('Amphetamines', 'Fentanyl', 'Opioids', 'RX', 'THC'): 1,\n",
       "         ('Fentanyl', 'Opioids', 'THC'): 1,\n",
       "         ('Morphine', 'Opioids', 'RX'): 1,\n",
       "         ('Amphetamines', 'Cocaine', 'Fentanyl', 'Opioids'): 1,\n",
       "         ('Alcohol', 'Fentanyl', 'Morphine', 'Opioids'): 1,\n",
       "         ('Cocaine', 'Fentanyl', 'Morphine', 'Opioids', 'RX'): 1,\n",
       "         ('Alcohol', 'Cocaine', 'Morphine', 'Opioids', 'THC'): 1,\n",
       "         ('Alcohol', 'Amphetamines', 'RX'): 1,\n",
       "         ('Heroin', 'Methamphetamine', 'Opioids'): 1,\n",
       "         ('Fentanyl', 'Heroin', 'Morphine', 'Opioids'): 1,\n",
       "         ('Fentanyl', 'Methamphetamine', 'Morphine', 'Opioids'): 1,\n",
       "         ('Alcohol',\n",
       "          'Fentanyl',\n",
       "          'Heroin',\n",
       "          'Methamphetamine',\n",
       "          'Opioids',\n",
       "          'THC'): 1,\n",
       "         ('Morphine', 'Opioids'): 1,\n",
       "         ('Alcohol', 'Fentanyl', 'Opioids'): 1,\n",
       "         ('Alcohol', 'Cocaine', 'Fentanyl', 'Opioids', 'RX'): 1,\n",
       "         ('Alcohol', 'Fentanyl', 'Norfentanyl', 'Opioids', 'THC'): 1,\n",
       "         ('Methadone', 'Opioids', 'RX', 'THC'): 1,\n",
       "         ('Alcohol', 'Fentanyl', 'Norfentanyl', 'Opioids'): 1,\n",
       "         ('Alcohol', 'Cocaine', 'Fentanyl', 'Norfentanyl', 'Opioids'): 1,\n",
       "         ('Amphetamines',\n",
       "          'Fentanyl',\n",
       "          'Heroin',\n",
       "          'Methamphetamine',\n",
       "          'Morphine',\n",
       "          'Opioids'): 1,\n",
       "         ('Alcohol',\n",
       "          'Amphetamines',\n",
       "          'Fentanyl',\n",
       "          'Methamphetamine',\n",
       "          'Opioids'): 1,\n",
       "         ('Fentanyl',\n",
       "          'Methadone',\n",
       "          'Methamphetamine',\n",
       "          'Opioids',\n",
       "          'RX',\n",
       "          'THC'): 1,\n",
       "         ('Fentanyl', 'Norfentanyl', 'Opioids', 'RX'): 1,\n",
       "         ('Fentanyl', 'Norfentanyl', 'Opioids', 'RX', 'THC'): 1,\n",
       "         ('Cocaine',\n",
       "          'Codeine',\n",
       "          'Heroin',\n",
       "          'Methamphetamine',\n",
       "          'Morphine',\n",
       "          'Norfentanyl',\n",
       "          'Opioids',\n",
       "          'RX'): 1,\n",
       "         ('Amphetamines',\n",
       "          'Cocaine',\n",
       "          'Methamphetamine',\n",
       "          'Norfentanyl',\n",
       "          'Opioids',\n",
       "          'THC'): 1,\n",
       "         ('Amphetamines',\n",
       "          'Fentanyl',\n",
       "          'Norfentanyl',\n",
       "          'Opioids',\n",
       "          'RX',\n",
       "          'THC'): 1,\n",
       "         ('Alcohol',\n",
       "          'Amphetamines',\n",
       "          'Codeine',\n",
       "          'Fentanyl',\n",
       "          'Heroin',\n",
       "          'Morphine',\n",
       "          'Norfentanyl',\n",
       "          'Opioids',\n",
       "          'RX',\n",
       "          'THC'): 1,\n",
       "         ('Amphetamines', 'Morphine', 'Opioids'): 1,\n",
       "         ('Codeine', 'Fentanyl', 'Heroin', 'Norfentanyl', 'Opioids', 'RX'): 1,\n",
       "         ('Cocaine', 'Fentanyl', 'Norfentanyl', 'Opioids'): 1,\n",
       "         ('Amphetamines', 'Methamphetamine', 'THC'): 1,\n",
       "         ('Amphetamines', 'Fentanyl', 'Methamphetamine', 'Opioids', 'RX'): 1,\n",
       "         ('Cocaine', 'Fentanyl', 'Morphine', 'Norfentanyl', 'Opioids'): 1,\n",
       "         ('Fentanyl', 'Methadone', 'Opioids'): 1,\n",
       "         ('Codeine', 'Fentanyl', 'Morphine', 'Opioids'): 1,\n",
       "         ('Opioids',): 1,\n",
       "         ('Alcohol', 'Cocaine'): 1})"
      ]
     },
     "execution_count": 18,
     "metadata": {},
     "output_type": "execute_result"
    }
   ],
   "source": [
    "combination_counts"
   ]
  },
  {
   "cell_type": "code",
   "execution_count": 112,
   "id": "2da67a5a-9daa-4b40-8740-0353f9a5ca0b",
   "metadata": {},
   "outputs": [],
   "source": [
    "# Convert Counter object to DataFrame\n",
    "df_combinations = pd.DataFrame(combination_counts.items(), columns=['combination', 'count'])\n",
    "df_combinations['combination'] = df_combinations['combination'].apply(lambda x: ', '.join(x))\n",
    "\n",
    "# Create bar chart\n",
    "#combination_chart = px.bar(df_combinations, x='count', y='combination', title='Substance Combinations', width=5000, height=1000)\n",
    "\n",
    "#combination_chart.show()\n"
   ]
  },
  {
   "cell_type": "markdown",
   "id": "e566a1e8-066c-4d0e-b6b3-1f223c429aec",
   "metadata": {},
   "source": [
    "# Arrest Data"
   ]
  },
  {
   "cell_type": "code",
   "execution_count": 113,
   "id": "7d35f924-8de0-4676-8fb3-566b0b741a19",
   "metadata": {
    "tags": []
   },
   "outputs": [],
   "source": [
    "arrests_2018 = pd.read_csv(\"new_2018.csv\")\n",
    "arrests_2019 = pd.read_csv(\"new_2019.csv\")\n",
    "arrests_2020 = pd.read_csv(\"new_2020.csv\")\n",
    "arrests_2021 = pd.read_csv(\"new_2021.csv\")\n",
    "arrests_2022 = pd.read_csv(\"new_2022.csv\")"
   ]
  },
  {
   "cell_type": "markdown",
   "id": "2120d293-0c69-4169-9b2e-c24cc7199dec",
   "metadata": {
    "tags": []
   },
   "source": [
    "## 2018 Data Cleansing \n",
    "Todo:\n",
    "    - Remove all but total columns"
   ]
  },
  {
   "cell_type": "code",
   "execution_count": 114,
   "id": "5a80415b-127f-4ea8-a733-65e912439f0f",
   "metadata": {
    "tags": []
   },
   "outputs": [
    {
     "data": {
      "text/html": [
       "<div>\n",
       "<style scoped>\n",
       "    .dataframe tbody tr th:only-of-type {\n",
       "        vertical-align: middle;\n",
       "    }\n",
       "\n",
       "    .dataframe tbody tr th {\n",
       "        vertical-align: top;\n",
       "    }\n",
       "\n",
       "    .dataframe thead th {\n",
       "        text-align: right;\n",
       "    }\n",
       "</style>\n",
       "<table border=\"1\" class=\"dataframe\">\n",
       "  <thead>\n",
       "    <tr style=\"text-align: right;\">\n",
       "      <th></th>\n",
       "      <th>County</th>\n",
       "      <th>Agency_Name</th>\n",
       "      <th>Metric</th>\n",
       "      <th>Drug_Sale_Opium_Cocaine</th>\n",
       "      <th>Drug_Sale_Marijuana</th>\n",
       "      <th>Drug_Sale_Synthetic</th>\n",
       "      <th>Drug_Sale_Other_Dangerous</th>\n",
       "      <th>Drug_Possession_Opium_Cocaine</th>\n",
       "      <th>Drug_Possession_Marijuana</th>\n",
       "      <th>Drug_Possession_Synthetic</th>\n",
       "      <th>Drug_Possession_Other_Dangerous</th>\n",
       "      <th>Drug_Unknown</th>\n",
       "    </tr>\n",
       "    <tr>\n",
       "      <th>Year</th>\n",
       "      <th></th>\n",
       "      <th></th>\n",
       "      <th></th>\n",
       "      <th></th>\n",
       "      <th></th>\n",
       "      <th></th>\n",
       "      <th></th>\n",
       "      <th></th>\n",
       "      <th></th>\n",
       "      <th></th>\n",
       "      <th></th>\n",
       "      <th></th>\n",
       "    </tr>\n",
       "  </thead>\n",
       "  <tbody>\n",
       "    <tr>\n",
       "      <th>2018</th>\n",
       "      <td>La Crosse</td>\n",
       "      <td>Bangor PD</td>\n",
       "      <td>Arrest Count</td>\n",
       "      <td>0</td>\n",
       "      <td>0</td>\n",
       "      <td>0</td>\n",
       "      <td>0</td>\n",
       "      <td>0</td>\n",
       "      <td>3</td>\n",
       "      <td>0</td>\n",
       "      <td>1</td>\n",
       "      <td>0</td>\n",
       "    </tr>\n",
       "    <tr>\n",
       "      <th>2018</th>\n",
       "      <td>La Crosse</td>\n",
       "      <td>Campbell PD</td>\n",
       "      <td>Arrest Count</td>\n",
       "      <td>0</td>\n",
       "      <td>0</td>\n",
       "      <td>0</td>\n",
       "      <td>4</td>\n",
       "      <td>2</td>\n",
       "      <td>11</td>\n",
       "      <td>0</td>\n",
       "      <td>5</td>\n",
       "      <td>0</td>\n",
       "    </tr>\n",
       "    <tr>\n",
       "      <th>2018</th>\n",
       "      <td>La Crosse</td>\n",
       "      <td>Holmen PD</td>\n",
       "      <td>Arrest Count</td>\n",
       "      <td>0</td>\n",
       "      <td>0</td>\n",
       "      <td>0</td>\n",
       "      <td>0</td>\n",
       "      <td>0</td>\n",
       "      <td>25</td>\n",
       "      <td>0</td>\n",
       "      <td>7</td>\n",
       "      <td>0</td>\n",
       "    </tr>\n",
       "    <tr>\n",
       "      <th>2018</th>\n",
       "      <td>La Crosse</td>\n",
       "      <td>La Crosse Co SO</td>\n",
       "      <td>Arrest Count</td>\n",
       "      <td>6</td>\n",
       "      <td>0</td>\n",
       "      <td>0</td>\n",
       "      <td>0</td>\n",
       "      <td>12</td>\n",
       "      <td>61</td>\n",
       "      <td>1</td>\n",
       "      <td>33</td>\n",
       "      <td>1</td>\n",
       "    </tr>\n",
       "    <tr>\n",
       "      <th>2018</th>\n",
       "      <td>La Crosse</td>\n",
       "      <td>La Crosse PD</td>\n",
       "      <td>Arrest Count</td>\n",
       "      <td>38</td>\n",
       "      <td>8</td>\n",
       "      <td>0</td>\n",
       "      <td>27</td>\n",
       "      <td>71</td>\n",
       "      <td>312</td>\n",
       "      <td>16</td>\n",
       "      <td>216</td>\n",
       "      <td>0</td>\n",
       "    </tr>\n",
       "  </tbody>\n",
       "</table>\n",
       "</div>"
      ],
      "text/plain": [
       "         County      Agency_Name        Metric  Drug_Sale_Opium_Cocaine  \\\n",
       "Year                                                                      \n",
       "2018  La Crosse        Bangor PD  Arrest Count                        0   \n",
       "2018  La Crosse      Campbell PD  Arrest Count                        0   \n",
       "2018  La Crosse        Holmen PD  Arrest Count                        0   \n",
       "2018  La Crosse  La Crosse Co SO  Arrest Count                        6   \n",
       "2018  La Crosse     La Crosse PD  Arrest Count                       38   \n",
       "\n",
       "      Drug_Sale_Marijuana  Drug_Sale_Synthetic  Drug_Sale_Other_Dangerous  \\\n",
       "Year                                                                        \n",
       "2018                    0                    0                          0   \n",
       "2018                    0                    0                          4   \n",
       "2018                    0                    0                          0   \n",
       "2018                    0                    0                          0   \n",
       "2018                    8                    0                         27   \n",
       "\n",
       "      Drug_Possession_Opium_Cocaine  Drug_Possession_Marijuana  \\\n",
       "Year                                                             \n",
       "2018                              0                          3   \n",
       "2018                              2                         11   \n",
       "2018                              0                         25   \n",
       "2018                             12                         61   \n",
       "2018                             71                        312   \n",
       "\n",
       "      Drug_Possession_Synthetic  Drug_Possession_Other_Dangerous  Drug_Unknown  \n",
       "Year                                                                            \n",
       "2018                          0                                1             0  \n",
       "2018                          0                                5             0  \n",
       "2018                          0                                7             0  \n",
       "2018                          1                               33             1  \n",
       "2018                         16                              216             0  "
      ]
     },
     "execution_count": 114,
     "metadata": {},
     "output_type": "execute_result"
    }
   ],
   "source": [
    "arrests_2018 = arrests_2018.drop(columns=['Agency Name.1', 'County.1', 'Adult Or Juvenile'])\n",
    "arrests_2018 = arrests_2018[arrests_2018['Unnamed: 5'] == 'Arrest Count']\n",
    "arrests_2018 = arrests_2018.rename(columns={\n",
    "    'County': 'County',\n",
    "    'Agency Name': 'Agency_Name',\n",
    "    'Unnamed: 5': 'Metric',\n",
    "    'Drug Sale - Opium/Cocaine': 'Drug_Sale_Opium_Cocaine',\n",
    "    'Drug Sale - Marijuana': 'Drug_Sale_Marijuana',\n",
    "    'Drug Sale - Synthetic': 'Drug_Sale_Synthetic',\n",
    "    'Drug Sale - Other Dangerous': 'Drug_Sale_Other_Dangerous',\n",
    "    'Drug Possession - Opium/Cocaine': 'Drug_Possession_Opium_Cocaine',\n",
    "    'Drug Possession - Marijuana': 'Drug_Possession_Marijuana',\n",
    "    'Drug Possession - Synthetic': 'Drug_Possession_Synthetic',\n",
    "    'Drug Possession - Other Dangerous': 'Drug_Possession_Other_Dangerous',\n",
    "    'Drug - Unknown': 'Drug_Unknown'\n",
    "})\n",
    "arrests_2018['Year'] = 2018\n",
    "arrests_2018 = arrests_2018.set_index('Year')\n",
    "arrests_2018.head()"
   ]
  },
  {
   "cell_type": "markdown",
   "id": "f253185f-4ccc-426b-b48b-2fc18ce59e31",
   "metadata": {
    "tags": []
   },
   "source": [
    "## 2019 Data Cleansing\n",
    "Todo:\n",
    "    - Remove all but total columns"
   ]
  },
  {
   "cell_type": "code",
   "execution_count": 115,
   "id": "a0e5f509-8625-4e38-ab5f-800cabb591c5",
   "metadata": {
    "tags": []
   },
   "outputs": [
    {
     "data": {
      "text/html": [
       "<div>\n",
       "<style scoped>\n",
       "    .dataframe tbody tr th:only-of-type {\n",
       "        vertical-align: middle;\n",
       "    }\n",
       "\n",
       "    .dataframe tbody tr th {\n",
       "        vertical-align: top;\n",
       "    }\n",
       "\n",
       "    .dataframe thead th {\n",
       "        text-align: right;\n",
       "    }\n",
       "</style>\n",
       "<table border=\"1\" class=\"dataframe\">\n",
       "  <thead>\n",
       "    <tr style=\"text-align: right;\">\n",
       "      <th></th>\n",
       "      <th>County</th>\n",
       "      <th>Agency_Name</th>\n",
       "      <th>Metric</th>\n",
       "      <th>Drug_Sale_Opium_Cocaine</th>\n",
       "      <th>Drug_Sale_Marijuana</th>\n",
       "      <th>Drug_Sale_Synthetic</th>\n",
       "      <th>Drug_Sale_Other_Dangerous</th>\n",
       "      <th>Drug_Possession_Opium_Cocaine</th>\n",
       "      <th>Drug_Possession_Marijuana</th>\n",
       "      <th>Drug_Possession_Synthetic</th>\n",
       "      <th>Drug_Possession_Other_Dangerous</th>\n",
       "      <th>Drug_Unknown</th>\n",
       "    </tr>\n",
       "    <tr>\n",
       "      <th>Year</th>\n",
       "      <th></th>\n",
       "      <th></th>\n",
       "      <th></th>\n",
       "      <th></th>\n",
       "      <th></th>\n",
       "      <th></th>\n",
       "      <th></th>\n",
       "      <th></th>\n",
       "      <th></th>\n",
       "      <th></th>\n",
       "      <th></th>\n",
       "      <th></th>\n",
       "    </tr>\n",
       "  </thead>\n",
       "  <tbody>\n",
       "    <tr>\n",
       "      <th>2019</th>\n",
       "      <td>La Crosse</td>\n",
       "      <td>Bangor PD</td>\n",
       "      <td>Arrest Count</td>\n",
       "      <td>0</td>\n",
       "      <td>0</td>\n",
       "      <td>0</td>\n",
       "      <td>0</td>\n",
       "      <td>0</td>\n",
       "      <td>1</td>\n",
       "      <td>0</td>\n",
       "      <td>0</td>\n",
       "      <td>0</td>\n",
       "    </tr>\n",
       "    <tr>\n",
       "      <th>2019</th>\n",
       "      <td>La Crosse</td>\n",
       "      <td>Campbell PD</td>\n",
       "      <td>Arrest Count</td>\n",
       "      <td>1</td>\n",
       "      <td>0</td>\n",
       "      <td>0</td>\n",
       "      <td>2</td>\n",
       "      <td>2</td>\n",
       "      <td>9</td>\n",
       "      <td>0</td>\n",
       "      <td>11</td>\n",
       "      <td>0</td>\n",
       "    </tr>\n",
       "    <tr>\n",
       "      <th>2019</th>\n",
       "      <td>La Crosse</td>\n",
       "      <td>Holmen PD</td>\n",
       "      <td>Arrest Count</td>\n",
       "      <td>0</td>\n",
       "      <td>2</td>\n",
       "      <td>0</td>\n",
       "      <td>2</td>\n",
       "      <td>1</td>\n",
       "      <td>33</td>\n",
       "      <td>1</td>\n",
       "      <td>25</td>\n",
       "      <td>0</td>\n",
       "    </tr>\n",
       "    <tr>\n",
       "      <th>2019</th>\n",
       "      <td>La Crosse</td>\n",
       "      <td>La Crosse Co SO</td>\n",
       "      <td>Arrest Count</td>\n",
       "      <td>6</td>\n",
       "      <td>0</td>\n",
       "      <td>0</td>\n",
       "      <td>5</td>\n",
       "      <td>9</td>\n",
       "      <td>35</td>\n",
       "      <td>2</td>\n",
       "      <td>20</td>\n",
       "      <td>1</td>\n",
       "    </tr>\n",
       "    <tr>\n",
       "      <th>2019</th>\n",
       "      <td>La Crosse</td>\n",
       "      <td>La Crosse PD</td>\n",
       "      <td>Arrest Count</td>\n",
       "      <td>22</td>\n",
       "      <td>2</td>\n",
       "      <td>1</td>\n",
       "      <td>18</td>\n",
       "      <td>105</td>\n",
       "      <td>292</td>\n",
       "      <td>5</td>\n",
       "      <td>170</td>\n",
       "      <td>1</td>\n",
       "    </tr>\n",
       "    <tr>\n",
       "      <th>2019</th>\n",
       "      <td>La Crosse</td>\n",
       "      <td>Onalaska PD</td>\n",
       "      <td>Arrest Count</td>\n",
       "      <td>3</td>\n",
       "      <td>1</td>\n",
       "      <td>0</td>\n",
       "      <td>1</td>\n",
       "      <td>10</td>\n",
       "      <td>26</td>\n",
       "      <td>4</td>\n",
       "      <td>20</td>\n",
       "      <td>0</td>\n",
       "    </tr>\n",
       "    <tr>\n",
       "      <th>2019</th>\n",
       "      <td>La Crosse</td>\n",
       "      <td>UW-La Crosse PD</td>\n",
       "      <td>Arrest Count</td>\n",
       "      <td>0</td>\n",
       "      <td>0</td>\n",
       "      <td>0</td>\n",
       "      <td>0</td>\n",
       "      <td>1</td>\n",
       "      <td>59</td>\n",
       "      <td>1</td>\n",
       "      <td>3</td>\n",
       "      <td>0</td>\n",
       "    </tr>\n",
       "    <tr>\n",
       "      <th>2019</th>\n",
       "      <td>La Crosse</td>\n",
       "      <td>West Salem PD</td>\n",
       "      <td>Arrest Count</td>\n",
       "      <td>0</td>\n",
       "      <td>0</td>\n",
       "      <td>0</td>\n",
       "      <td>0</td>\n",
       "      <td>2</td>\n",
       "      <td>16</td>\n",
       "      <td>0</td>\n",
       "      <td>11</td>\n",
       "      <td>0</td>\n",
       "    </tr>\n",
       "    <tr>\n",
       "      <th>2019</th>\n",
       "      <td>La Crosse</td>\n",
       "      <td>Total</td>\n",
       "      <td>Arrest Count</td>\n",
       "      <td>32</td>\n",
       "      <td>5</td>\n",
       "      <td>1</td>\n",
       "      <td>28</td>\n",
       "      <td>130</td>\n",
       "      <td>471</td>\n",
       "      <td>13</td>\n",
       "      <td>260</td>\n",
       "      <td>2</td>\n",
       "    </tr>\n",
       "  </tbody>\n",
       "</table>\n",
       "</div>"
      ],
      "text/plain": [
       "         County      Agency_Name        Metric  Drug_Sale_Opium_Cocaine  \\\n",
       "Year                                                                      \n",
       "2019  La Crosse        Bangor PD  Arrest Count                        0   \n",
       "2019  La Crosse      Campbell PD  Arrest Count                        1   \n",
       "2019  La Crosse        Holmen PD  Arrest Count                        0   \n",
       "2019  La Crosse  La Crosse Co SO  Arrest Count                        6   \n",
       "2019  La Crosse     La Crosse PD  Arrest Count                       22   \n",
       "2019  La Crosse      Onalaska PD  Arrest Count                        3   \n",
       "2019  La Crosse  UW-La Crosse PD  Arrest Count                        0   \n",
       "2019  La Crosse    West Salem PD  Arrest Count                        0   \n",
       "2019  La Crosse            Total  Arrest Count                       32   \n",
       "\n",
       "      Drug_Sale_Marijuana  Drug_Sale_Synthetic  Drug_Sale_Other_Dangerous  \\\n",
       "Year                                                                        \n",
       "2019                    0                    0                          0   \n",
       "2019                    0                    0                          2   \n",
       "2019                    2                    0                          2   \n",
       "2019                    0                    0                          5   \n",
       "2019                    2                    1                         18   \n",
       "2019                    1                    0                          1   \n",
       "2019                    0                    0                          0   \n",
       "2019                    0                    0                          0   \n",
       "2019                    5                    1                         28   \n",
       "\n",
       "      Drug_Possession_Opium_Cocaine  Drug_Possession_Marijuana  \\\n",
       "Year                                                             \n",
       "2019                              0                          1   \n",
       "2019                              2                          9   \n",
       "2019                              1                         33   \n",
       "2019                              9                         35   \n",
       "2019                            105                        292   \n",
       "2019                             10                         26   \n",
       "2019                              1                         59   \n",
       "2019                              2                         16   \n",
       "2019                            130                        471   \n",
       "\n",
       "      Drug_Possession_Synthetic  Drug_Possession_Other_Dangerous  Drug_Unknown  \n",
       "Year                                                                            \n",
       "2019                          0                                0             0  \n",
       "2019                          0                               11             0  \n",
       "2019                          1                               25             0  \n",
       "2019                          2                               20             1  \n",
       "2019                          5                              170             1  \n",
       "2019                          4                               20             0  \n",
       "2019                          1                                3             0  \n",
       "2019                          0                               11             0  \n",
       "2019                         13                              260             2  "
      ]
     },
     "execution_count": 115,
     "metadata": {},
     "output_type": "execute_result"
    }
   ],
   "source": [
    "arrests_2019 = arrests_2019.drop(columns=['Agency Name.1', 'County.1', 'Adult Or Juvenile'])\n",
    "arrests_2019 = arrests_2019[arrests_2019['Unnamed: 5'] == 'Arrest Count']\n",
    "arrests_2019 = arrests_2019.rename(columns={\n",
    "    'County': 'County',\n",
    "    'Agency Name': 'Agency_Name',\n",
    "    'Unnamed: 5': 'Metric',\n",
    "    'Drug Sale - Opium/Cocaine': 'Drug_Sale_Opium_Cocaine',\n",
    "    'Drug Sale - Marijuana': 'Drug_Sale_Marijuana',\n",
    "    'Drug Sale - Synthetic': 'Drug_Sale_Synthetic',\n",
    "    'Drug Sale - Other Dangerous': 'Drug_Sale_Other_Dangerous',\n",
    "    'Drug Possession - Opium/Cocaine': 'Drug_Possession_Opium_Cocaine',\n",
    "    'Drug Possession - Marijuana': 'Drug_Possession_Marijuana',\n",
    "    'Drug Possession - Synthetic': 'Drug_Possession_Synthetic',\n",
    "    'Drug Possession - Other Dangerous': 'Drug_Possession_Other_Dangerous',\n",
    "    'Drug - Unknown': 'Drug_Unknown'\n",
    "})\n",
    "arrests_2019['Year'] = 2019\n",
    "arrests_2019 = arrests_2019.set_index('Year')\n",
    "arrests_2019"
   ]
  },
  {
   "cell_type": "markdown",
   "id": "5b78cedd-5194-46a7-a776-c2efb54123b5",
   "metadata": {},
   "source": [
    "## 2020 Data Cleansing"
   ]
  },
  {
   "cell_type": "code",
   "execution_count": 116,
   "id": "0f5ed60c-a644-4ccb-be7a-6c14d7676318",
   "metadata": {
    "tags": []
   },
   "outputs": [
    {
     "data": {
      "text/html": [
       "<div>\n",
       "<style scoped>\n",
       "    .dataframe tbody tr th:only-of-type {\n",
       "        vertical-align: middle;\n",
       "    }\n",
       "\n",
       "    .dataframe tbody tr th {\n",
       "        vertical-align: top;\n",
       "    }\n",
       "\n",
       "    .dataframe thead th {\n",
       "        text-align: right;\n",
       "    }\n",
       "</style>\n",
       "<table border=\"1\" class=\"dataframe\">\n",
       "  <thead>\n",
       "    <tr style=\"text-align: right;\">\n",
       "      <th></th>\n",
       "      <th>County</th>\n",
       "      <th>Agency_Name</th>\n",
       "      <th>Metric</th>\n",
       "      <th>Drug_Sale_Opium_Cocaine</th>\n",
       "      <th>Drug_Sale_Marijuana</th>\n",
       "      <th>Drug_Sale_Synthetic</th>\n",
       "      <th>Drug_Sale_Other_Dangerous</th>\n",
       "      <th>Drug_Possession_Opium_Cocaine</th>\n",
       "      <th>Drug_Possession_Marijuana</th>\n",
       "      <th>Drug_Possession_Synthetic</th>\n",
       "      <th>Drug_Possession_Other_Dangerous</th>\n",
       "      <th>Drug_Unknown</th>\n",
       "    </tr>\n",
       "    <tr>\n",
       "      <th>Year</th>\n",
       "      <th></th>\n",
       "      <th></th>\n",
       "      <th></th>\n",
       "      <th></th>\n",
       "      <th></th>\n",
       "      <th></th>\n",
       "      <th></th>\n",
       "      <th></th>\n",
       "      <th></th>\n",
       "      <th></th>\n",
       "      <th></th>\n",
       "      <th></th>\n",
       "    </tr>\n",
       "  </thead>\n",
       "  <tbody>\n",
       "    <tr>\n",
       "      <th>2020</th>\n",
       "      <td>La Crosse</td>\n",
       "      <td>Bangor PD</td>\n",
       "      <td>Arrest Count</td>\n",
       "      <td>0</td>\n",
       "      <td>0</td>\n",
       "      <td>0</td>\n",
       "      <td>0</td>\n",
       "      <td>0</td>\n",
       "      <td>0</td>\n",
       "      <td>0</td>\n",
       "      <td>0</td>\n",
       "      <td>0</td>\n",
       "    </tr>\n",
       "    <tr>\n",
       "      <th>2020</th>\n",
       "      <td>La Crosse</td>\n",
       "      <td>Campbell PD</td>\n",
       "      <td>Arrest Count</td>\n",
       "      <td>0</td>\n",
       "      <td>1</td>\n",
       "      <td>0</td>\n",
       "      <td>0</td>\n",
       "      <td>4</td>\n",
       "      <td>6</td>\n",
       "      <td>1</td>\n",
       "      <td>14</td>\n",
       "      <td>0</td>\n",
       "    </tr>\n",
       "    <tr>\n",
       "      <th>2020</th>\n",
       "      <td>La Crosse</td>\n",
       "      <td>Holmen PD</td>\n",
       "      <td>Arrest Count</td>\n",
       "      <td>0</td>\n",
       "      <td>0</td>\n",
       "      <td>0</td>\n",
       "      <td>0</td>\n",
       "      <td>5</td>\n",
       "      <td>17</td>\n",
       "      <td>1</td>\n",
       "      <td>8</td>\n",
       "      <td>0</td>\n",
       "    </tr>\n",
       "    <tr>\n",
       "      <th>2020</th>\n",
       "      <td>La Crosse</td>\n",
       "      <td>La Crosse Co SO</td>\n",
       "      <td>Arrest Count</td>\n",
       "      <td>0</td>\n",
       "      <td>0</td>\n",
       "      <td>0</td>\n",
       "      <td>2</td>\n",
       "      <td>3</td>\n",
       "      <td>16</td>\n",
       "      <td>1</td>\n",
       "      <td>22</td>\n",
       "      <td>0</td>\n",
       "    </tr>\n",
       "    <tr>\n",
       "      <th>2020</th>\n",
       "      <td>La Crosse</td>\n",
       "      <td>La Crosse PD</td>\n",
       "      <td>Arrest Count</td>\n",
       "      <td>12</td>\n",
       "      <td>3</td>\n",
       "      <td>2</td>\n",
       "      <td>33</td>\n",
       "      <td>85</td>\n",
       "      <td>161</td>\n",
       "      <td>7</td>\n",
       "      <td>129</td>\n",
       "      <td>1</td>\n",
       "    </tr>\n",
       "    <tr>\n",
       "      <th>2020</th>\n",
       "      <td>La Crosse</td>\n",
       "      <td>Onalaska PD</td>\n",
       "      <td>Arrest Count</td>\n",
       "      <td>0</td>\n",
       "      <td>0</td>\n",
       "      <td>0</td>\n",
       "      <td>4</td>\n",
       "      <td>1</td>\n",
       "      <td>18</td>\n",
       "      <td>0</td>\n",
       "      <td>21</td>\n",
       "      <td>0</td>\n",
       "    </tr>\n",
       "    <tr>\n",
       "      <th>2020</th>\n",
       "      <td>La Crosse</td>\n",
       "      <td>UW-La Crosse PD</td>\n",
       "      <td>Arrest Count</td>\n",
       "      <td>0</td>\n",
       "      <td>0</td>\n",
       "      <td>0</td>\n",
       "      <td>0</td>\n",
       "      <td>0</td>\n",
       "      <td>53</td>\n",
       "      <td>1</td>\n",
       "      <td>1</td>\n",
       "      <td>0</td>\n",
       "    </tr>\n",
       "    <tr>\n",
       "      <th>2020</th>\n",
       "      <td>La Crosse</td>\n",
       "      <td>West Salem PD</td>\n",
       "      <td>Arrest Count</td>\n",
       "      <td>0</td>\n",
       "      <td>0</td>\n",
       "      <td>0</td>\n",
       "      <td>0</td>\n",
       "      <td>1</td>\n",
       "      <td>17</td>\n",
       "      <td>1</td>\n",
       "      <td>5</td>\n",
       "      <td>0</td>\n",
       "    </tr>\n",
       "    <tr>\n",
       "      <th>2020</th>\n",
       "      <td>La Crosse</td>\n",
       "      <td>Total</td>\n",
       "      <td>Arrest Count</td>\n",
       "      <td>12</td>\n",
       "      <td>4</td>\n",
       "      <td>2</td>\n",
       "      <td>39</td>\n",
       "      <td>99</td>\n",
       "      <td>288</td>\n",
       "      <td>12</td>\n",
       "      <td>200</td>\n",
       "      <td>1</td>\n",
       "    </tr>\n",
       "  </tbody>\n",
       "</table>\n",
       "</div>"
      ],
      "text/plain": [
       "         County      Agency_Name        Metric  Drug_Sale_Opium_Cocaine  \\\n",
       "Year                                                                      \n",
       "2020  La Crosse        Bangor PD  Arrest Count                        0   \n",
       "2020  La Crosse      Campbell PD  Arrest Count                        0   \n",
       "2020  La Crosse        Holmen PD  Arrest Count                        0   \n",
       "2020  La Crosse  La Crosse Co SO  Arrest Count                        0   \n",
       "2020  La Crosse     La Crosse PD  Arrest Count                       12   \n",
       "2020  La Crosse      Onalaska PD  Arrest Count                        0   \n",
       "2020  La Crosse  UW-La Crosse PD  Arrest Count                        0   \n",
       "2020  La Crosse    West Salem PD  Arrest Count                        0   \n",
       "2020  La Crosse            Total  Arrest Count                       12   \n",
       "\n",
       "      Drug_Sale_Marijuana  Drug_Sale_Synthetic  Drug_Sale_Other_Dangerous  \\\n",
       "Year                                                                        \n",
       "2020                    0                    0                          0   \n",
       "2020                    1                    0                          0   \n",
       "2020                    0                    0                          0   \n",
       "2020                    0                    0                          2   \n",
       "2020                    3                    2                         33   \n",
       "2020                    0                    0                          4   \n",
       "2020                    0                    0                          0   \n",
       "2020                    0                    0                          0   \n",
       "2020                    4                    2                         39   \n",
       "\n",
       "      Drug_Possession_Opium_Cocaine  Drug_Possession_Marijuana  \\\n",
       "Year                                                             \n",
       "2020                              0                          0   \n",
       "2020                              4                          6   \n",
       "2020                              5                         17   \n",
       "2020                              3                         16   \n",
       "2020                             85                        161   \n",
       "2020                              1                         18   \n",
       "2020                              0                         53   \n",
       "2020                              1                         17   \n",
       "2020                             99                        288   \n",
       "\n",
       "      Drug_Possession_Synthetic  Drug_Possession_Other_Dangerous  Drug_Unknown  \n",
       "Year                                                                            \n",
       "2020                          0                                0             0  \n",
       "2020                          1                               14             0  \n",
       "2020                          1                                8             0  \n",
       "2020                          1                               22             0  \n",
       "2020                          7                              129             1  \n",
       "2020                          0                               21             0  \n",
       "2020                          1                                1             0  \n",
       "2020                          1                                5             0  \n",
       "2020                         12                              200             1  "
      ]
     },
     "execution_count": 116,
     "metadata": {},
     "output_type": "execute_result"
    }
   ],
   "source": [
    "arrests_2020 = arrests_2020.drop(columns=['Agency Name.1', 'County.1', 'Adult Or Juvenile'])\n",
    "arrests_2020 = arrests_2020[arrests_2020['Unnamed: 5'] == 'Arrest Count']\n",
    "arrests_2020 = arrests_2020.rename(columns={\n",
    "    'County': 'County',\n",
    "    'Agency Name': 'Agency_Name',\n",
    "    'Unnamed: 5': 'Metric',\n",
    "    'Drug Sale - Opium/Cocaine': 'Drug_Sale_Opium_Cocaine',\n",
    "    'Drug Sale - Marijuana': 'Drug_Sale_Marijuana',\n",
    "    'Drug Sale - Synthetic': 'Drug_Sale_Synthetic',\n",
    "    'Drug Sale - Other Dangerous': 'Drug_Sale_Other_Dangerous',\n",
    "    'Drug Possession - Opium/Cocaine': 'Drug_Possession_Opium_Cocaine',\n",
    "    'Drug Possession - Marijuana': 'Drug_Possession_Marijuana',\n",
    "    'Drug Possession - Synthetic': 'Drug_Possession_Synthetic',\n",
    "    'Drug Possession - Other Dangerous': 'Drug_Possession_Other_Dangerous',\n",
    "    'Drug - Unknown': 'Drug_Unknown'\n",
    "})\n",
    "arrests_2020['Year'] = 2020\n",
    "arrests_2020 = arrests_2020.set_index('Year')\n",
    "arrests_2020"
   ]
  },
  {
   "cell_type": "markdown",
   "id": "869e24fa-acbf-4256-83ac-55aee353d74f",
   "metadata": {},
   "source": [
    "## 2021 Data Cleansing"
   ]
  },
  {
   "cell_type": "code",
   "execution_count": 117,
   "id": "fbdd70be-a99b-46fa-b318-0f17cb6a4f59",
   "metadata": {
    "tags": []
   },
   "outputs": [
    {
     "data": {
      "text/html": [
       "<div>\n",
       "<style scoped>\n",
       "    .dataframe tbody tr th:only-of-type {\n",
       "        vertical-align: middle;\n",
       "    }\n",
       "\n",
       "    .dataframe tbody tr th {\n",
       "        vertical-align: top;\n",
       "    }\n",
       "\n",
       "    .dataframe thead th {\n",
       "        text-align: right;\n",
       "    }\n",
       "</style>\n",
       "<table border=\"1\" class=\"dataframe\">\n",
       "  <thead>\n",
       "    <tr style=\"text-align: right;\">\n",
       "      <th></th>\n",
       "      <th>County</th>\n",
       "      <th>Agency_Name</th>\n",
       "      <th>Metric</th>\n",
       "      <th>Drug_Sale_Opium_Cocaine</th>\n",
       "      <th>Drug_Sale_Marijuana</th>\n",
       "      <th>Drug_Sale_Synthetic</th>\n",
       "      <th>Drug_Sale_Other_Dangerous</th>\n",
       "      <th>Drug_Possession_Opium_Cocaine</th>\n",
       "      <th>Drug_Possession_Marijuana</th>\n",
       "      <th>Drug_Possession_Synthetic</th>\n",
       "      <th>Drug_Possession_Other_Dangerous</th>\n",
       "      <th>Drug_Unknown</th>\n",
       "    </tr>\n",
       "    <tr>\n",
       "      <th>Year</th>\n",
       "      <th></th>\n",
       "      <th></th>\n",
       "      <th></th>\n",
       "      <th></th>\n",
       "      <th></th>\n",
       "      <th></th>\n",
       "      <th></th>\n",
       "      <th></th>\n",
       "      <th></th>\n",
       "      <th></th>\n",
       "      <th></th>\n",
       "      <th></th>\n",
       "    </tr>\n",
       "  </thead>\n",
       "  <tbody>\n",
       "    <tr>\n",
       "      <th>2021</th>\n",
       "      <td>La Crosse</td>\n",
       "      <td>Bangor PD</td>\n",
       "      <td>Arrest Count</td>\n",
       "      <td>0</td>\n",
       "      <td>0</td>\n",
       "      <td>0</td>\n",
       "      <td>0</td>\n",
       "      <td>0</td>\n",
       "      <td>3</td>\n",
       "      <td>0</td>\n",
       "      <td>1</td>\n",
       "      <td>0</td>\n",
       "    </tr>\n",
       "    <tr>\n",
       "      <th>2021</th>\n",
       "      <td>La Crosse</td>\n",
       "      <td>Campbell PD</td>\n",
       "      <td>Arrest Count</td>\n",
       "      <td>1</td>\n",
       "      <td>0</td>\n",
       "      <td>1</td>\n",
       "      <td>1</td>\n",
       "      <td>4</td>\n",
       "      <td>5</td>\n",
       "      <td>1</td>\n",
       "      <td>5</td>\n",
       "      <td>0</td>\n",
       "    </tr>\n",
       "    <tr>\n",
       "      <th>2021</th>\n",
       "      <td>La Crosse</td>\n",
       "      <td>Holmen PD</td>\n",
       "      <td>Arrest Count</td>\n",
       "      <td>2</td>\n",
       "      <td>0</td>\n",
       "      <td>0</td>\n",
       "      <td>1</td>\n",
       "      <td>1</td>\n",
       "      <td>24</td>\n",
       "      <td>0</td>\n",
       "      <td>2</td>\n",
       "      <td>0</td>\n",
       "    </tr>\n",
       "    <tr>\n",
       "      <th>2021</th>\n",
       "      <td>La Crosse</td>\n",
       "      <td>La Crosse Co SO</td>\n",
       "      <td>Arrest Count</td>\n",
       "      <td>3</td>\n",
       "      <td>0</td>\n",
       "      <td>0</td>\n",
       "      <td>2</td>\n",
       "      <td>7</td>\n",
       "      <td>22</td>\n",
       "      <td>0</td>\n",
       "      <td>19</td>\n",
       "      <td>1</td>\n",
       "    </tr>\n",
       "    <tr>\n",
       "      <th>2021</th>\n",
       "      <td>La Crosse</td>\n",
       "      <td>La Crosse PD</td>\n",
       "      <td>Arrest Count</td>\n",
       "      <td>7</td>\n",
       "      <td>4</td>\n",
       "      <td>9</td>\n",
       "      <td>20</td>\n",
       "      <td>71</td>\n",
       "      <td>139</td>\n",
       "      <td>5</td>\n",
       "      <td>111</td>\n",
       "      <td>2</td>\n",
       "    </tr>\n",
       "    <tr>\n",
       "      <th>2021</th>\n",
       "      <td>La Crosse</td>\n",
       "      <td>Onalaska PD</td>\n",
       "      <td>Arrest Count</td>\n",
       "      <td>1</td>\n",
       "      <td>0</td>\n",
       "      <td>0</td>\n",
       "      <td>1</td>\n",
       "      <td>3</td>\n",
       "      <td>12</td>\n",
       "      <td>0</td>\n",
       "      <td>20</td>\n",
       "      <td>0</td>\n",
       "    </tr>\n",
       "    <tr>\n",
       "      <th>2021</th>\n",
       "      <td>La Crosse</td>\n",
       "      <td>UW-La Crosse PD</td>\n",
       "      <td>Arrest Count</td>\n",
       "      <td>0</td>\n",
       "      <td>0</td>\n",
       "      <td>0</td>\n",
       "      <td>0</td>\n",
       "      <td>0</td>\n",
       "      <td>32</td>\n",
       "      <td>0</td>\n",
       "      <td>0</td>\n",
       "      <td>0</td>\n",
       "    </tr>\n",
       "    <tr>\n",
       "      <th>2021</th>\n",
       "      <td>La Crosse</td>\n",
       "      <td>West Salem PD</td>\n",
       "      <td>Arrest Count</td>\n",
       "      <td>0</td>\n",
       "      <td>0</td>\n",
       "      <td>0</td>\n",
       "      <td>0</td>\n",
       "      <td>3</td>\n",
       "      <td>23</td>\n",
       "      <td>0</td>\n",
       "      <td>17</td>\n",
       "      <td>0</td>\n",
       "    </tr>\n",
       "    <tr>\n",
       "      <th>2021</th>\n",
       "      <td>La Crosse</td>\n",
       "      <td>Total</td>\n",
       "      <td>Arrest Count</td>\n",
       "      <td>14</td>\n",
       "      <td>4</td>\n",
       "      <td>10</td>\n",
       "      <td>25</td>\n",
       "      <td>89</td>\n",
       "      <td>260</td>\n",
       "      <td>6</td>\n",
       "      <td>175</td>\n",
       "      <td>3</td>\n",
       "    </tr>\n",
       "  </tbody>\n",
       "</table>\n",
       "</div>"
      ],
      "text/plain": [
       "         County      Agency_Name        Metric  Drug_Sale_Opium_Cocaine  \\\n",
       "Year                                                                      \n",
       "2021  La Crosse        Bangor PD  Arrest Count                        0   \n",
       "2021  La Crosse      Campbell PD  Arrest Count                        1   \n",
       "2021  La Crosse        Holmen PD  Arrest Count                        2   \n",
       "2021  La Crosse  La Crosse Co SO  Arrest Count                        3   \n",
       "2021  La Crosse     La Crosse PD  Arrest Count                        7   \n",
       "2021  La Crosse      Onalaska PD  Arrest Count                        1   \n",
       "2021  La Crosse  UW-La Crosse PD  Arrest Count                        0   \n",
       "2021  La Crosse    West Salem PD  Arrest Count                        0   \n",
       "2021  La Crosse            Total  Arrest Count                       14   \n",
       "\n",
       "      Drug_Sale_Marijuana  Drug_Sale_Synthetic  Drug_Sale_Other_Dangerous  \\\n",
       "Year                                                                        \n",
       "2021                    0                    0                          0   \n",
       "2021                    0                    1                          1   \n",
       "2021                    0                    0                          1   \n",
       "2021                    0                    0                          2   \n",
       "2021                    4                    9                         20   \n",
       "2021                    0                    0                          1   \n",
       "2021                    0                    0                          0   \n",
       "2021                    0                    0                          0   \n",
       "2021                    4                   10                         25   \n",
       "\n",
       "      Drug_Possession_Opium_Cocaine  Drug_Possession_Marijuana  \\\n",
       "Year                                                             \n",
       "2021                              0                          3   \n",
       "2021                              4                          5   \n",
       "2021                              1                         24   \n",
       "2021                              7                         22   \n",
       "2021                             71                        139   \n",
       "2021                              3                         12   \n",
       "2021                              0                         32   \n",
       "2021                              3                         23   \n",
       "2021                             89                        260   \n",
       "\n",
       "      Drug_Possession_Synthetic  Drug_Possession_Other_Dangerous  Drug_Unknown  \n",
       "Year                                                                            \n",
       "2021                          0                                1             0  \n",
       "2021                          1                                5             0  \n",
       "2021                          0                                2             0  \n",
       "2021                          0                               19             1  \n",
       "2021                          5                              111             2  \n",
       "2021                          0                               20             0  \n",
       "2021                          0                                0             0  \n",
       "2021                          0                               17             0  \n",
       "2021                          6                              175             3  "
      ]
     },
     "execution_count": 117,
     "metadata": {},
     "output_type": "execute_result"
    }
   ],
   "source": [
    "arrests_2021 = arrests_2021.drop(columns=['Agency Name.1', 'County.1', 'Adult Or Juvenile'])\n",
    "arrests_2021 = arrests_2021[arrests_2021['Unnamed: 5'] == 'Arrest Count']\n",
    "arrests_2021 = arrests_2021.rename(columns={\n",
    "    'County': 'County',\n",
    "    'Agency Name': 'Agency_Name',\n",
    "    'Unnamed: 5': 'Metric',\n",
    "    'Drug Sale - Opium/Cocaine': 'Drug_Sale_Opium_Cocaine',\n",
    "    'Drug Sale - Marijuana': 'Drug_Sale_Marijuana',\n",
    "    'Drug Sale - Synthetic': 'Drug_Sale_Synthetic',\n",
    "    'Drug Sale - Other Dangerous': 'Drug_Sale_Other_Dangerous',\n",
    "    'Drug Possession - Opium/Cocaine': 'Drug_Possession_Opium_Cocaine',\n",
    "    'Drug Possession - Marijuana': 'Drug_Possession_Marijuana',\n",
    "    'Drug Possession - Synthetic': 'Drug_Possession_Synthetic',\n",
    "    'Drug Possession - Other Dangerous': 'Drug_Possession_Other_Dangerous',\n",
    "    'Drug - Unknown': 'Drug_Unknown'\n",
    "})\n",
    "arrests_2021['Year'] = 2021\n",
    "arrests_2021 = arrests_2021.set_index('Year')\n",
    "arrests_2021"
   ]
  },
  {
   "cell_type": "markdown",
   "id": "77d8c2f8-58d8-439b-b823-9115e1bc5b11",
   "metadata": {},
   "source": [
    "## 2022 Data Cleansing"
   ]
  },
  {
   "cell_type": "code",
   "execution_count": 118,
   "id": "dd48479d-8b44-4a13-8487-079f9f5155dd",
   "metadata": {
    "tags": []
   },
   "outputs": [
    {
     "data": {
      "text/html": [
       "<div>\n",
       "<style scoped>\n",
       "    .dataframe tbody tr th:only-of-type {\n",
       "        vertical-align: middle;\n",
       "    }\n",
       "\n",
       "    .dataframe tbody tr th {\n",
       "        vertical-align: top;\n",
       "    }\n",
       "\n",
       "    .dataframe thead th {\n",
       "        text-align: right;\n",
       "    }\n",
       "</style>\n",
       "<table border=\"1\" class=\"dataframe\">\n",
       "  <thead>\n",
       "    <tr style=\"text-align: right;\">\n",
       "      <th></th>\n",
       "      <th>County</th>\n",
       "      <th>Agency_Name</th>\n",
       "      <th>Metric</th>\n",
       "      <th>Drug_Sale_Opium_Cocaine</th>\n",
       "      <th>Drug_Sale_Marijuana</th>\n",
       "      <th>Drug_Sale_Synthetic</th>\n",
       "      <th>Drug_Sale_Other_Dangerous</th>\n",
       "      <th>Drug_Possession_Opium_Cocaine</th>\n",
       "      <th>Drug_Possession_Marijuana</th>\n",
       "      <th>Drug_Possession_Synthetic</th>\n",
       "      <th>Drug_Possession_Other_Dangerous</th>\n",
       "      <th>Drug_Unknown</th>\n",
       "    </tr>\n",
       "    <tr>\n",
       "      <th>Year</th>\n",
       "      <th></th>\n",
       "      <th></th>\n",
       "      <th></th>\n",
       "      <th></th>\n",
       "      <th></th>\n",
       "      <th></th>\n",
       "      <th></th>\n",
       "      <th></th>\n",
       "      <th></th>\n",
       "      <th></th>\n",
       "      <th></th>\n",
       "      <th></th>\n",
       "    </tr>\n",
       "  </thead>\n",
       "  <tbody>\n",
       "    <tr>\n",
       "      <th>2022</th>\n",
       "      <td>La Crosse</td>\n",
       "      <td>Bangor PD</td>\n",
       "      <td>Arrest Count</td>\n",
       "      <td>0</td>\n",
       "      <td>0</td>\n",
       "      <td>0</td>\n",
       "      <td>0</td>\n",
       "      <td>0</td>\n",
       "      <td>8</td>\n",
       "      <td>0</td>\n",
       "      <td>0</td>\n",
       "      <td>0</td>\n",
       "    </tr>\n",
       "    <tr>\n",
       "      <th>2022</th>\n",
       "      <td>La Crosse</td>\n",
       "      <td>Campbell PD</td>\n",
       "      <td>Arrest Count</td>\n",
       "      <td>0</td>\n",
       "      <td>0</td>\n",
       "      <td>0</td>\n",
       "      <td>3</td>\n",
       "      <td>5</td>\n",
       "      <td>5</td>\n",
       "      <td>1</td>\n",
       "      <td>11</td>\n",
       "      <td>0</td>\n",
       "    </tr>\n",
       "    <tr>\n",
       "      <th>2022</th>\n",
       "      <td>La Crosse</td>\n",
       "      <td>Holmen PD</td>\n",
       "      <td>Arrest Count</td>\n",
       "      <td>1</td>\n",
       "      <td>3</td>\n",
       "      <td>0</td>\n",
       "      <td>0</td>\n",
       "      <td>3</td>\n",
       "      <td>23</td>\n",
       "      <td>0</td>\n",
       "      <td>4</td>\n",
       "      <td>0</td>\n",
       "    </tr>\n",
       "    <tr>\n",
       "      <th>2022</th>\n",
       "      <td>La Crosse</td>\n",
       "      <td>La Crosse Co SO</td>\n",
       "      <td>Arrest Count</td>\n",
       "      <td>0</td>\n",
       "      <td>0</td>\n",
       "      <td>1</td>\n",
       "      <td>0</td>\n",
       "      <td>2</td>\n",
       "      <td>10</td>\n",
       "      <td>1</td>\n",
       "      <td>11</td>\n",
       "      <td>0</td>\n",
       "    </tr>\n",
       "    <tr>\n",
       "      <th>2022</th>\n",
       "      <td>La Crosse</td>\n",
       "      <td>La Crosse PD</td>\n",
       "      <td>Arrest Count</td>\n",
       "      <td>7</td>\n",
       "      <td>2</td>\n",
       "      <td>6</td>\n",
       "      <td>18</td>\n",
       "      <td>44</td>\n",
       "      <td>181</td>\n",
       "      <td>12</td>\n",
       "      <td>106</td>\n",
       "      <td>0</td>\n",
       "    </tr>\n",
       "    <tr>\n",
       "      <th>2022</th>\n",
       "      <td>La Crosse</td>\n",
       "      <td>Onalaska PD</td>\n",
       "      <td>Arrest Count</td>\n",
       "      <td>3</td>\n",
       "      <td>2</td>\n",
       "      <td>0</td>\n",
       "      <td>1</td>\n",
       "      <td>4</td>\n",
       "      <td>22</td>\n",
       "      <td>3</td>\n",
       "      <td>19</td>\n",
       "      <td>0</td>\n",
       "    </tr>\n",
       "    <tr>\n",
       "      <th>2022</th>\n",
       "      <td>La Crosse</td>\n",
       "      <td>UW-La Crosse PD</td>\n",
       "      <td>Arrest Count</td>\n",
       "      <td>0</td>\n",
       "      <td>0</td>\n",
       "      <td>0</td>\n",
       "      <td>0</td>\n",
       "      <td>0</td>\n",
       "      <td>3</td>\n",
       "      <td>0</td>\n",
       "      <td>0</td>\n",
       "      <td>0</td>\n",
       "    </tr>\n",
       "    <tr>\n",
       "      <th>2022</th>\n",
       "      <td>La Crosse</td>\n",
       "      <td>West Salem PD</td>\n",
       "      <td>Arrest Count</td>\n",
       "      <td>0</td>\n",
       "      <td>0</td>\n",
       "      <td>0</td>\n",
       "      <td>0</td>\n",
       "      <td>0</td>\n",
       "      <td>17</td>\n",
       "      <td>3</td>\n",
       "      <td>7</td>\n",
       "      <td>0</td>\n",
       "    </tr>\n",
       "    <tr>\n",
       "      <th>2022</th>\n",
       "      <td>La Crosse</td>\n",
       "      <td>Total</td>\n",
       "      <td>Arrest Count</td>\n",
       "      <td>11</td>\n",
       "      <td>7</td>\n",
       "      <td>7</td>\n",
       "      <td>22</td>\n",
       "      <td>58</td>\n",
       "      <td>269</td>\n",
       "      <td>20</td>\n",
       "      <td>158</td>\n",
       "      <td>0</td>\n",
       "    </tr>\n",
       "  </tbody>\n",
       "</table>\n",
       "</div>"
      ],
      "text/plain": [
       "         County      Agency_Name        Metric  Drug_Sale_Opium_Cocaine  \\\n",
       "Year                                                                      \n",
       "2022  La Crosse        Bangor PD  Arrest Count                        0   \n",
       "2022  La Crosse      Campbell PD  Arrest Count                        0   \n",
       "2022  La Crosse        Holmen PD  Arrest Count                        1   \n",
       "2022  La Crosse  La Crosse Co SO  Arrest Count                        0   \n",
       "2022  La Crosse     La Crosse PD  Arrest Count                        7   \n",
       "2022  La Crosse      Onalaska PD  Arrest Count                        3   \n",
       "2022  La Crosse  UW-La Crosse PD  Arrest Count                        0   \n",
       "2022  La Crosse    West Salem PD  Arrest Count                        0   \n",
       "2022  La Crosse            Total  Arrest Count                       11   \n",
       "\n",
       "      Drug_Sale_Marijuana  Drug_Sale_Synthetic  Drug_Sale_Other_Dangerous  \\\n",
       "Year                                                                        \n",
       "2022                    0                    0                          0   \n",
       "2022                    0                    0                          3   \n",
       "2022                    3                    0                          0   \n",
       "2022                    0                    1                          0   \n",
       "2022                    2                    6                         18   \n",
       "2022                    2                    0                          1   \n",
       "2022                    0                    0                          0   \n",
       "2022                    0                    0                          0   \n",
       "2022                    7                    7                         22   \n",
       "\n",
       "      Drug_Possession_Opium_Cocaine  Drug_Possession_Marijuana  \\\n",
       "Year                                                             \n",
       "2022                              0                          8   \n",
       "2022                              5                          5   \n",
       "2022                              3                         23   \n",
       "2022                              2                         10   \n",
       "2022                             44                        181   \n",
       "2022                              4                         22   \n",
       "2022                              0                          3   \n",
       "2022                              0                         17   \n",
       "2022                             58                        269   \n",
       "\n",
       "      Drug_Possession_Synthetic  Drug_Possession_Other_Dangerous  Drug_Unknown  \n",
       "Year                                                                            \n",
       "2022                          0                                0             0  \n",
       "2022                          1                               11             0  \n",
       "2022                          0                                4             0  \n",
       "2022                          1                               11             0  \n",
       "2022                         12                              106             0  \n",
       "2022                          3                               19             0  \n",
       "2022                          0                                0             0  \n",
       "2022                          3                                7             0  \n",
       "2022                         20                              158             0  "
      ]
     },
     "execution_count": 118,
     "metadata": {},
     "output_type": "execute_result"
    }
   ],
   "source": [
    "arrests_2022 = arrests_2022.drop(columns=['Agency Name.1', 'County.1', 'Adult Or Juvenile'])\n",
    "arrests_2022 = arrests_2022[arrests_2022['Unnamed: 5'] == 'Arrest Count']\n",
    "arrests_2022 = arrests_2022.rename(columns={\n",
    "    'County': 'County',\n",
    "    'Agency Name': 'Agency_Name',\n",
    "    'Unnamed: 5': 'Metric',\n",
    "    'Drug Sale - Opium/Cocaine': 'Drug_Sale_Opium_Cocaine',\n",
    "    'Drug Sale - Marijuana': 'Drug_Sale_Marijuana',\n",
    "    'Drug Sale - Synthetic': 'Drug_Sale_Synthetic',\n",
    "    'Drug Sale - Other Dangerous': 'Drug_Sale_Other_Dangerous',\n",
    "    'Drug Possession - Opium/Cocaine': 'Drug_Possession_Opium_Cocaine',\n",
    "    'Drug Possession - Marijuana': 'Drug_Possession_Marijuana',\n",
    "    'Drug Possession - Synthetic': 'Drug_Possession_Synthetic',\n",
    "    'Drug Possession - Other Dangerous': 'Drug_Possession_Other_Dangerous',\n",
    "    'Drug - Unknown': 'Drug_Unknown'\n",
    "})\n",
    "arrests_2022['Year'] = 2022\n",
    "arrests_2022 = arrests_2022.set_index('Year')\n",
    "arrests_2022"
   ]
  },
  {
   "cell_type": "code",
   "execution_count": 134,
   "id": "04912972-07f6-488d-9d52-2abdd0f24340",
   "metadata": {
    "tags": []
   },
   "outputs": [],
   "source": [
    "all_arrests = pd.concat([arrests_2018, arrests_2019, arrests_2020, arrests_2021, arrests_2022])\n"
   ]
  },
  {
   "cell_type": "code",
   "execution_count": 135,
   "id": "ad3111de-ef18-4a76-92e1-740416d2cfac",
   "metadata": {
    "tags": []
   },
   "outputs": [],
   "source": [
    "total_arrests = all_arrests[all_arrests['Agency_Name'] == 'Total']"
   ]
  },
  {
   "cell_type": "code",
   "execution_count": 136,
   "id": "3781a89c-b9ea-4467-a889-3eb632482f52",
   "metadata": {
    "tags": []
   },
   "outputs": [],
   "source": [
    "total_arrests = total_arrests.drop(columns=['County', 'Agency_Name', 'Metric', 'Drug_Unknown'])"
   ]
  },
  {
   "cell_type": "code",
   "execution_count": 137,
   "id": "51979a40-d95b-4337-80a2-fb49d3da7a89",
   "metadata": {
    "tags": []
   },
   "outputs": [],
   "source": [
    "total_arrests.to_csv(\"total_arrests.csv\")"
   ]
  },
  {
   "cell_type": "code",
   "execution_count": 123,
   "id": "d2f53867-1058-42dd-8a26-96f9cd58257b",
   "metadata": {
    "tags": []
   },
   "outputs": [],
   "source": [
    "comparable_od_data = overdose_df_count_by_year.loc[2018:2022]"
   ]
  },
  {
   "cell_type": "code",
   "execution_count": 124,
   "id": "c6c5d6d4-6242-4afd-bc52-d8a604e1e7b1",
   "metadata": {
    "tags": []
   },
   "outputs": [
    {
     "data": {
      "text/html": [
       "<div>\n",
       "<style scoped>\n",
       "    .dataframe tbody tr th:only-of-type {\n",
       "        vertical-align: middle;\n",
       "    }\n",
       "\n",
       "    .dataframe tbody tr th {\n",
       "        vertical-align: top;\n",
       "    }\n",
       "\n",
       "    .dataframe thead th {\n",
       "        text-align: right;\n",
       "    }\n",
       "</style>\n",
       "<table border=\"1\" class=\"dataframe\">\n",
       "  <thead>\n",
       "    <tr style=\"text-align: right;\">\n",
       "      <th></th>\n",
       "      <th>Alcohol</th>\n",
       "      <th>Heroin</th>\n",
       "      <th>Methamphetamine</th>\n",
       "      <th>Cocaine</th>\n",
       "      <th>RX</th>\n",
       "      <th>Opioids</th>\n",
       "      <th>THC</th>\n",
       "      <th>Fentanyl</th>\n",
       "      <th>Codeine</th>\n",
       "      <th>Norfentanyl</th>\n",
       "      <th>Methadone</th>\n",
       "      <th>Morphine</th>\n",
       "      <th>Amphetamines</th>\n",
       "    </tr>\n",
       "    <tr>\n",
       "      <th>Year</th>\n",
       "      <th></th>\n",
       "      <th></th>\n",
       "      <th></th>\n",
       "      <th></th>\n",
       "      <th></th>\n",
       "      <th></th>\n",
       "      <th></th>\n",
       "      <th></th>\n",
       "      <th></th>\n",
       "      <th></th>\n",
       "      <th></th>\n",
       "      <th></th>\n",
       "      <th></th>\n",
       "    </tr>\n",
       "  </thead>\n",
       "  <tbody>\n",
       "    <tr>\n",
       "      <th>2018</th>\n",
       "      <td>4.0</td>\n",
       "      <td>0.0</td>\n",
       "      <td>0.0</td>\n",
       "      <td>4.0</td>\n",
       "      <td>6.0</td>\n",
       "      <td>21</td>\n",
       "      <td>5.0</td>\n",
       "      <td>18.0</td>\n",
       "      <td>0.0</td>\n",
       "      <td>0.0</td>\n",
       "      <td>0.0</td>\n",
       "      <td>12.0</td>\n",
       "      <td>10.0</td>\n",
       "    </tr>\n",
       "    <tr>\n",
       "      <th>2019</th>\n",
       "      <td>8.0</td>\n",
       "      <td>4.0</td>\n",
       "      <td>11.0</td>\n",
       "      <td>3.0</td>\n",
       "      <td>4.0</td>\n",
       "      <td>16</td>\n",
       "      <td>2.0</td>\n",
       "      <td>14.0</td>\n",
       "      <td>0.0</td>\n",
       "      <td>0.0</td>\n",
       "      <td>0.0</td>\n",
       "      <td>5.0</td>\n",
       "      <td>3.0</td>\n",
       "    </tr>\n",
       "    <tr>\n",
       "      <th>2020</th>\n",
       "      <td>7.0</td>\n",
       "      <td>4.0</td>\n",
       "      <td>23.0</td>\n",
       "      <td>5.0</td>\n",
       "      <td>11.0</td>\n",
       "      <td>31</td>\n",
       "      <td>9.0</td>\n",
       "      <td>27.0</td>\n",
       "      <td>3.0</td>\n",
       "      <td>17.0</td>\n",
       "      <td>2.0</td>\n",
       "      <td>7.0</td>\n",
       "      <td>20.0</td>\n",
       "    </tr>\n",
       "    <tr>\n",
       "      <th>2021</th>\n",
       "      <td>1.0</td>\n",
       "      <td>2.0</td>\n",
       "      <td>13.0</td>\n",
       "      <td>3.0</td>\n",
       "      <td>0.0</td>\n",
       "      <td>27</td>\n",
       "      <td>0.0</td>\n",
       "      <td>27.0</td>\n",
       "      <td>1.0</td>\n",
       "      <td>0.0</td>\n",
       "      <td>1.0</td>\n",
       "      <td>2.0</td>\n",
       "      <td>1.0</td>\n",
       "    </tr>\n",
       "    <tr>\n",
       "      <th>2022</th>\n",
       "      <td>14.0</td>\n",
       "      <td>0.0</td>\n",
       "      <td>22.0</td>\n",
       "      <td>11.0</td>\n",
       "      <td>6.0</td>\n",
       "      <td>27</td>\n",
       "      <td>0.0</td>\n",
       "      <td>25.0</td>\n",
       "      <td>0.0</td>\n",
       "      <td>0.0</td>\n",
       "      <td>0.0</td>\n",
       "      <td>0.0</td>\n",
       "      <td>0.0</td>\n",
       "    </tr>\n",
       "  </tbody>\n",
       "</table>\n",
       "</div>"
      ],
      "text/plain": [
       "      Alcohol  Heroin  Methamphetamine  Cocaine    RX  Opioids  THC  Fentanyl  \\\n",
       "Year                                                                            \n",
       "2018      4.0     0.0              0.0      4.0   6.0       21  5.0      18.0   \n",
       "2019      8.0     4.0             11.0      3.0   4.0       16  2.0      14.0   \n",
       "2020      7.0     4.0             23.0      5.0  11.0       31  9.0      27.0   \n",
       "2021      1.0     2.0             13.0      3.0   0.0       27  0.0      27.0   \n",
       "2022     14.0     0.0             22.0     11.0   6.0       27  0.0      25.0   \n",
       "\n",
       "      Codeine  Norfentanyl  Methadone  Morphine  Amphetamines  \n",
       "Year                                                           \n",
       "2018      0.0          0.0        0.0      12.0          10.0  \n",
       "2019      0.0          0.0        0.0       5.0           3.0  \n",
       "2020      3.0         17.0        2.0       7.0          20.0  \n",
       "2021      1.0          0.0        1.0       2.0           1.0  \n",
       "2022      0.0          0.0        0.0       0.0           0.0  "
      ]
     },
     "execution_count": 124,
     "metadata": {},
     "output_type": "execute_result"
    }
   ],
   "source": [
    "comparable_od_data"
   ]
  },
  {
   "cell_type": "code",
   "execution_count": 125,
   "id": "417a0cdd-7936-4fd1-9340-5182e247b577",
   "metadata": {
    "tags": []
   },
   "outputs": [
    {
     "data": {
      "text/html": [
       "<div>\n",
       "<style scoped>\n",
       "    .dataframe tbody tr th:only-of-type {\n",
       "        vertical-align: middle;\n",
       "    }\n",
       "\n",
       "    .dataframe tbody tr th {\n",
       "        vertical-align: top;\n",
       "    }\n",
       "\n",
       "    .dataframe thead th {\n",
       "        text-align: right;\n",
       "    }\n",
       "</style>\n",
       "<table border=\"1\" class=\"dataframe\">\n",
       "  <thead>\n",
       "    <tr style=\"text-align: right;\">\n",
       "      <th></th>\n",
       "      <th>Opium/Cocaine</th>\n",
       "      <th>Marijuana</th>\n",
       "      <th>Synthetic</th>\n",
       "      <th>Other Dangerous</th>\n",
       "    </tr>\n",
       "    <tr>\n",
       "      <th>Year</th>\n",
       "      <th></th>\n",
       "      <th></th>\n",
       "      <th></th>\n",
       "      <th></th>\n",
       "    </tr>\n",
       "  </thead>\n",
       "  <tbody>\n",
       "    <tr>\n",
       "      <th>2018</th>\n",
       "      <td>16.0</td>\n",
       "      <td>5.0</td>\n",
       "      <td>39.0</td>\n",
       "      <td>10.0</td>\n",
       "    </tr>\n",
       "    <tr>\n",
       "      <th>2019</th>\n",
       "      <td>12.0</td>\n",
       "      <td>2.0</td>\n",
       "      <td>30.0</td>\n",
       "      <td>14.0</td>\n",
       "    </tr>\n",
       "    <tr>\n",
       "      <th>2020</th>\n",
       "      <td>19.0</td>\n",
       "      <td>9.0</td>\n",
       "      <td>77.0</td>\n",
       "      <td>43.0</td>\n",
       "    </tr>\n",
       "    <tr>\n",
       "      <th>2021</th>\n",
       "      <td>8.0</td>\n",
       "      <td>0.0</td>\n",
       "      <td>55.0</td>\n",
       "      <td>14.0</td>\n",
       "    </tr>\n",
       "    <tr>\n",
       "      <th>2022</th>\n",
       "      <td>11.0</td>\n",
       "      <td>0.0</td>\n",
       "      <td>52.0</td>\n",
       "      <td>22.0</td>\n",
       "    </tr>\n",
       "  </tbody>\n",
       "</table>\n",
       "</div>"
      ],
      "text/plain": [
       "      Opium/Cocaine  Marijuana  Synthetic  Other Dangerous\n",
       "Year                                                      \n",
       "2018           16.0        5.0       39.0             10.0\n",
       "2019           12.0        2.0       30.0             14.0\n",
       "2020           19.0        9.0       77.0             43.0\n",
       "2021            8.0        0.0       55.0             14.0\n",
       "2022           11.0        0.0       52.0             22.0"
      ]
     },
     "execution_count": 125,
     "metadata": {},
     "output_type": "execute_result"
    }
   ],
   "source": [
    "od_data_catergorized = pd.DataFrame({\n",
    "    'Opium/Cocaine': comparable_od_data['Cocaine'] + comparable_od_data['Codeine'] + comparable_od_data['Heroin'] + comparable_od_data['Morphine'],\n",
    "    'Marijuana': comparable_od_data['THC'],\n",
    "    'Synthetic': comparable_od_data['Opioids'] + comparable_od_data['Fentanyl'] + comparable_od_data['Norfentanyl'] + comparable_od_data['Methadone'],\n",
    "    'Other Dangerous': comparable_od_data['Amphetamines'] + comparable_od_data['Methamphetamine']\n",
    "})\n",
    "od_data_catergorized"
   ]
  },
  {
   "cell_type": "code",
   "execution_count": 126,
   "id": "f72d3818-46e9-451e-baae-62ea6bc6a8fd",
   "metadata": {
    "tags": []
   },
   "outputs": [],
   "source": [
    "arrest_od_data = pd.concat([od_data_catergorized, total_arrests], axis=1)"
   ]
  },
  {
   "cell_type": "code",
   "execution_count": 127,
   "id": "75dcc393-9a39-4f21-a31e-e5f20605245f",
   "metadata": {
    "tags": []
   },
   "outputs": [
    {
     "data": {
      "text/html": [
       "<div>\n",
       "<style scoped>\n",
       "    .dataframe tbody tr th:only-of-type {\n",
       "        vertical-align: middle;\n",
       "    }\n",
       "\n",
       "    .dataframe tbody tr th {\n",
       "        vertical-align: top;\n",
       "    }\n",
       "\n",
       "    .dataframe thead th {\n",
       "        text-align: right;\n",
       "    }\n",
       "</style>\n",
       "<table border=\"1\" class=\"dataframe\">\n",
       "  <thead>\n",
       "    <tr style=\"text-align: right;\">\n",
       "      <th></th>\n",
       "      <th>Opium/Cocaine</th>\n",
       "      <th>Marijuana</th>\n",
       "      <th>Synthetic</th>\n",
       "      <th>Other Dangerous</th>\n",
       "      <th>Drug_Sale_Opium_Cocaine</th>\n",
       "      <th>Drug_Sale_Marijuana</th>\n",
       "      <th>Drug_Sale_Synthetic</th>\n",
       "      <th>Drug_Sale_Other_Dangerous</th>\n",
       "      <th>Drug_Possession_Opium_Cocaine</th>\n",
       "      <th>Drug_Possession_Marijuana</th>\n",
       "      <th>Drug_Possession_Synthetic</th>\n",
       "      <th>Drug_Possession_Other_Dangerous</th>\n",
       "    </tr>\n",
       "    <tr>\n",
       "      <th>Year</th>\n",
       "      <th></th>\n",
       "      <th></th>\n",
       "      <th></th>\n",
       "      <th></th>\n",
       "      <th></th>\n",
       "      <th></th>\n",
       "      <th></th>\n",
       "      <th></th>\n",
       "      <th></th>\n",
       "      <th></th>\n",
       "      <th></th>\n",
       "      <th></th>\n",
       "    </tr>\n",
       "  </thead>\n",
       "  <tbody>\n",
       "    <tr>\n",
       "      <th>2018</th>\n",
       "      <td>16.0</td>\n",
       "      <td>5.0</td>\n",
       "      <td>39.0</td>\n",
       "      <td>10.0</td>\n",
       "      <td>44</td>\n",
       "      <td>10</td>\n",
       "      <td>1</td>\n",
       "      <td>31</td>\n",
       "      <td>91</td>\n",
       "      <td>526</td>\n",
       "      <td>28</td>\n",
       "      <td>289</td>\n",
       "    </tr>\n",
       "    <tr>\n",
       "      <th>2019</th>\n",
       "      <td>12.0</td>\n",
       "      <td>2.0</td>\n",
       "      <td>30.0</td>\n",
       "      <td>14.0</td>\n",
       "      <td>32</td>\n",
       "      <td>5</td>\n",
       "      <td>1</td>\n",
       "      <td>28</td>\n",
       "      <td>130</td>\n",
       "      <td>471</td>\n",
       "      <td>13</td>\n",
       "      <td>260</td>\n",
       "    </tr>\n",
       "    <tr>\n",
       "      <th>2020</th>\n",
       "      <td>19.0</td>\n",
       "      <td>9.0</td>\n",
       "      <td>77.0</td>\n",
       "      <td>43.0</td>\n",
       "      <td>12</td>\n",
       "      <td>4</td>\n",
       "      <td>2</td>\n",
       "      <td>39</td>\n",
       "      <td>99</td>\n",
       "      <td>288</td>\n",
       "      <td>12</td>\n",
       "      <td>200</td>\n",
       "    </tr>\n",
       "    <tr>\n",
       "      <th>2021</th>\n",
       "      <td>8.0</td>\n",
       "      <td>0.0</td>\n",
       "      <td>55.0</td>\n",
       "      <td>14.0</td>\n",
       "      <td>14</td>\n",
       "      <td>4</td>\n",
       "      <td>10</td>\n",
       "      <td>25</td>\n",
       "      <td>89</td>\n",
       "      <td>260</td>\n",
       "      <td>6</td>\n",
       "      <td>175</td>\n",
       "    </tr>\n",
       "    <tr>\n",
       "      <th>2022</th>\n",
       "      <td>11.0</td>\n",
       "      <td>0.0</td>\n",
       "      <td>52.0</td>\n",
       "      <td>22.0</td>\n",
       "      <td>11</td>\n",
       "      <td>7</td>\n",
       "      <td>7</td>\n",
       "      <td>22</td>\n",
       "      <td>58</td>\n",
       "      <td>269</td>\n",
       "      <td>20</td>\n",
       "      <td>158</td>\n",
       "    </tr>\n",
       "  </tbody>\n",
       "</table>\n",
       "</div>"
      ],
      "text/plain": [
       "      Opium/Cocaine  Marijuana  Synthetic  Other Dangerous  \\\n",
       "Year                                                         \n",
       "2018           16.0        5.0       39.0             10.0   \n",
       "2019           12.0        2.0       30.0             14.0   \n",
       "2020           19.0        9.0       77.0             43.0   \n",
       "2021            8.0        0.0       55.0             14.0   \n",
       "2022           11.0        0.0       52.0             22.0   \n",
       "\n",
       "      Drug_Sale_Opium_Cocaine  Drug_Sale_Marijuana  Drug_Sale_Synthetic  \\\n",
       "Year                                                                      \n",
       "2018                       44                   10                    1   \n",
       "2019                       32                    5                    1   \n",
       "2020                       12                    4                    2   \n",
       "2021                       14                    4                   10   \n",
       "2022                       11                    7                    7   \n",
       "\n",
       "      Drug_Sale_Other_Dangerous  Drug_Possession_Opium_Cocaine  \\\n",
       "Year                                                             \n",
       "2018                         31                             91   \n",
       "2019                         28                            130   \n",
       "2020                         39                             99   \n",
       "2021                         25                             89   \n",
       "2022                         22                             58   \n",
       "\n",
       "      Drug_Possession_Marijuana  Drug_Possession_Synthetic  \\\n",
       "Year                                                         \n",
       "2018                        526                         28   \n",
       "2019                        471                         13   \n",
       "2020                        288                         12   \n",
       "2021                        260                          6   \n",
       "2022                        269                         20   \n",
       "\n",
       "      Drug_Possession_Other_Dangerous  \n",
       "Year                                   \n",
       "2018                              289  \n",
       "2019                              260  \n",
       "2020                              200  \n",
       "2021                              175  \n",
       "2022                              158  "
      ]
     },
     "execution_count": 127,
     "metadata": {},
     "output_type": "execute_result"
    }
   ],
   "source": [
    "arrest_od_data"
   ]
  },
  {
   "cell_type": "code",
   "execution_count": 130,
   "id": "9eb7eacd-1fab-4660-95c2-a5003e1f8cf7",
   "metadata": {
    "tags": []
   },
   "outputs": [
    {
     "data": {
      "application/vnd.plotly.v1+json": {
       "config": {
        "plotlyServerURL": "https://plot.ly"
       },
       "data": [
        {
         "mode": "lines+markers",
         "name": "Opium/Cocaine",
         "type": "scatter",
         "visible": "legendonly",
         "x": [
          2018,
          2019,
          2020,
          2021,
          2022
         ],
         "y": [
          16,
          12,
          19,
          8,
          11
         ]
        },
        {
         "mode": "lines+markers",
         "name": "Marijuana",
         "type": "scatter",
         "visible": true,
         "x": [
          2018,
          2019,
          2020,
          2021,
          2022
         ],
         "y": [
          5,
          2,
          9,
          0,
          0
         ]
        },
        {
         "mode": "lines+markers",
         "name": "Synthetic",
         "type": "scatter",
         "visible": "legendonly",
         "x": [
          2018,
          2019,
          2020,
          2021,
          2022
         ],
         "y": [
          39,
          30,
          77,
          55,
          52
         ]
        },
        {
         "mode": "lines+markers",
         "name": "Other Dangerous",
         "type": "scatter",
         "visible": "legendonly",
         "x": [
          2018,
          2019,
          2020,
          2021,
          2022
         ],
         "y": [
          10,
          14,
          43,
          14,
          22
         ]
        },
        {
         "mode": "lines+markers",
         "name": "Drug_Sale_Opium_Cocaine",
         "type": "scatter",
         "visible": "legendonly",
         "x": [
          2018,
          2019,
          2020,
          2021,
          2022
         ],
         "y": [
          44,
          32,
          12,
          14,
          11
         ]
        },
        {
         "mode": "lines+markers",
         "name": "Drug_Sale_Marijuana",
         "type": "scatter",
         "visible": "legendonly",
         "x": [
          2018,
          2019,
          2020,
          2021,
          2022
         ],
         "y": [
          10,
          5,
          4,
          4,
          7
         ]
        },
        {
         "mode": "lines+markers",
         "name": "Drug_Sale_Synthetic",
         "type": "scatter",
         "visible": "legendonly",
         "x": [
          2018,
          2019,
          2020,
          2021,
          2022
         ],
         "y": [
          1,
          1,
          2,
          10,
          7
         ]
        },
        {
         "mode": "lines+markers",
         "name": "Drug_Sale_Other_Dangerous",
         "type": "scatter",
         "visible": "legendonly",
         "x": [
          2018,
          2019,
          2020,
          2021,
          2022
         ],
         "y": [
          31,
          28,
          39,
          25,
          22
         ]
        },
        {
         "mode": "lines+markers",
         "name": "Drug_Possession_Opium_Cocaine",
         "type": "scatter",
         "visible": true,
         "x": [
          2018,
          2019,
          2020,
          2021,
          2022
         ],
         "y": [
          91,
          130,
          99,
          89,
          58
         ]
        },
        {
         "mode": "lines+markers",
         "name": "Drug_Possession_Marijuana",
         "type": "scatter",
         "visible": true,
         "x": [
          2018,
          2019,
          2020,
          2021,
          2022
         ],
         "y": [
          526,
          471,
          288,
          260,
          269
         ]
        },
        {
         "mode": "lines+markers",
         "name": "Drug_Possession_Synthetic",
         "type": "scatter",
         "visible": true,
         "x": [
          2018,
          2019,
          2020,
          2021,
          2022
         ],
         "y": [
          28,
          13,
          12,
          6,
          20
         ]
        },
        {
         "mode": "lines+markers",
         "name": "Drug_Possession_Other_Dangerous",
         "type": "scatter",
         "visible": true,
         "x": [
          2018,
          2019,
          2020,
          2021,
          2022
         ],
         "y": [
          289,
          260,
          200,
          175,
          158
         ]
        }
       ],
       "layout": {
        "autosize": true,
        "template": {
         "data": {
          "bar": [
           {
            "error_x": {
             "color": "#2a3f5f"
            },
            "error_y": {
             "color": "#2a3f5f"
            },
            "marker": {
             "line": {
              "color": "#E5ECF6",
              "width": 0.5
             },
             "pattern": {
              "fillmode": "overlay",
              "size": 10,
              "solidity": 0.2
             }
            },
            "type": "bar"
           }
          ],
          "barpolar": [
           {
            "marker": {
             "line": {
              "color": "#E5ECF6",
              "width": 0.5
             },
             "pattern": {
              "fillmode": "overlay",
              "size": 10,
              "solidity": 0.2
             }
            },
            "type": "barpolar"
           }
          ],
          "carpet": [
           {
            "aaxis": {
             "endlinecolor": "#2a3f5f",
             "gridcolor": "white",
             "linecolor": "white",
             "minorgridcolor": "white",
             "startlinecolor": "#2a3f5f"
            },
            "baxis": {
             "endlinecolor": "#2a3f5f",
             "gridcolor": "white",
             "linecolor": "white",
             "minorgridcolor": "white",
             "startlinecolor": "#2a3f5f"
            },
            "type": "carpet"
           }
          ],
          "choropleth": [
           {
            "colorbar": {
             "outlinewidth": 0,
             "ticks": ""
            },
            "type": "choropleth"
           }
          ],
          "contour": [
           {
            "colorbar": {
             "outlinewidth": 0,
             "ticks": ""
            },
            "colorscale": [
             [
              0,
              "#0d0887"
             ],
             [
              0.1111111111111111,
              "#46039f"
             ],
             [
              0.2222222222222222,
              "#7201a8"
             ],
             [
              0.3333333333333333,
              "#9c179e"
             ],
             [
              0.4444444444444444,
              "#bd3786"
             ],
             [
              0.5555555555555556,
              "#d8576b"
             ],
             [
              0.6666666666666666,
              "#ed7953"
             ],
             [
              0.7777777777777778,
              "#fb9f3a"
             ],
             [
              0.8888888888888888,
              "#fdca26"
             ],
             [
              1,
              "#f0f921"
             ]
            ],
            "type": "contour"
           }
          ],
          "contourcarpet": [
           {
            "colorbar": {
             "outlinewidth": 0,
             "ticks": ""
            },
            "type": "contourcarpet"
           }
          ],
          "heatmap": [
           {
            "colorbar": {
             "outlinewidth": 0,
             "ticks": ""
            },
            "colorscale": [
             [
              0,
              "#0d0887"
             ],
             [
              0.1111111111111111,
              "#46039f"
             ],
             [
              0.2222222222222222,
              "#7201a8"
             ],
             [
              0.3333333333333333,
              "#9c179e"
             ],
             [
              0.4444444444444444,
              "#bd3786"
             ],
             [
              0.5555555555555556,
              "#d8576b"
             ],
             [
              0.6666666666666666,
              "#ed7953"
             ],
             [
              0.7777777777777778,
              "#fb9f3a"
             ],
             [
              0.8888888888888888,
              "#fdca26"
             ],
             [
              1,
              "#f0f921"
             ]
            ],
            "type": "heatmap"
           }
          ],
          "heatmapgl": [
           {
            "colorbar": {
             "outlinewidth": 0,
             "ticks": ""
            },
            "colorscale": [
             [
              0,
              "#0d0887"
             ],
             [
              0.1111111111111111,
              "#46039f"
             ],
             [
              0.2222222222222222,
              "#7201a8"
             ],
             [
              0.3333333333333333,
              "#9c179e"
             ],
             [
              0.4444444444444444,
              "#bd3786"
             ],
             [
              0.5555555555555556,
              "#d8576b"
             ],
             [
              0.6666666666666666,
              "#ed7953"
             ],
             [
              0.7777777777777778,
              "#fb9f3a"
             ],
             [
              0.8888888888888888,
              "#fdca26"
             ],
             [
              1,
              "#f0f921"
             ]
            ],
            "type": "heatmapgl"
           }
          ],
          "histogram": [
           {
            "marker": {
             "pattern": {
              "fillmode": "overlay",
              "size": 10,
              "solidity": 0.2
             }
            },
            "type": "histogram"
           }
          ],
          "histogram2d": [
           {
            "colorbar": {
             "outlinewidth": 0,
             "ticks": ""
            },
            "colorscale": [
             [
              0,
              "#0d0887"
             ],
             [
              0.1111111111111111,
              "#46039f"
             ],
             [
              0.2222222222222222,
              "#7201a8"
             ],
             [
              0.3333333333333333,
              "#9c179e"
             ],
             [
              0.4444444444444444,
              "#bd3786"
             ],
             [
              0.5555555555555556,
              "#d8576b"
             ],
             [
              0.6666666666666666,
              "#ed7953"
             ],
             [
              0.7777777777777778,
              "#fb9f3a"
             ],
             [
              0.8888888888888888,
              "#fdca26"
             ],
             [
              1,
              "#f0f921"
             ]
            ],
            "type": "histogram2d"
           }
          ],
          "histogram2dcontour": [
           {
            "colorbar": {
             "outlinewidth": 0,
             "ticks": ""
            },
            "colorscale": [
             [
              0,
              "#0d0887"
             ],
             [
              0.1111111111111111,
              "#46039f"
             ],
             [
              0.2222222222222222,
              "#7201a8"
             ],
             [
              0.3333333333333333,
              "#9c179e"
             ],
             [
              0.4444444444444444,
              "#bd3786"
             ],
             [
              0.5555555555555556,
              "#d8576b"
             ],
             [
              0.6666666666666666,
              "#ed7953"
             ],
             [
              0.7777777777777778,
              "#fb9f3a"
             ],
             [
              0.8888888888888888,
              "#fdca26"
             ],
             [
              1,
              "#f0f921"
             ]
            ],
            "type": "histogram2dcontour"
           }
          ],
          "mesh3d": [
           {
            "colorbar": {
             "outlinewidth": 0,
             "ticks": ""
            },
            "type": "mesh3d"
           }
          ],
          "parcoords": [
           {
            "line": {
             "colorbar": {
              "outlinewidth": 0,
              "ticks": ""
             }
            },
            "type": "parcoords"
           }
          ],
          "pie": [
           {
            "automargin": true,
            "type": "pie"
           }
          ],
          "scatter": [
           {
            "fillpattern": {
             "fillmode": "overlay",
             "size": 10,
             "solidity": 0.2
            },
            "type": "scatter"
           }
          ],
          "scatter3d": [
           {
            "line": {
             "colorbar": {
              "outlinewidth": 0,
              "ticks": ""
             }
            },
            "marker": {
             "colorbar": {
              "outlinewidth": 0,
              "ticks": ""
             }
            },
            "type": "scatter3d"
           }
          ],
          "scattercarpet": [
           {
            "marker": {
             "colorbar": {
              "outlinewidth": 0,
              "ticks": ""
             }
            },
            "type": "scattercarpet"
           }
          ],
          "scattergeo": [
           {
            "marker": {
             "colorbar": {
              "outlinewidth": 0,
              "ticks": ""
             }
            },
            "type": "scattergeo"
           }
          ],
          "scattergl": [
           {
            "marker": {
             "colorbar": {
              "outlinewidth": 0,
              "ticks": ""
             }
            },
            "type": "scattergl"
           }
          ],
          "scattermapbox": [
           {
            "marker": {
             "colorbar": {
              "outlinewidth": 0,
              "ticks": ""
             }
            },
            "type": "scattermapbox"
           }
          ],
          "scatterpolar": [
           {
            "marker": {
             "colorbar": {
              "outlinewidth": 0,
              "ticks": ""
             }
            },
            "type": "scatterpolar"
           }
          ],
          "scatterpolargl": [
           {
            "marker": {
             "colorbar": {
              "outlinewidth": 0,
              "ticks": ""
             }
            },
            "type": "scatterpolargl"
           }
          ],
          "scatterternary": [
           {
            "marker": {
             "colorbar": {
              "outlinewidth": 0,
              "ticks": ""
             }
            },
            "type": "scatterternary"
           }
          ],
          "surface": [
           {
            "colorbar": {
             "outlinewidth": 0,
             "ticks": ""
            },
            "colorscale": [
             [
              0,
              "#0d0887"
             ],
             [
              0.1111111111111111,
              "#46039f"
             ],
             [
              0.2222222222222222,
              "#7201a8"
             ],
             [
              0.3333333333333333,
              "#9c179e"
             ],
             [
              0.4444444444444444,
              "#bd3786"
             ],
             [
              0.5555555555555556,
              "#d8576b"
             ],
             [
              0.6666666666666666,
              "#ed7953"
             ],
             [
              0.7777777777777778,
              "#fb9f3a"
             ],
             [
              0.8888888888888888,
              "#fdca26"
             ],
             [
              1,
              "#f0f921"
             ]
            ],
            "type": "surface"
           }
          ],
          "table": [
           {
            "cells": {
             "fill": {
              "color": "#EBF0F8"
             },
             "line": {
              "color": "white"
             }
            },
            "header": {
             "fill": {
              "color": "#C8D4E3"
             },
             "line": {
              "color": "white"
             }
            },
            "type": "table"
           }
          ]
         },
         "layout": {
          "annotationdefaults": {
           "arrowcolor": "#2a3f5f",
           "arrowhead": 0,
           "arrowwidth": 1
          },
          "autotypenumbers": "strict",
          "coloraxis": {
           "colorbar": {
            "outlinewidth": 0,
            "ticks": ""
           }
          },
          "colorscale": {
           "diverging": [
            [
             0,
             "#8e0152"
            ],
            [
             0.1,
             "#c51b7d"
            ],
            [
             0.2,
             "#de77ae"
            ],
            [
             0.3,
             "#f1b6da"
            ],
            [
             0.4,
             "#fde0ef"
            ],
            [
             0.5,
             "#f7f7f7"
            ],
            [
             0.6,
             "#e6f5d0"
            ],
            [
             0.7,
             "#b8e186"
            ],
            [
             0.8,
             "#7fbc41"
            ],
            [
             0.9,
             "#4d9221"
            ],
            [
             1,
             "#276419"
            ]
           ],
           "sequential": [
            [
             0,
             "#0d0887"
            ],
            [
             0.1111111111111111,
             "#46039f"
            ],
            [
             0.2222222222222222,
             "#7201a8"
            ],
            [
             0.3333333333333333,
             "#9c179e"
            ],
            [
             0.4444444444444444,
             "#bd3786"
            ],
            [
             0.5555555555555556,
             "#d8576b"
            ],
            [
             0.6666666666666666,
             "#ed7953"
            ],
            [
             0.7777777777777778,
             "#fb9f3a"
            ],
            [
             0.8888888888888888,
             "#fdca26"
            ],
            [
             1,
             "#f0f921"
            ]
           ],
           "sequentialminus": [
            [
             0,
             "#0d0887"
            ],
            [
             0.1111111111111111,
             "#46039f"
            ],
            [
             0.2222222222222222,
             "#7201a8"
            ],
            [
             0.3333333333333333,
             "#9c179e"
            ],
            [
             0.4444444444444444,
             "#bd3786"
            ],
            [
             0.5555555555555556,
             "#d8576b"
            ],
            [
             0.6666666666666666,
             "#ed7953"
            ],
            [
             0.7777777777777778,
             "#fb9f3a"
            ],
            [
             0.8888888888888888,
             "#fdca26"
            ],
            [
             1,
             "#f0f921"
            ]
           ]
          },
          "colorway": [
           "#636efa",
           "#EF553B",
           "#00cc96",
           "#ab63fa",
           "#FFA15A",
           "#19d3f3",
           "#FF6692",
           "#B6E880",
           "#FF97FF",
           "#FECB52"
          ],
          "font": {
           "color": "#2a3f5f"
          },
          "geo": {
           "bgcolor": "white",
           "lakecolor": "white",
           "landcolor": "#E5ECF6",
           "showlakes": true,
           "showland": true,
           "subunitcolor": "white"
          },
          "hoverlabel": {
           "align": "left"
          },
          "hovermode": "closest",
          "mapbox": {
           "style": "light"
          },
          "paper_bgcolor": "white",
          "plot_bgcolor": "#E5ECF6",
          "polar": {
           "angularaxis": {
            "gridcolor": "white",
            "linecolor": "white",
            "ticks": ""
           },
           "bgcolor": "#E5ECF6",
           "radialaxis": {
            "gridcolor": "white",
            "linecolor": "white",
            "ticks": ""
           }
          },
          "scene": {
           "xaxis": {
            "backgroundcolor": "#E5ECF6",
            "gridcolor": "white",
            "gridwidth": 2,
            "linecolor": "white",
            "showbackground": true,
            "ticks": "",
            "zerolinecolor": "white"
           },
           "yaxis": {
            "backgroundcolor": "#E5ECF6",
            "gridcolor": "white",
            "gridwidth": 2,
            "linecolor": "white",
            "showbackground": true,
            "ticks": "",
            "zerolinecolor": "white"
           },
           "zaxis": {
            "backgroundcolor": "#E5ECF6",
            "gridcolor": "white",
            "gridwidth": 2,
            "linecolor": "white",
            "showbackground": true,
            "ticks": "",
            "zerolinecolor": "white"
           }
          },
          "shapedefaults": {
           "line": {
            "color": "#2a3f5f"
           }
          },
          "ternary": {
           "aaxis": {
            "gridcolor": "white",
            "linecolor": "white",
            "ticks": ""
           },
           "baxis": {
            "gridcolor": "white",
            "linecolor": "white",
            "ticks": ""
           },
           "bgcolor": "#E5ECF6",
           "caxis": {
            "gridcolor": "white",
            "linecolor": "white",
            "ticks": ""
           }
          },
          "title": {
           "x": 0.05
          },
          "xaxis": {
           "automargin": true,
           "gridcolor": "white",
           "linecolor": "white",
           "ticks": "",
           "title": {
            "standoff": 15
           },
           "zerolinecolor": "white",
           "zerolinewidth": 2
          },
          "yaxis": {
           "automargin": true,
           "gridcolor": "white",
           "linecolor": "white",
           "ticks": "",
           "title": {
            "standoff": 15
           },
           "zerolinecolor": "white",
           "zerolinewidth": 2
          }
         }
        },
        "title": {
         "text": "Drug Counts Over the Years"
        },
        "xaxis": {
         "autorange": true,
         "range": [
          2017.733439744613,
          2022.266560255387
         ],
         "title": {
          "text": "Year"
         },
         "type": "linear"
        },
        "yaxis": {
         "autorange": true,
         "range": [
          -43.407766990291265,
          569.4077669902913
         ],
         "title": {
          "text": "Count"
         },
         "type": "linear"
        }
       }
      },
      "image/png": "[encoded data removed]",
      "text/html": [
       "<div>                            <div id=\"bb5f141a-513b-4695-aaad-2441087163d1\" class=\"plotly-graph-div\" style=\"height:525px; width:100%;\"></div>            <script type=\"text/javascript\">                require([\"plotly\"], function(Plotly) {                    window.PLOTLYENV=window.PLOTLYENV || {};                                    if (document.getElementById(\"bb5f141a-513b-4695-aaad-2441087163d1\")) {                    Plotly.newPlot(                        \"bb5f141a-513b-4695-aaad-2441087163d1\",                        [{\"mode\":\"lines+markers\",\"name\":\"Opium\\u002fCocaine\",\"x\":[2018,2019,2020,2021,2022],\"y\":[16.0,12.0,19.0,8.0,11.0],\"type\":\"scatter\"},{\"mode\":\"lines+markers\",\"name\":\"Marijuana\",\"x\":[2018,2019,2020,2021,2022],\"y\":[5.0,2.0,9.0,0.0,0.0],\"type\":\"scatter\"},{\"mode\":\"lines+markers\",\"name\":\"Synthetic\",\"x\":[2018,2019,2020,2021,2022],\"y\":[39.0,30.0,77.0,55.0,52.0],\"type\":\"scatter\"},{\"mode\":\"lines+markers\",\"name\":\"Other Dangerous\",\"x\":[2018,2019,2020,2021,2022],\"y\":[10.0,14.0,43.0,14.0,22.0],\"type\":\"scatter\"},{\"mode\":\"lines+markers\",\"name\":\"Drug_Sale_Opium_Cocaine\",\"x\":[2018,2019,2020,2021,2022],\"y\":[44,32,12,14,11],\"type\":\"scatter\"},{\"mode\":\"lines+markers\",\"name\":\"Drug_Sale_Marijuana\",\"x\":[2018,2019,2020,2021,2022],\"y\":[10,5,4,4,7],\"type\":\"scatter\"},{\"mode\":\"lines+markers\",\"name\":\"Drug_Sale_Synthetic\",\"x\":[2018,2019,2020,2021,2022],\"y\":[1,1,2,10,7],\"type\":\"scatter\"},{\"mode\":\"lines+markers\",\"name\":\"Drug_Sale_Other_Dangerous\",\"x\":[2018,2019,2020,2021,2022],\"y\":[31,28,39,25,22],\"type\":\"scatter\"},{\"mode\":\"lines+markers\",\"name\":\"Drug_Possession_Opium_Cocaine\",\"x\":[2018,2019,2020,2021,2022],\"y\":[91,130,99,89,58],\"type\":\"scatter\"},{\"mode\":\"lines+markers\",\"name\":\"Drug_Possession_Marijuana\",\"x\":[2018,2019,2020,2021,2022],\"y\":[526,471,288,260,269],\"type\":\"scatter\"},{\"mode\":\"lines+markers\",\"name\":\"Drug_Possession_Synthetic\",\"x\":[2018,2019,2020,2021,2022],\"y\":[28,13,12,6,20],\"type\":\"scatter\"},{\"mode\":\"lines+markers\",\"name\":\"Drug_Possession_Other_Dangerous\",\"x\":[2018,2019,2020,2021,2022],\"y\":[289,260,200,175,158],\"type\":\"scatter\"}],                        {\"template\":{\"data\":{\"histogram2dcontour\":[{\"type\":\"histogram2dcontour\",\"colorbar\":{\"outlinewidth\":0,\"ticks\":\"\"},\"colorscale\":[[0.0,\"#0d0887\"],[0.1111111111111111,\"#46039f\"],[0.2222222222222222,\"#7201a8\"],[0.3333333333333333,\"#9c179e\"],[0.4444444444444444,\"#bd3786\"],[0.5555555555555556,\"#d8576b\"],[0.6666666666666666,\"#ed7953\"],[0.7777777777777778,\"#fb9f3a\"],[0.8888888888888888,\"#fdca26\"],[1.0,\"#f0f921\"]]}],\"choropleth\":[{\"type\":\"choropleth\",\"colorbar\":{\"outlinewidth\":0,\"ticks\":\"\"}}],\"histogram2d\":[{\"type\":\"histogram2d\",\"colorbar\":{\"outlinewidth\":0,\"ticks\":\"\"},\"colorscale\":[[0.0,\"#0d0887\"],[0.1111111111111111,\"#46039f\"],[0.2222222222222222,\"#7201a8\"],[0.3333333333333333,\"#9c179e\"],[0.4444444444444444,\"#bd3786\"],[0.5555555555555556,\"#d8576b\"],[0.6666666666666666,\"#ed7953\"],[0.7777777777777778,\"#fb9f3a\"],[0.8888888888888888,\"#fdca26\"],[1.0,\"#f0f921\"]]}],\"heatmap\":[{\"type\":\"heatmap\",\"colorbar\":{\"outlinewidth\":0,\"ticks\":\"\"},\"colorscale\":[[0.0,\"#0d0887\"],[0.1111111111111111,\"#46039f\"],[0.2222222222222222,\"#7201a8\"],[0.3333333333333333,\"#9c179e\"],[0.4444444444444444,\"#bd3786\"],[0.5555555555555556,\"#d8576b\"],[0.6666666666666666,\"#ed7953\"],[0.7777777777777778,\"#fb9f3a\"],[0.8888888888888888,\"#fdca26\"],[1.0,\"#f0f921\"]]}],\"heatmapgl\":[{\"type\":\"heatmapgl\",\"colorbar\":{\"outlinewidth\":0,\"ticks\":\"\"},\"colorscale\":[[0.0,\"#0d0887\"],[0.1111111111111111,\"#46039f\"],[0.2222222222222222,\"#7201a8\"],[0.3333333333333333,\"#9c179e\"],[0.4444444444444444,\"#bd3786\"],[0.5555555555555556,\"#d8576b\"],[0.6666666666666666,\"#ed7953\"],[0.7777777777777778,\"#fb9f3a\"],[0.8888888888888888,\"#fdca26\"],[1.0,\"#f0f921\"]]}],\"contourcarpet\":[{\"type\":\"contourcarpet\",\"colorbar\":{\"outlinewidth\":0,\"ticks\":\"\"}}],\"contour\":[{\"type\":\"contour\",\"colorbar\":{\"outlinewidth\":0,\"ticks\":\"\"},\"colorscale\":[[0.0,\"#0d0887\"],[0.1111111111111111,\"#46039f\"],[0.2222222222222222,\"#7201a8\"],[0.3333333333333333,\"#9c179e\"],[0.4444444444444444,\"#bd3786\"],[0.5555555555555556,\"#d8576b\"],[0.6666666666666666,\"#ed7953\"],[0.7777777777777778,\"#fb9f3a\"],[0.8888888888888888,\"#fdca26\"],[1.0,\"#f0f921\"]]}],\"surface\":[{\"type\":\"surface\",\"colorbar\":{\"outlinewidth\":0,\"ticks\":\"\"},\"colorscale\":[[0.0,\"#0d0887\"],[0.1111111111111111,\"#46039f\"],[0.2222222222222222,\"#7201a8\"],[0.3333333333333333,\"#9c179e\"],[0.4444444444444444,\"#bd3786\"],[0.5555555555555556,\"#d8576b\"],[0.6666666666666666,\"#ed7953\"],[0.7777777777777778,\"#fb9f3a\"],[0.8888888888888888,\"#fdca26\"],[1.0,\"#f0f921\"]]}],\"mesh3d\":[{\"type\":\"mesh3d\",\"colorbar\":{\"outlinewidth\":0,\"ticks\":\"\"}}],\"scatter\":[{\"fillpattern\":{\"fillmode\":\"overlay\",\"size\":10,\"solidity\":0.2},\"type\":\"scatter\"}],\"parcoords\":[{\"type\":\"parcoords\",\"line\":{\"colorbar\":{\"outlinewidth\":0,\"ticks\":\"\"}}}],\"scatterpolargl\":[{\"type\":\"scatterpolargl\",\"marker\":{\"colorbar\":{\"outlinewidth\":0,\"ticks\":\"\"}}}],\"bar\":[{\"error_x\":{\"color\":\"#2a3f5f\"},\"error_y\":{\"color\":\"#2a3f5f\"},\"marker\":{\"line\":{\"color\":\"#E5ECF6\",\"width\":0.5},\"pattern\":{\"fillmode\":\"overlay\",\"size\":10,\"solidity\":0.2}},\"type\":\"bar\"}],\"scattergeo\":[{\"type\":\"scattergeo\",\"marker\":{\"colorbar\":{\"outlinewidth\":0,\"ticks\":\"\"}}}],\"scatterpolar\":[{\"type\":\"scatterpolar\",\"marker\":{\"colorbar\":{\"outlinewidth\":0,\"ticks\":\"\"}}}],\"histogram\":[{\"marker\":{\"pattern\":{\"fillmode\":\"overlay\",\"size\":10,\"solidity\":0.2}},\"type\":\"histogram\"}],\"scattergl\":[{\"type\":\"scattergl\",\"marker\":{\"colorbar\":{\"outlinewidth\":0,\"ticks\":\"\"}}}],\"scatter3d\":[{\"type\":\"scatter3d\",\"line\":{\"colorbar\":{\"outlinewidth\":0,\"ticks\":\"\"}},\"marker\":{\"colorbar\":{\"outlinewidth\":0,\"ticks\":\"\"}}}],\"scattermapbox\":[{\"type\":\"scattermapbox\",\"marker\":{\"colorbar\":{\"outlinewidth\":0,\"ticks\":\"\"}}}],\"scatterternary\":[{\"type\":\"scatterternary\",\"marker\":{\"colorbar\":{\"outlinewidth\":0,\"ticks\":\"\"}}}],\"scattercarpet\":[{\"type\":\"scattercarpet\",\"marker\":{\"colorbar\":{\"outlinewidth\":0,\"ticks\":\"\"}}}],\"carpet\":[{\"aaxis\":{\"endlinecolor\":\"#2a3f5f\",\"gridcolor\":\"white\",\"linecolor\":\"white\",\"minorgridcolor\":\"white\",\"startlinecolor\":\"#2a3f5f\"},\"baxis\":{\"endlinecolor\":\"#2a3f5f\",\"gridcolor\":\"white\",\"linecolor\":\"white\",\"minorgridcolor\":\"white\",\"startlinecolor\":\"#2a3f5f\"},\"type\":\"carpet\"}],\"table\":[{\"cells\":{\"fill\":{\"color\":\"#EBF0F8\"},\"line\":{\"color\":\"white\"}},\"header\":{\"fill\":{\"color\":\"#C8D4E3\"},\"line\":{\"color\":\"white\"}},\"type\":\"table\"}],\"barpolar\":[{\"marker\":{\"line\":{\"color\":\"#E5ECF6\",\"width\":0.5},\"pattern\":{\"fillmode\":\"overlay\",\"size\":10,\"solidity\":0.2}},\"type\":\"barpolar\"}],\"pie\":[{\"automargin\":true,\"type\":\"pie\"}]},\"layout\":{\"autotypenumbers\":\"strict\",\"colorway\":[\"#636efa\",\"#EF553B\",\"#00cc96\",\"#ab63fa\",\"#FFA15A\",\"#19d3f3\",\"#FF6692\",\"#B6E880\",\"#FF97FF\",\"#FECB52\"],\"font\":{\"color\":\"#2a3f5f\"},\"hovermode\":\"closest\",\"hoverlabel\":{\"align\":\"left\"},\"paper_bgcolor\":\"white\",\"plot_bgcolor\":\"#E5ECF6\",\"polar\":{\"bgcolor\":\"#E5ECF6\",\"angularaxis\":{\"gridcolor\":\"white\",\"linecolor\":\"white\",\"ticks\":\"\"},\"radialaxis\":{\"gridcolor\":\"white\",\"linecolor\":\"white\",\"ticks\":\"\"}},\"ternary\":{\"bgcolor\":\"#E5ECF6\",\"aaxis\":{\"gridcolor\":\"white\",\"linecolor\":\"white\",\"ticks\":\"\"},\"baxis\":{\"gridcolor\":\"white\",\"linecolor\":\"white\",\"ticks\":\"\"},\"caxis\":{\"gridcolor\":\"white\",\"linecolor\":\"white\",\"ticks\":\"\"}},\"coloraxis\":{\"colorbar\":{\"outlinewidth\":0,\"ticks\":\"\"}},\"colorscale\":{\"sequential\":[[0.0,\"#0d0887\"],[0.1111111111111111,\"#46039f\"],[0.2222222222222222,\"#7201a8\"],[0.3333333333333333,\"#9c179e\"],[0.4444444444444444,\"#bd3786\"],[0.5555555555555556,\"#d8576b\"],[0.6666666666666666,\"#ed7953\"],[0.7777777777777778,\"#fb9f3a\"],[0.8888888888888888,\"#fdca26\"],[1.0,\"#f0f921\"]],\"sequentialminus\":[[0.0,\"#0d0887\"],[0.1111111111111111,\"#46039f\"],[0.2222222222222222,\"#7201a8\"],[0.3333333333333333,\"#9c179e\"],[0.4444444444444444,\"#bd3786\"],[0.5555555555555556,\"#d8576b\"],[0.6666666666666666,\"#ed7953\"],[0.7777777777777778,\"#fb9f3a\"],[0.8888888888888888,\"#fdca26\"],[1.0,\"#f0f921\"]],\"diverging\":[[0,\"#8e0152\"],[0.1,\"#c51b7d\"],[0.2,\"#de77ae\"],[0.3,\"#f1b6da\"],[0.4,\"#fde0ef\"],[0.5,\"#f7f7f7\"],[0.6,\"#e6f5d0\"],[0.7,\"#b8e186\"],[0.8,\"#7fbc41\"],[0.9,\"#4d9221\"],[1,\"#276419\"]]},\"xaxis\":{\"gridcolor\":\"white\",\"linecolor\":\"white\",\"ticks\":\"\",\"title\":{\"standoff\":15},\"zerolinecolor\":\"white\",\"automargin\":true,\"zerolinewidth\":2},\"yaxis\":{\"gridcolor\":\"white\",\"linecolor\":\"white\",\"ticks\":\"\",\"title\":{\"standoff\":15},\"zerolinecolor\":\"white\",\"automargin\":true,\"zerolinewidth\":2},\"scene\":{\"xaxis\":{\"backgroundcolor\":\"#E5ECF6\",\"gridcolor\":\"white\",\"linecolor\":\"white\",\"showbackground\":true,\"ticks\":\"\",\"zerolinecolor\":\"white\",\"gridwidth\":2},\"yaxis\":{\"backgroundcolor\":\"#E5ECF6\",\"gridcolor\":\"white\",\"linecolor\":\"white\",\"showbackground\":true,\"ticks\":\"\",\"zerolinecolor\":\"white\",\"gridwidth\":2},\"zaxis\":{\"backgroundcolor\":\"#E5ECF6\",\"gridcolor\":\"white\",\"linecolor\":\"white\",\"showbackground\":true,\"ticks\":\"\",\"zerolinecolor\":\"white\",\"gridwidth\":2}},\"shapedefaults\":{\"line\":{\"color\":\"#2a3f5f\"}},\"annotationdefaults\":{\"arrowcolor\":\"#2a3f5f\",\"arrowhead\":0,\"arrowwidth\":1},\"geo\":{\"bgcolor\":\"white\",\"landcolor\":\"#E5ECF6\",\"subunitcolor\":\"white\",\"showland\":true,\"showlakes\":true,\"lakecolor\":\"white\"},\"title\":{\"x\":0.05},\"mapbox\":{\"style\":\"light\"}}},\"title\":{\"text\":\"Drug Counts Over the Years\"},\"xaxis\":{\"title\":{\"text\":\"Year\"}},\"yaxis\":{\"title\":{\"text\":\"Count\"}}},                        {\"responsive\": true}                    ).then(function(){\n",
       "                            \n",
       "var gd = document.getElementById('bb5f141a-513b-4695-aaad-2441087163d1');\n",
       "var x = new MutationObserver(function (mutations, observer) {{\n",
       "        var display = window.getComputedStyle(gd).display;\n",
       "        if (!display || display === 'none') {{\n",
       "            console.log([gd, 'removed!']);\n",
       "            Plotly.purge(gd);\n",
       "            observer.disconnect();\n",
       "        }}\n",
       "}});\n",
       "\n",
       "// Listen for the removal of the full notebook cells\n",
       "var notebookContainer = gd.closest('#notebook-container');\n",
       "if (notebookContainer) {{\n",
       "    x.observe(notebookContainer, {childList: true});\n",
       "}}\n",
       "\n",
       "// Listen for the clearing of the current output cell\n",
       "var outputEl = gd.closest('.output');\n",
       "if (outputEl) {{\n",
       "    x.observe(outputEl, {childList: true});\n",
       "}}\n",
       "\n",
       "                        })                };                });            </script>        </div>"
      ]
     },
     "metadata": {},
     "output_type": "display_data"
    }
   ],
   "source": [
    "# Plot\n",
    "fig = go.Figure()\n",
    "\n",
    "# Add traces\n",
    "for column in arrest_od_data.columns[0:]:\n",
    "    fig.add_trace(go.Scatter(x=arrest_od_data.index, y=arrest_od_data[column], mode='lines+markers', name=column))\n",
    "\n",
    "# Update layout\n",
    "fig.update_layout(title='Drug Counts Over the Years', xaxis_title='Year', yaxis_title='Count')\n",
    "\n",
    "# Show plot\n",
    "fig.show()"
   ]
  },
  {
   "cell_type": "markdown",
   "id": "19460639-dc5f-4dae-95d0-ddf2031a283d",
   "metadata": {},
   "source": [
    "Columns needed to graph nicely:\n",
    "- Drug_Sale_Opium_Cocaine\n",
    "- Drug_Possession_Opium_Cocaine\n",
    "- Opium/Cocaine\n",
    "- Drug_Sale_Marijuana\n",
    "- Drug_Possession_Marijuana\n",
    "- Marijuana\n",
    "- Drug_Possession_Synthetic\n",
    "- Drug_Sale_Synthetic\n",
    "- Synthetic\n",
    "- Drug_Sale_Other_Dangerous\n",
    "- Drug_Possession_Other_Dangerous\n",
    "- Other Dangerous\n"
   ]
  },
  {
   "cell_type": "code",
   "execution_count": null,
   "id": "4611b7d2-6a19-46cd-be64-4a87a556fb80",
   "metadata": {},
   "outputs": [],
   "source": []
  },
  {
   "cell_type": "code",
   "execution_count": null,
   "id": "067f7107-7f17-4782-be26-9cdd4c2621e6",
   "metadata": {},
   "outputs": [],
   "source": []
  },
  {
   "cell_type": "code",
   "execution_count": null,
   "id": "6b76e6d3-af04-49e7-8181-9cbef4cdd4a2",
   "metadata": {},
   "outputs": [],
   "source": []
  },
  {
   "cell_type": "code",
   "execution_count": null,
   "id": "1c9cb4a4-5630-4f98-a4f1-0dae13839f6c",
   "metadata": {},
   "outputs": [],
   "source": []
  }
 ],
 "metadata": {
  "kernelspec": {
   "display_name": "Python 3 (ipykernel)",
   "language": "python",
   "name": "python3"
  },
  "language_info": {
   "codemirror_mode": {
    "name": "ipython",
    "version": 3
   },
   "file_extension": ".py",
   "mimetype": "text/x-python",
   "name": "python",
   "nbconvert_exporter": "python",
   "pygments_lexer": "ipython3",
   "version": "3.11.7"
  }
 },
 "nbformat": 4,
 "nbformat_minor": 5
}

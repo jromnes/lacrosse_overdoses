{
 "cells": [
  {
   "cell_type": "code",
   "execution_count": 1,
   "id": "278c05a4-be12-4856-a170-b09a48eca60a",
   "metadata": {
    "tags": []
   },
   "outputs": [],
   "source": [
    "# Initial imports\n",
    "import pandas as pd\n",
    "import numpy as np\n",
    "import matplotlib.pyplot as plt\n",
    "import seaborn as sns\n",
    "from collections import Counter"
   ]
  },
  {
   "cell_type": "markdown",
   "id": "26376642-95c0-47ab-8718-10c11f926e3c",
   "metadata": {},
   "source": [
    "## Main Tasks\n",
    "Questions for this Analysis:\n",
    "\n",
    "• Age range, median by year & overall\n",
    "    Determine avg age by year: df('Age') Groupby 'Year' .mean()\n",
    "    Avg age overall(2008-2022)\n",
    "\n",
    "• What is the ratio of intentional vs accidental?\n",
    "    type value_counts, pie chart, maybe layered donut of all years\n",
    "\n",
    "• Which drug appears in the most deaths?\n",
    "\n",
    "• What drug is uptrending in involved deaths? Yes counts\n",
    "\n",
    "• Is there a more common age or sex?\n",
    "\n",
    "• What combination of drugs that are more prevalent?\n",
    "\n",
    "• Trends in # of Accidental and Intentional overdose deaths (yearly_overdose_count)\n",
    "\n",
    "• How many cases is alcohol involved? (yes counts)\n",
    "\n",
    "• Which deaths have a single drug involved & which drug?\n",
    "\n",
    "Visualizations:\n",
    "- Pie Charts(ratios, percentages)\n",
    "- Line Charts(trends)\n",
    "- Dist bar chart(age)"
   ]
  },
  {
   "cell_type": "markdown",
   "id": "aea507ee-a0b0-4200-8c93-8807d2ed4b67",
   "metadata": {
    "tags": []
   },
   "source": [
    "### Large csv imported for cleaning(all data)"
   ]
  },
  {
   "cell_type": "code",
   "execution_count": 2,
   "id": "59d0355a-c1b5-4dda-b756-299ba5c220a4",
   "metadata": {
    "collapsed": true,
    "jupyter": {
     "outputs_hidden": true
    },
    "tags": []
   },
   "outputs": [
    {
     "data": {
      "text/html": [
       "<div>\n",
       "<style scoped>\n",
       "    .dataframe tbody tr th:only-of-type {\n",
       "        vertical-align: middle;\n",
       "    }\n",
       "\n",
       "    .dataframe tbody tr th {\n",
       "        vertical-align: top;\n",
       "    }\n",
       "\n",
       "    .dataframe thead th {\n",
       "        text-align: right;\n",
       "    }\n",
       "</style>\n",
       "<table border=\"1\" class=\"dataframe\">\n",
       "  <thead>\n",
       "    <tr style=\"text-align: right;\">\n",
       "      <th></th>\n",
       "      <th>Year</th>\n",
       "      <th>Age</th>\n",
       "      <th>Gender</th>\n",
       "      <th>Type</th>\n",
       "      <th>Alcohol</th>\n",
       "      <th>Heroin</th>\n",
       "      <th>Methamphetamine</th>\n",
       "      <th>Cocaine</th>\n",
       "      <th>RX</th>\n",
       "      <th>Opioids</th>\n",
       "      <th>THC</th>\n",
       "      <th>Fentanyl</th>\n",
       "      <th>Codeine</th>\n",
       "      <th>Norfentanyl</th>\n",
       "      <th>Methadone</th>\n",
       "      <th>Morphine</th>\n",
       "      <th>Amphetamines</th>\n",
       "    </tr>\n",
       "    <tr>\n",
       "      <th>ID</th>\n",
       "      <th></th>\n",
       "      <th></th>\n",
       "      <th></th>\n",
       "      <th></th>\n",
       "      <th></th>\n",
       "      <th></th>\n",
       "      <th></th>\n",
       "      <th></th>\n",
       "      <th></th>\n",
       "      <th></th>\n",
       "      <th></th>\n",
       "      <th></th>\n",
       "      <th></th>\n",
       "      <th></th>\n",
       "      <th></th>\n",
       "      <th></th>\n",
       "      <th></th>\n",
       "    </tr>\n",
       "  </thead>\n",
       "  <tbody>\n",
       "    <tr>\n",
       "      <th>285</th>\n",
       "      <td>2022</td>\n",
       "      <td>51</td>\n",
       "      <td>Male</td>\n",
       "      <td>Accidental</td>\n",
       "      <td>0.0</td>\n",
       "      <td>0.0</td>\n",
       "      <td>0.0</td>\n",
       "      <td>1.0</td>\n",
       "      <td>0.0</td>\n",
       "      <td>1</td>\n",
       "      <td>0</td>\n",
       "      <td>1.0</td>\n",
       "      <td>0.0</td>\n",
       "      <td>0.0</td>\n",
       "      <td>0.0</td>\n",
       "      <td>0.0</td>\n",
       "      <td>0.0</td>\n",
       "    </tr>\n",
       "    <tr>\n",
       "      <th>286</th>\n",
       "      <td>2022</td>\n",
       "      <td>43</td>\n",
       "      <td>Male</td>\n",
       "      <td>Accidental</td>\n",
       "      <td>0.0</td>\n",
       "      <td>0.0</td>\n",
       "      <td>1.0</td>\n",
       "      <td>0.0</td>\n",
       "      <td>0.0</td>\n",
       "      <td>1</td>\n",
       "      <td>0</td>\n",
       "      <td>1.0</td>\n",
       "      <td>0.0</td>\n",
       "      <td>0.0</td>\n",
       "      <td>0.0</td>\n",
       "      <td>0.0</td>\n",
       "      <td>0.0</td>\n",
       "    </tr>\n",
       "    <tr>\n",
       "      <th>287</th>\n",
       "      <td>2022</td>\n",
       "      <td>37</td>\n",
       "      <td>Male</td>\n",
       "      <td>NaN</td>\n",
       "      <td>1.0</td>\n",
       "      <td>0.0</td>\n",
       "      <td>1.0</td>\n",
       "      <td>0.0</td>\n",
       "      <td>0.0</td>\n",
       "      <td>0</td>\n",
       "      <td>0</td>\n",
       "      <td>0.0</td>\n",
       "      <td>0.0</td>\n",
       "      <td>0.0</td>\n",
       "      <td>0.0</td>\n",
       "      <td>0.0</td>\n",
       "      <td>0.0</td>\n",
       "    </tr>\n",
       "    <tr>\n",
       "      <th>288</th>\n",
       "      <td>2022</td>\n",
       "      <td>38</td>\n",
       "      <td>Male</td>\n",
       "      <td>Accidental</td>\n",
       "      <td>0.0</td>\n",
       "      <td>0.0</td>\n",
       "      <td>1.0</td>\n",
       "      <td>0.0</td>\n",
       "      <td>0.0</td>\n",
       "      <td>1</td>\n",
       "      <td>0</td>\n",
       "      <td>1.0</td>\n",
       "      <td>0.0</td>\n",
       "      <td>0.0</td>\n",
       "      <td>0.0</td>\n",
       "      <td>0.0</td>\n",
       "      <td>0.0</td>\n",
       "    </tr>\n",
       "    <tr>\n",
       "      <th>289</th>\n",
       "      <td>2022</td>\n",
       "      <td>32</td>\n",
       "      <td>Male</td>\n",
       "      <td>Accidental</td>\n",
       "      <td>1.0</td>\n",
       "      <td>0.0</td>\n",
       "      <td>1.0</td>\n",
       "      <td>0.0</td>\n",
       "      <td>0.0</td>\n",
       "      <td>1</td>\n",
       "      <td>0</td>\n",
       "      <td>1.0</td>\n",
       "      <td>0.0</td>\n",
       "      <td>0.0</td>\n",
       "      <td>0.0</td>\n",
       "      <td>0.0</td>\n",
       "      <td>0.0</td>\n",
       "    </tr>\n",
       "  </tbody>\n",
       "</table>\n",
       "</div>"
      ],
      "text/plain": [
       "     Year  Age Gender        Type  Alcohol  Heroin  Methamphetamine  Cocaine  \\\n",
       "ID                                                                             \n",
       "285  2022   51   Male  Accidental      0.0     0.0              0.0      1.0   \n",
       "286  2022   43   Male  Accidental      0.0     0.0              1.0      0.0   \n",
       "287  2022   37   Male         NaN      1.0     0.0              1.0      0.0   \n",
       "288  2022   38   Male  Accidental      0.0     0.0              1.0      0.0   \n",
       "289  2022   32   Male  Accidental      1.0     0.0              1.0      0.0   \n",
       "\n",
       "      RX  Opioids THC  Fentanyl  Codeine  Norfentanyl  Methadone  Morphine  \\\n",
       "ID                                                                           \n",
       "285  0.0        1   0       1.0      0.0          0.0        0.0       0.0   \n",
       "286  0.0        1   0       1.0      0.0          0.0        0.0       0.0   \n",
       "287  0.0        0   0       0.0      0.0          0.0        0.0       0.0   \n",
       "288  0.0        1   0       1.0      0.0          0.0        0.0       0.0   \n",
       "289  0.0        1   0       1.0      0.0          0.0        0.0       0.0   \n",
       "\n",
       "     Amphetamines  \n",
       "ID                 \n",
       "285           0.0  \n",
       "286           0.0  \n",
       "287           0.0  \n",
       "288           0.0  \n",
       "289           0.0  "
      ]
     },
     "execution_count": 2,
     "metadata": {},
     "output_type": "execute_result"
    }
   ],
   "source": [
    "# All Main Data in one dataframe imported to be cleaned\n",
    "overdose_df = pd.read_csv(\"overdose_data.csv\", index_col=\"ID\")\n",
    "opioid_columns = ['Fentanyl', 'Morphine', 'Codeine', 'Methadone', 'Heroin']\n",
    "# Update the 'Opioids' column based on the presence of 'Yes' in any of the opioid-related columns\n",
    "overdose_df['Opioids'] = overdose_df.apply(lambda row: 'Yes' if 'Yes' in row[opioid_columns].values else 'No', axis=1)\n",
    "overdose_df.replace({'No': 0, 'Yes': 1}, inplace=True)\n",
    "overdose_df.tail()"
   ]
  },
  {
   "cell_type": "code",
   "execution_count": 3,
   "id": "b5c6b397-5c95-411d-bd3b-2abc0d311926",
   "metadata": {
    "collapsed": true,
    "jupyter": {
     "outputs_hidden": true
    },
    "tags": []
   },
   "outputs": [],
   "source": [
    "def find_columns_with_ones(df):\n",
    "    # Initialize an empty dictionary to store the results\n",
    "    result = {}\n",
    "    \n",
    "    # Iterate over each row in the DataFrame\n",
    "    for index, row in df.iterrows():\n",
    "        # Find the columns with a value of 1\n",
    "        columns_with_one = tuple(sorted([col for col in df.columns if row[col] == 1.0]))\n",
    "        \n",
    "        # Store the result in the dictionary with ID as key\n",
    "        result[index] = columns_with_one\n",
    "    \n",
    "    return result\n"
   ]
  },
  {
   "cell_type": "code",
   "execution_count": 4,
   "id": "a75df41c-b08c-405c-a16f-4c82104c8013",
   "metadata": {
    "tags": []
   },
   "outputs": [
    {
     "data": {
      "text/plain": [
       "{1: ('RX',),\n",
       " 2: ('RX',),\n",
       " 3: ('Cocaine', 'RX', 'THC'),\n",
       " 4: ('RX',),\n",
       " 5: ('Alcohol', 'RX'),\n",
       " 6: ('Cocaine', 'Methamphetamine', 'RX'),\n",
       " 7: ('Fentanyl', 'Heroin', 'Opioids'),\n",
       " 8: ('Heroin', 'Opioids'),\n",
       " 9: ('Alcohol', 'Cocaine', 'RX'),\n",
       " 10: ('RX',),\n",
       " 11: ('Alcohol',),\n",
       " 12: ('RX',),\n",
       " 13: ('Alcohol', 'Fentanyl', 'Opioids', 'RX'),\n",
       " 14: ('Alcohol', 'Fentanyl', 'Heroin', 'Methamphetamine', 'Opioids'),\n",
       " 15: ('Alcohol', 'RX'),\n",
       " 16: ('Alcohol', 'RX'),\n",
       " 17: ('Alcohol', 'RX', 'THC'),\n",
       " 18: ('Heroin', 'Opioids'),\n",
       " 19: ('RX',),\n",
       " 20: ('Fentanyl', 'Heroin', 'Methamphetamine', 'Opioids', 'RX'),\n",
       " 21: ('Alcohol', 'RX'),\n",
       " 22: ('Heroin', 'Opioids', 'THC'),\n",
       " 23: ('Fentanyl', 'Opioids', 'RX'),\n",
       " 24: ('Fentanyl', 'Opioids', 'RX'),\n",
       " 25: ('Fentanyl', 'Opioids', 'RX'),\n",
       " 26: ('Alcohol',),\n",
       " 27: ('Alcohol', 'RX'),\n",
       " 28: ('RX',),\n",
       " 29: ('Fentanyl', 'Heroin', 'Opioids'),\n",
       " 30: ('Cocaine', 'RX'),\n",
       " 31: ('Alcohol', 'Cocaine', 'Fentanyl', 'Heroin', 'Opioids', 'RX', 'THC'),\n",
       " 32: ('Cocaine', 'Heroin', 'Methamphetamine', 'Opioids'),\n",
       " 33: ('Alcohol', 'RX'),\n",
       " 34: ('Cocaine', 'Heroin', 'Opioids', 'THC'),\n",
       " 35: ('Fentanyl', 'Heroin', 'Methamphetamine', 'Opioids', 'THC'),\n",
       " 36: ('Cocaine', 'Methamphetamine', 'RX'),\n",
       " 37: ('Alcohol', 'Cocaine', 'RX'),\n",
       " 38: ('RX',),\n",
       " 39: ('Alcohol', 'RX', 'THC'),\n",
       " 40: ('Alcohol', 'RX'),\n",
       " 41: ('Cocaine', 'Methamphetamine', 'RX'),\n",
       " 42: ('Alcohol', 'Cocaine'),\n",
       " 43: ('RX',),\n",
       " 44: ('Alcohol', 'RX'),\n",
       " 45: ('RX',),\n",
       " 46: ('Alcohol', 'RX'),\n",
       " 47: ('RX', 'THC'),\n",
       " 48: ('Alcohol', 'RX'),\n",
       " 49: ('Cocaine', 'RX'),\n",
       " 50: ('Alcohol', 'RX'),\n",
       " 51: ('Heroin', 'Opioids', 'RX'),\n",
       " 52: ('RX',),\n",
       " 53: ('Cocaine', 'RX'),\n",
       " 54: ('Alcohol', 'Methamphetamine', 'RX'),\n",
       " 55: ('RX',),\n",
       " 56: ('Alcohol', 'RX'),\n",
       " 57: ('Alcohol', 'Heroin', 'Opioids'),\n",
       " 58: ('Methamphetamine', 'RX'),\n",
       " 59: ('Cocaine', 'RX'),\n",
       " 60: ('RX',),\n",
       " 61: ('Fentanyl', 'Heroin', 'Opioids', 'RX'),\n",
       " 62: ('Alcohol', 'RX'),\n",
       " 63: ('Alcohol', 'RX', 'THC'),\n",
       " 64: ('Alcohol', 'RX'),\n",
       " 65: ('RX', 'THC'),\n",
       " 66: ('RX',),\n",
       " 67: ('Alcohol', 'RX'),\n",
       " 68: ('RX',),\n",
       " 69: ('Alcohol', 'Cocaine', 'RX'),\n",
       " 70: ('Cocaine', 'RX'),\n",
       " 71: ('RX',),\n",
       " 72: ('Methamphetamine', 'THC'),\n",
       " 73: ('RX',),\n",
       " 74: ('RX',),\n",
       " 75: ('RX',),\n",
       " 76: ('RX',),\n",
       " 77: ('RX',),\n",
       " 78: ('RX',),\n",
       " 79: ('RX', 'THC'),\n",
       " 80: ('Alcohol', 'Methamphetamine'),\n",
       " 81: ('Methamphetamine', 'RX'),\n",
       " 82: ('Methamphetamine', 'RX'),\n",
       " 83: ('RX',),\n",
       " 84: ('Alcohol', 'RX'),\n",
       " 85: ('Alcohol', 'RX'),\n",
       " 86: ('RX', 'THC'),\n",
       " 87: ('Methamphetamine', 'RX', 'THC'),\n",
       " 88: ('Fentanyl', 'Opioids', 'RX'),\n",
       " 89: ('Methamphetamine', 'RX', 'THC'),\n",
       " 90: ('Fentanyl', 'Heroin', 'Opioids', 'RX', 'THC'),\n",
       " 91: ('RX',),\n",
       " 92: ('RX',),\n",
       " 93: ('Alcohol', 'RX'),\n",
       " 94: ('Cocaine', 'RX'),\n",
       " 95: ('Methamphetamine', 'RX'),\n",
       " 96: ('RX',),\n",
       " 97: ('Cocaine', 'Fentanyl', 'Heroin', 'Opioids', 'RX'),\n",
       " 98: ('Fentanyl', 'Heroin', 'Opioids', 'RX'),\n",
       " 99: ('RX',),\n",
       " 100: ('Methamphetamine',),\n",
       " 101: ('RX', 'THC'),\n",
       " 102: ('Methamphetamine', 'RX'),\n",
       " 103: ('Methamphetamine', 'THC'),\n",
       " 104: ('RX',),\n",
       " 105: ('Methamphetamine', 'RX'),\n",
       " 106: ('RX',),\n",
       " 107: ('RX',),\n",
       " 108: ('RX',),\n",
       " 109: ('Fentanyl', 'Opioids', 'RX', 'THC'),\n",
       " 110: ('Cocaine', 'Fentanyl', 'Heroin', 'Opioids', 'RX'),\n",
       " 111: (),\n",
       " 112: ('Fentanyl', 'Methamphetamine', 'Opioids', 'RX'),\n",
       " 113: ('Alcohol', 'Fentanyl', 'Heroin', 'Opioids', 'RX'),\n",
       " 114: ('RX',),\n",
       " 115: ('Fentanyl', 'Opioids', 'RX'),\n",
       " 116: ('Alcohol', 'Methamphetamine', 'RX', 'THC'),\n",
       " 117: ('Fentanyl', 'Heroin', 'Opioids'),\n",
       " 118: ('RX',),\n",
       " 119: ('Fentanyl', 'Heroin', 'Methamphetamine', 'Opioids', 'THC'),\n",
       " 120: ('RX',),\n",
       " 121: ('Fentanyl', 'Methamphetamine', 'Opioids', 'THC'),\n",
       " 122: ('Methamphetamine',),\n",
       " 123: ('RX',),\n",
       " 124: ('Fentanyl', 'Opioids', 'RX', 'THC'),\n",
       " 125: ('Methamphetamine', 'THC'),\n",
       " 126: ('Alcohol', 'RX'),\n",
       " 127: ('Fentanyl', 'Opioids', 'RX', 'THC'),\n",
       " 128: ('Methamphetamine', 'RX'),\n",
       " 129: ('Fentanyl', 'Heroin', 'Methamphetamine', 'Opioids'),\n",
       " 130: ('Alcohol', 'RX'),\n",
       " 131: ('Alcohol', 'Fentanyl', 'Opioids', 'RX', 'THC'),\n",
       " 132: ('Fentanyl', 'Heroin', 'Opioids', 'THC'),\n",
       " 133: ('Fentanyl', 'Heroin', 'Methamphetamine', 'Opioids', 'RX'),\n",
       " 134: ('Alcohol', 'Fentanyl', 'Heroin', 'Opioids', 'RX'),\n",
       " 135: ('Amphetamines', 'Fentanyl', 'Opioids'),\n",
       " 136: ('Fentanyl', 'Morphine', 'Opioids', 'RX', 'THC'),\n",
       " 137: ('Fentanyl', 'Opioids'),\n",
       " 138: ('Amphetamines', 'Cocaine', 'Morphine', 'Opioids', 'THC'),\n",
       " 139: ('Fentanyl', 'Morphine', 'Opioids'),\n",
       " 140: ('Amphetamines', 'Fentanyl', 'Opioids', 'RX', 'THC'),\n",
       " 141: ('Amphetamines', 'Fentanyl', 'Opioids'),\n",
       " 142: ('Fentanyl', 'Opioids', 'THC'),\n",
       " 143: ('Morphine', 'Opioids', 'RX'),\n",
       " 144: ('Amphetamines', 'Fentanyl', 'Opioids'),\n",
       " 145: ('Fentanyl', 'Morphine', 'Opioids'),\n",
       " 146: ('Fentanyl', 'Morphine', 'Opioids'),\n",
       " 147: ('Amphetamines', 'Cocaine', 'Fentanyl', 'Opioids'),\n",
       " 148: ('Alcohol', 'Fentanyl', 'Morphine', 'Opioids'),\n",
       " 149: ('Cocaine', 'Fentanyl', 'Morphine', 'Opioids', 'RX'),\n",
       " 150: ('Fentanyl', 'Morphine', 'Opioids'),\n",
       " 151: ('Amphetamines', 'Fentanyl', 'Morphine', 'Opioids'),\n",
       " 152: ('Amphetamines', 'Fentanyl', 'Opioids'),\n",
       " 153: ('Alcohol', 'Cocaine', 'Morphine', 'Opioids', 'THC'),\n",
       " 154: ('Alcohol',),\n",
       " 155: ('Alcohol', 'Amphetamines', 'RX'),\n",
       " 156: ('Fentanyl', 'Opioids'),\n",
       " 157: ('Amphetamines', 'Fentanyl', 'Morphine', 'Opioids'),\n",
       " 158: ('RX',),\n",
       " 159: ('Alcohol', 'Fentanyl', 'Heroin', 'Methamphetamine', 'Opioids'),\n",
       " 160: ('Fentanyl', 'Methamphetamine', 'Opioids', 'RX'),\n",
       " 161: ('Heroin', 'Methamphetamine', 'Opioids'),\n",
       " 162: ('Amphetamines', 'Methamphetamine'),\n",
       " 163: ('Alcohol', 'Methamphetamine', 'THC'),\n",
       " 164: ('Fentanyl', 'Heroin', 'Morphine', 'Opioids'),\n",
       " 165: ('Fentanyl', 'Opioids', 'RX'),\n",
       " 166: ('Fentanyl', 'Morphine', 'Opioids'),\n",
       " 167: ('Fentanyl', 'Methamphetamine', 'Morphine', 'Opioids'),\n",
       " 168: ('Alcohol', 'Fentanyl', 'Heroin', 'Methamphetamine', 'Opioids', 'THC'),\n",
       " 169: ('Methamphetamine',),\n",
       " 170: ('Alcohol', 'Fentanyl', 'Methamphetamine', 'Opioids'),\n",
       " 171: ('Cocaine', 'Fentanyl', 'Opioids'),\n",
       " 172: ('Morphine', 'Opioids'),\n",
       " 173: ('Alcohol', 'Fentanyl', 'Opioids'),\n",
       " 174: ('Amphetamines', 'Methamphetamine'),\n",
       " 175: ('Fentanyl', 'Morphine', 'Opioids'),\n",
       " 176: ('Amphetamines', 'Methamphetamine'),\n",
       " 177: ('Alcohol', 'Cocaine', 'Fentanyl', 'Opioids'),\n",
       " 178: ('Fentanyl', 'Opioids'),\n",
       " 179: ('Alcohol', 'RX'),\n",
       " 180: ('Alcohol', 'Cocaine', 'Fentanyl', 'Opioids', 'RX'),\n",
       " 181: ('Alcohol', 'Fentanyl', 'Norfentanyl', 'Opioids', 'THC'),\n",
       " 182: ('Fentanyl', 'Opioids'),\n",
       " 183: ('Alcohol', 'Fentanyl', 'Methamphetamine', 'Opioids'),\n",
       " 184: ('Fentanyl', 'Methamphetamine', 'Opioids', 'RX'),\n",
       " 185: ('Amphetamines',\n",
       "  'Fentanyl',\n",
       "  'Methamphetamine',\n",
       "  'Norfentanyl',\n",
       "  'Opioids'),\n",
       " 186: ('Methadone', 'Opioids', 'RX', 'THC'),\n",
       " 187: ('Alcohol', 'Fentanyl', 'Norfentanyl', 'Opioids'),\n",
       " 188: ('Alcohol', 'Cocaine', 'Fentanyl', 'Norfentanyl', 'Opioids'),\n",
       " 189: ('Amphetamines',\n",
       "  'Fentanyl',\n",
       "  'Heroin',\n",
       "  'Methamphetamine',\n",
       "  'Morphine',\n",
       "  'Opioids'),\n",
       " 190: ('Alcohol', 'Amphetamines', 'Fentanyl', 'Methamphetamine', 'Opioids'),\n",
       " 191: ('Amphetamines', 'Fentanyl', 'Methamphetamine', 'Opioids'),\n",
       " 192: ('Fentanyl', 'Methadone', 'Methamphetamine', 'Opioids', 'RX', 'THC'),\n",
       " 193: ('Amphetamines', 'Fentanyl', 'Methamphetamine', 'Opioids'),\n",
       " 194: ('RX',),\n",
       " 195: ('Fentanyl', 'Norfentanyl', 'Opioids', 'RX'),\n",
       " 196: ('Alcohol', 'Methamphetamine', 'THC'),\n",
       " 197: ('Fentanyl', 'Methamphetamine', 'Opioids'),\n",
       " 198: ('Fentanyl', 'Norfentanyl', 'Opioids', 'RX', 'THC'),\n",
       " 199: ('Cocaine',\n",
       "  'Codeine',\n",
       "  'Heroin',\n",
       "  'Methamphetamine',\n",
       "  'Morphine',\n",
       "  'Norfentanyl',\n",
       "  'Opioids',\n",
       "  'RX'),\n",
       " 200: ('Amphetamines', 'Cocaine', 'Methamphetamine', 'Norfentanyl', 'THC'),\n",
       " 201: ('Amphetamines', 'Fentanyl', 'Norfentanyl', 'Opioids', 'RX', 'THC'),\n",
       " 202: ('Alcohol',\n",
       "  'Amphetamines',\n",
       "  'Codeine',\n",
       "  'Fentanyl',\n",
       "  'Heroin',\n",
       "  'Morphine',\n",
       "  'Norfentanyl',\n",
       "  'Opioids',\n",
       "  'RX',\n",
       "  'THC'),\n",
       " 203: ('Amphetamines', 'Fentanyl', 'Methamphetamine', 'Opioids'),\n",
       " 204: ('Amphetamines', 'Morphine', 'Opioids'),\n",
       " 205: ('Codeine', 'Fentanyl', 'Heroin', 'Norfentanyl', 'Opioids', 'RX'),\n",
       " 206: ('Amphetamines', 'Methamphetamine'),\n",
       " 207: ('Amphetamines',\n",
       "  'Fentanyl',\n",
       "  'Methamphetamine',\n",
       "  'Norfentanyl',\n",
       "  'Opioids'),\n",
       " 208: ('Amphetamines', 'Fentanyl', 'Methamphetamine', 'Opioids'),\n",
       " 209: ('Amphetamines',\n",
       "  'Fentanyl',\n",
       "  'Methamphetamine',\n",
       "  'Norfentanyl',\n",
       "  'Opioids'),\n",
       " 210: ('Amphetamines',\n",
       "  'Fentanyl',\n",
       "  'Methamphetamine',\n",
       "  'Morphine',\n",
       "  'Norfentanyl',\n",
       "  'Opioids'),\n",
       " 211: ('Cocaine', 'Fentanyl', 'Norfentanyl', 'Opioids'),\n",
       " 212: ('Amphetamines', 'Methamphetamine'),\n",
       " 213: ('Amphetamines', 'Methamphetamine', 'THC'),\n",
       " 214: ('Amphetamines', 'Methamphetamine'),\n",
       " 215: ('Amphetamines', 'Fentanyl', 'Methamphetamine', 'Opioids', 'RX'),\n",
       " 216: ('Amphetamines',\n",
       "  'Fentanyl',\n",
       "  'Methamphetamine',\n",
       "  'Morphine',\n",
       "  'Norfentanyl',\n",
       "  'Opioids'),\n",
       " 217: ('Cocaine', 'Fentanyl', 'Morphine', 'Norfentanyl', 'Opioids'),\n",
       " 218: (),\n",
       " 219: (),\n",
       " 220: (),\n",
       " 221: ('Cocaine',),\n",
       " 222: ('Fentanyl', 'Opioids'),\n",
       " 223: ('Fentanyl', 'Methamphetamine', 'Opioids'),\n",
       " 224: ('Amphetamines', 'Fentanyl', 'Opioids'),\n",
       " 225: ('Fentanyl', 'Opioids'),\n",
       " 226: ('Fentanyl', 'Heroin', 'Methamphetamine', 'Opioids'),\n",
       " 227: ('Fentanyl', 'Opioids'),\n",
       " 228: ('Fentanyl', 'Heroin', 'Methamphetamine', 'Opioids'),\n",
       " 229: ('Fentanyl', 'Opioids'),\n",
       " 230: ('Fentanyl', 'Opioids'),\n",
       " 231: ('Fentanyl', 'Methamphetamine', 'Opioids'),\n",
       " 232: ('Fentanyl', 'Opioids'),\n",
       " 233: ('Fentanyl', 'Methamphetamine', 'Opioids'),\n",
       " 234: ('Fentanyl', 'Methadone', 'Opioids'),\n",
       " 235: (),\n",
       " 236: ('Fentanyl', 'Methamphetamine', 'Opioids'),\n",
       " 237: ('Fentanyl', 'Methamphetamine', 'Opioids'),\n",
       " 238: ('Fentanyl', 'Opioids'),\n",
       " 239: ('Alcohol', 'Fentanyl', 'Methamphetamine', 'Opioids'),\n",
       " 240: ('Fentanyl', 'Methamphetamine', 'Opioids'),\n",
       " 241: ('Fentanyl', 'Opioids'),\n",
       " 242: ('Methamphetamine',),\n",
       " 243: ('Fentanyl', 'Methamphetamine', 'Opioids'),\n",
       " 244: ('Codeine', 'Fentanyl', 'Morphine', 'Opioids'),\n",
       " 245: ('Fentanyl', 'Opioids'),\n",
       " 246: ('Fentanyl', 'Methamphetamine', 'Opioids'),\n",
       " 247: ('Cocaine', 'Fentanyl', 'Opioids'),\n",
       " 248: ('Cocaine', 'Fentanyl', 'Opioids'),\n",
       " 249: ('Fentanyl', 'Morphine', 'Opioids'),\n",
       " 250: ('Methamphetamine',),\n",
       " 251: ('Fentanyl', 'Opioids'),\n",
       " 252: ('RX',),\n",
       " 253: ('Alcohol', 'Fentanyl', 'Methamphetamine', 'Opioids'),\n",
       " 254: (),\n",
       " 255: ('Fentanyl', 'Methamphetamine', 'Opioids'),\n",
       " 256: ('Cocaine',),\n",
       " 257: ('Methamphetamine',),\n",
       " 258: ('Cocaine', 'Fentanyl', 'Opioids'),\n",
       " 259: ('Fentanyl', 'Methamphetamine', 'Opioids'),\n",
       " 260: ('Alcohol', 'Cocaine', 'Fentanyl', 'Methamphetamine', 'Opioids'),\n",
       " 261: ('Fentanyl', 'Methamphetamine', 'Opioids'),\n",
       " 262: ('Fentanyl', 'Methamphetamine', 'Opioids'),\n",
       " 263: ('Methamphetamine',),\n",
       " 264: ('Fentanyl', 'Opioids'),\n",
       " 265: ('Alcohol', 'Cocaine'),\n",
       " 266: ('RX',),\n",
       " 267: ('Alcohol', 'RX'),\n",
       " 268: ('Alcohol', 'Cocaine', 'Fentanyl', 'Opioids'),\n",
       " 269: ('Fentanyl', 'Methamphetamine', 'Opioids'),\n",
       " 270: ('Fentanyl', 'Opioids'),\n",
       " 271: ('Alcohol', 'Fentanyl', 'Methamphetamine', 'Opioids'),\n",
       " 272: ('Fentanyl', 'Methamphetamine', 'Opioids'),\n",
       " 273: ('Alcohol', 'RX'),\n",
       " 274: ('Alcohol', 'Fentanyl', 'Methamphetamine', 'Opioids'),\n",
       " 275: ('Alcohol', 'Fentanyl', 'Methamphetamine', 'Opioids'),\n",
       " 276: ('Cocaine', 'Fentanyl', 'Opioids'),\n",
       " 277: ('Cocaine', 'Methamphetamine', 'RX'),\n",
       " 278: ('Cocaine', 'Fentanyl', 'Opioids'),\n",
       " 279: ('Alcohol', 'Cocaine', 'Fentanyl', 'Methamphetamine', 'Opioids'),\n",
       " 280: ('Fentanyl', 'Opioids', 'RX'),\n",
       " 281: ('Fentanyl', 'Methamphetamine', 'Opioids'),\n",
       " 282: ('Cocaine',),\n",
       " 283: ('Alcohol', 'Fentanyl', 'Methamphetamine', 'Opioids'),\n",
       " 284: ('Alcohol', 'Methamphetamine'),\n",
       " 285: ('Cocaine', 'Fentanyl', 'Opioids'),\n",
       " 286: ('Fentanyl', 'Methamphetamine', 'Opioids'),\n",
       " 287: ('Alcohol', 'Methamphetamine'),\n",
       " 288: ('Fentanyl', 'Methamphetamine', 'Opioids'),\n",
       " 289: ('Alcohol', 'Fentanyl', 'Methamphetamine', 'Opioids')}"
      ]
     },
     "execution_count": 4,
     "metadata": {},
     "output_type": "execute_result"
    }
   ],
   "source": [
    "# Call the function to get the result\n",
    "result = find_columns_with_ones(overdose_df)\n",
    "\n",
    "\n",
    "result"
   ]
  },
  {
   "cell_type": "code",
   "execution_count": 5,
   "id": "a6972a28-c058-40d7-8db5-0ab856869cc1",
   "metadata": {
    "tags": []
   },
   "outputs": [
    {
     "data": {
      "text/plain": [
       "Alcohol             73\n",
       "Heroin              35\n",
       "Methamphetamine     98\n",
       "Cocaine             45\n",
       "RX                 136\n",
       "Opioids            156\n",
       "THC                 43\n",
       "Fentanyl           141\n",
       "Codeine              4\n",
       "Norfentanyl         17\n",
       "Methadone            3\n",
       "Morphine            26\n",
       "Amphetamines        34\n",
       "dtype: int64"
      ]
     },
     "execution_count": 5,
     "metadata": {},
     "output_type": "execute_result"
    }
   ],
   "source": [
    "columns_to_exclude = ['Year', 'Age', 'Gender', 'Type']\n",
    "overdose_df_sliced = overdose_df.drop(columns=columns_to_exclude)\n",
    "overdose_df_count = (overdose_df_sliced == 1).sum()\n",
    "overdose_df_count"
   ]
  },
  {
   "cell_type": "code",
   "execution_count": 1,
   "id": "1aedbbe4-4882-4c18-bd84-fca3a27c23b4",
   "metadata": {
    "tags": []
   },
   "outputs": [
    {
     "ename": "NameError",
     "evalue": "name 'overdose_df' is not defined",
     "output_type": "error",
     "traceback": [
      "\u001b[0;31m---------------------------------------------------------------------------\u001b[0m",
      "\u001b[0;31mNameError\u001b[0m                                 Traceback (most recent call last)",
      "Cell \u001b[0;32mIn[1], line 2\u001b[0m\n\u001b[1;32m      1\u001b[0m \u001b[38;5;66;03m# Yearly overdose count\u001b[39;00m\n\u001b[0;32m----> 2\u001b[0m yearly_overdose_count \u001b[38;5;241m=\u001b[39m overdose_df[\u001b[38;5;124m'\u001b[39m\u001b[38;5;124mYear\u001b[39m\u001b[38;5;124m'\u001b[39m]\u001b[38;5;241m.\u001b[39mvalue_counts()\n\u001b[1;32m      3\u001b[0m yearly_overdose_count\n",
      "\u001b[0;31mNameError\u001b[0m: name 'overdose_df' is not defined"
     ]
    }
   ],
   "source": [
    "# Yearly overdose count\n",
    "yearly_overdose_count = overdose_df_count['Year'].value_counts()\n",
    "yearly_overdose_count"
   ]
  },
  {
   "cell_type": "markdown",
   "id": "0514de8a-0eda-4ffd-95ed-924e7f764446",
   "metadata": {},
   "source": [
    "## Dataframes By Year"
   ]
  },
  {
   "cell_type": "markdown",
   "id": "bb1f34cc-d8fd-4ce0-9bc6-a570b8ba730a",
   "metadata": {
    "tags": []
   },
   "source": [
    "### 2008"
   ]
  },
  {
   "cell_type": "code",
   "execution_count": 40,
   "id": "0c975b0d-59c9-454e-9af7-01fefe8ad06b",
   "metadata": {
    "tags": []
   },
   "outputs": [],
   "source": [
    "# 2008 Data \n",
    "df_2008 = overdose_df[overdose_df['Year'] == 2008]\n",
    "df_2008 = df_2008.drop(columns=['Year', 'Fentanyl', 'Codeine', 'Norfentanyl', 'Methadone', 'Morphine', 'Amphetamines'])\n",
    "df_2008.to_csv('2008_deaths.csv', index=False) "
   ]
  },
  {
   "cell_type": "code",
   "execution_count": 8,
   "id": "934e236b-cbd3-4f70-9394-b87d75a6420d",
   "metadata": {
    "collapsed": true,
    "jupyter": {
     "outputs_hidden": true
    },
    "tags": []
   },
   "outputs": [
    {
     "data": {
      "text/plain": [
       "Alcohol            1\n",
       "Heroin             0\n",
       "Methamphetamine    0\n",
       "Cocaine            1\n",
       "RX                 5\n",
       "Opioids            0\n",
       "THC                1\n",
       "dtype: int64"
      ]
     },
     "execution_count": 8,
     "metadata": {},
     "output_type": "execute_result"
    }
   ],
   "source": [
    "# Count the 'Yes' values in each column\n",
    "columns_to_exclude = ['Age', 'Gender', 'Type']\n",
    "df_2008_sliced = df_2008.drop(columns=columns_to_exclude)\n",
    "yes_counts_2008 = (df_2008_sliced == 1).sum()\n",
    "yes_counts_2008"
   ]
  },
  {
   "cell_type": "markdown",
   "id": "cbf69a95-f8dc-4424-ad44-5b4d90f2ba49",
   "metadata": {
    "tags": []
   },
   "source": [
    "### 2009"
   ]
  },
  {
   "cell_type": "code",
   "execution_count": 11,
   "id": "a43e1089-2f80-4337-ada3-6f908d4a9a39",
   "metadata": {
    "collapsed": true,
    "jupyter": {
     "outputs_hidden": true
    },
    "tags": []
   },
   "outputs": [],
   "source": [
    "# 2009 Data\n",
    "df_2009 = overdose_df[overdose_df['Year'] == 2009]\n",
    "df_2009 = df_2009.drop(columns=['Year','Codeine', 'Norfentanyl', 'Methadone', 'Morphine', 'Amphetamines'])\n",
    "df_2009.to_csv('2009_deaths.csv', index=False) "
   ]
  },
  {
   "cell_type": "code",
   "execution_count": 12,
   "id": "16637fbc-4ab7-4729-bdfb-aff27f4e6f4a",
   "metadata": {
    "collapsed": true,
    "jupyter": {
     "outputs_hidden": true
    },
    "tags": []
   },
   "outputs": [
    {
     "data": {
      "text/plain": [
       "Alcohol            2\n",
       "Heroin             2\n",
       "Methamphetamine    1\n",
       "Cocaine            2\n",
       "RX                 3\n",
       "Opioids            2\n",
       "THC                0\n",
       "Fentanyl           1\n",
       "dtype: int64"
      ]
     },
     "execution_count": 12,
     "metadata": {},
     "output_type": "execute_result"
    }
   ],
   "source": [
    "# Count the 'Yes' values in each column\n",
    "df_2009_sliced = df_2009.drop(columns=columns_to_exclude)\n",
    "yes_counts_2009 = (df_2009_sliced == 1).sum()\n",
    "\n",
    "yes_counts_2009"
   ]
  },
  {
   "cell_type": "markdown",
   "id": "d811f28d-d9a1-4bc3-ab98-7ba0ae520c0d",
   "metadata": {
    "tags": []
   },
   "source": [
    "### 2010"
   ]
  },
  {
   "cell_type": "code",
   "execution_count": 41,
   "id": "2af9be7a-180b-4e8c-83f4-70216ba266b9",
   "metadata": {
    "tags": []
   },
   "outputs": [],
   "source": [
    "# 2010 Data\n",
    "df_2010 = overdose_df[overdose_df['Year'] == 2010]\n",
    "df_2010 = df_2010.drop(columns=['Year','Codeine', 'Norfentanyl', 'Methadone', 'Morphine', 'Amphetamines'])\n",
    "df_2010.to_csv('2010_deaths.csv', index=False) "
   ]
  },
  {
   "cell_type": "code",
   "execution_count": 15,
   "id": "641a3753-e316-40fe-85cd-68b19fbe1f73",
   "metadata": {
    "collapsed": true,
    "jupyter": {
     "outputs_hidden": true
    },
    "tags": []
   },
   "outputs": [
    {
     "data": {
      "text/plain": [
       "Alcohol             7\n",
       "Heroin              4\n",
       "Methamphetamine     2\n",
       "Cocaine             0\n",
       "RX                 11\n",
       "Opioids             8\n",
       "THC                 2\n",
       "Fentanyl            6\n",
       "dtype: int64"
      ]
     },
     "execution_count": 15,
     "metadata": {},
     "output_type": "execute_result"
    }
   ],
   "source": [
    "# Count the 'Yes' values in each column\n",
    "df_2010_sliced = df_2010.drop(columns=columns_to_exclude)\n",
    "yes_counts_2010 = (df_2010_sliced == 1).sum()\n",
    "\n",
    "yes_counts_2010"
   ]
  },
  {
   "cell_type": "markdown",
   "id": "68c27b19-3f45-4a44-9a49-ea8ae92acccf",
   "metadata": {
    "tags": []
   },
   "source": [
    "### 2011"
   ]
  },
  {
   "cell_type": "code",
   "execution_count": 42,
   "id": "e0b60835-f618-41ab-bc4e-c451336fcafb",
   "metadata": {
    "tags": []
   },
   "outputs": [],
   "source": [
    "# 2011 Data\n",
    "df_2011 = overdose_df[overdose_df['Year'] == 2011]\n",
    "df_2011 = df_2011.drop(columns=['Year','Codeine', 'Norfentanyl', 'Methadone', 'Morphine', 'Amphetamines'])\n",
    "df_2011.to_csv('2011_deaths.csv', index=False) "
   ]
  },
  {
   "cell_type": "code",
   "execution_count": 17,
   "id": "e150c017-bad8-4b2a-9a19-484ac9898468",
   "metadata": {
    "collapsed": true,
    "jupyter": {
     "outputs_hidden": true
    },
    "tags": []
   },
   "outputs": [
    {
     "data": {
      "text/plain": [
       "Alcohol            5\n",
       "Heroin             5\n",
       "Methamphetamine    3\n",
       "Cocaine            6\n",
       "RX                 9\n",
       "Opioids            5\n",
       "THC                4\n",
       "Fentanyl           3\n",
       "dtype: int64"
      ]
     },
     "execution_count": 17,
     "metadata": {},
     "output_type": "execute_result"
    }
   ],
   "source": [
    "df_2011_sliced = df_2011.drop(columns=columns_to_exclude)\n",
    "yes_counts_2011 = (df_2011_sliced == 1).sum()\n",
    "\n",
    "yes_counts_2011"
   ]
  },
  {
   "cell_type": "markdown",
   "id": "e5f95c29-f0ee-4749-9eb9-2fe19d210502",
   "metadata": {
    "tags": []
   },
   "source": [
    "### 2012"
   ]
  },
  {
   "cell_type": "code",
   "execution_count": 43,
   "id": "3b64b890-43f2-4c23-909a-30e99801c644",
   "metadata": {
    "tags": []
   },
   "outputs": [],
   "source": [
    "# 2012 Data\n",
    "df_2012 = overdose_df[overdose_df['Year'] == 2012]\n",
    "df_2012 = df_2012.drop(columns=['Year','Codeine', 'Norfentanyl', 'Methadone', 'Morphine', 'Amphetamines'])\n",
    "df_2012.to_csv('2012_deaths.csv', index=False) "
   ]
  },
  {
   "cell_type": "code",
   "execution_count": 19,
   "id": "0d094067-8038-41cb-b8db-d509144cb6dd",
   "metadata": {
    "collapsed": true,
    "jupyter": {
     "outputs_hidden": true
    },
    "tags": []
   },
   "outputs": [
    {
     "data": {
      "text/plain": [
       "Alcohol             6\n",
       "Heroin              1\n",
       "Methamphetamine     1\n",
       "Cocaine             3\n",
       "RX                 12\n",
       "Opioids             1\n",
       "THC                 1\n",
       "Fentanyl            0\n",
       "dtype: int64"
      ]
     },
     "execution_count": 19,
     "metadata": {},
     "output_type": "execute_result"
    }
   ],
   "source": [
    "df_2012_sliced = df_2012.drop(columns=columns_to_exclude)\n",
    "yes_counts_2012 = (df_2012_sliced == 1).sum()\n",
    "\n",
    "yes_counts_2012"
   ]
  },
  {
   "cell_type": "markdown",
   "id": "171ffbc3-cc2e-4950-85ca-3f7b04342532",
   "metadata": {
    "tags": []
   },
   "source": [
    "### 2013"
   ]
  },
  {
   "cell_type": "code",
   "execution_count": 44,
   "id": "a4cbf061-ba5c-4821-bfba-489e6e475f71",
   "metadata": {
    "tags": []
   },
   "outputs": [],
   "source": [
    "# 2013 Data\n",
    "df_2013 = overdose_df[overdose_df['Year'] == 2013]\n",
    "df_2013 = df_2013.drop(columns=['Year','Codeine', 'Norfentanyl', 'Methadone', 'Morphine', 'Amphetamines'])\n",
    "df_2013.to_csv('2013_deaths.csv', index=False) "
   ]
  },
  {
   "cell_type": "code",
   "execution_count": 21,
   "id": "a96a02da-db56-43f5-9741-2a96b25d6880",
   "metadata": {
    "collapsed": true,
    "jupyter": {
     "outputs_hidden": true
    },
    "tags": []
   },
   "outputs": [
    {
     "data": {
      "text/plain": [
       "Alcohol             5\n",
       "Heroin              2\n",
       "Methamphetamine     2\n",
       "Cocaine             2\n",
       "RX                 10\n",
       "Opioids             2\n",
       "THC                 1\n",
       "Fentanyl            1\n",
       "dtype: int64"
      ]
     },
     "execution_count": 21,
     "metadata": {},
     "output_type": "execute_result"
    }
   ],
   "source": [
    "df_2013_sliced = df_2013.drop(columns=columns_to_exclude)\n",
    "yes_counts_2013 = (df_2013_sliced == 1).sum()\n",
    "\n",
    "yes_counts_2013"
   ]
  },
  {
   "cell_type": "markdown",
   "id": "07f8e0b9-a335-48ee-b97a-abc6e0535e63",
   "metadata": {
    "tags": []
   },
   "source": [
    "### 2014"
   ]
  },
  {
   "cell_type": "code",
   "execution_count": 45,
   "id": "a78cabfc-3704-4623-8b8f-8dfeeb8b281c",
   "metadata": {
    "tags": []
   },
   "outputs": [],
   "source": [
    "# 2014 Data\n",
    "df_2014 = overdose_df[overdose_df['Year'] == 2014]\n",
    "df_2014 = df_2014.drop(columns=['Year','Codeine', 'Norfentanyl', 'Methadone', 'Morphine', 'Amphetamines'])\n",
    "df_2014.to_csv('2014_deaths.csv', index=False) "
   ]
  },
  {
   "cell_type": "code",
   "execution_count": 23,
   "id": "90de61a5-5aca-4adb-9c46-8d2c83e565fe",
   "metadata": {
    "collapsed": true,
    "jupyter": {
     "outputs_hidden": true
    },
    "tags": []
   },
   "outputs": [
    {
     "data": {
      "text/plain": [
       "Alcohol            3\n",
       "Heroin             0\n",
       "Methamphetamine    1\n",
       "Cocaine            2\n",
       "RX                 8\n",
       "Opioids            0\n",
       "THC                2\n",
       "Fentanyl           0\n",
       "dtype: int64"
      ]
     },
     "execution_count": 23,
     "metadata": {},
     "output_type": "execute_result"
    }
   ],
   "source": [
    "df_2014_sliced = df_2014.drop(columns=columns_to_exclude)\n",
    "yes_counts_2014 = (df_2014_sliced == 1).sum()\n",
    "\n",
    "yes_counts_2014"
   ]
  },
  {
   "cell_type": "markdown",
   "id": "9e656e9d-cce5-4d4c-a94e-efc69cdfdc3b",
   "metadata": {
    "tags": []
   },
   "source": [
    "### 2015"
   ]
  },
  {
   "cell_type": "code",
   "execution_count": 46,
   "id": "6cb640b8-082e-4465-95d3-55c5684f7aa6",
   "metadata": {
    "tags": []
   },
   "outputs": [],
   "source": [
    "# 2015 Data\n",
    "df_2015 = overdose_df[overdose_df['Year'] == 2015]\n",
    "df_2015 = df_2015.drop(columns=['Year','Codeine', 'Norfentanyl', 'Methadone', 'Morphine', 'Amphetamines'])\n",
    "df_2015.to_csv('2015_deaths.csv', index=False) "
   ]
  },
  {
   "cell_type": "code",
   "execution_count": 25,
   "id": "4e2d67f7-c91e-4873-bf11-f9a621b86e74",
   "metadata": {
    "collapsed": true,
    "jupyter": {
     "outputs_hidden": true
    },
    "tags": []
   },
   "outputs": [
    {
     "data": {
      "text/plain": [
       "Alcohol             2\n",
       "Heroin              0\n",
       "Methamphetamine     3\n",
       "Cocaine             0\n",
       "RX                 11\n",
       "Opioids             0\n",
       "THC                 1\n",
       "Fentanyl            0\n",
       "dtype: int64"
      ]
     },
     "execution_count": 25,
     "metadata": {},
     "output_type": "execute_result"
    }
   ],
   "source": [
    "df_2015_sliced = df_2015.drop(columns=columns_to_exclude)\n",
    "yes_counts_2015 = (df_2015_sliced == 1).sum()\n",
    "\n",
    "yes_counts_2015"
   ]
  },
  {
   "cell_type": "markdown",
   "id": "a1d0f8e2-0729-4311-8dd1-f778801eab0d",
   "metadata": {
    "tags": []
   },
   "source": [
    "### 2016"
   ]
  },
  {
   "cell_type": "code",
   "execution_count": 47,
   "id": "6cb8e099-e0c2-4fca-8e05-d560ba2819d0",
   "metadata": {
    "tags": []
   },
   "outputs": [],
   "source": [
    "# 2016 Data\n",
    "df_2016 = overdose_df[overdose_df['Year'] == 2016]\n",
    "df_2016 = df_2016.drop(columns=['Year','Codeine', 'Norfentanyl', 'Methadone', 'Morphine', 'Amphetamines'])\n",
    "df_2016.to_csv('2016_deaths.csv', index=False) "
   ]
  },
  {
   "cell_type": "code",
   "execution_count": 27,
   "id": "bb97aada-9b11-4f94-b585-971556b74db0",
   "metadata": {
    "collapsed": true,
    "jupyter": {
     "outputs_hidden": true
    },
    "tags": []
   },
   "outputs": [
    {
     "data": {
      "text/plain": [
       "Alcohol             2\n",
       "Heroin              3\n",
       "Methamphetamine     7\n",
       "Cocaine             2\n",
       "RX                 19\n",
       "Opioids             4\n",
       "THC                 6\n",
       "Fentanyl            4\n",
       "dtype: int64"
      ]
     },
     "execution_count": 27,
     "metadata": {},
     "output_type": "execute_result"
    }
   ],
   "source": [
    "# Count the 'Yes' values in each column\n",
    "df_2016_sliced = df_2016.drop(columns=columns_to_exclude)\n",
    "yes_counts_2016 = (df_2016_sliced == 1).sum()\n",
    "\n",
    "yes_counts_2016"
   ]
  },
  {
   "cell_type": "markdown",
   "id": "991f766c-8330-4325-8e8a-662382050241",
   "metadata": {
    "tags": []
   },
   "source": [
    "### 2017"
   ]
  },
  {
   "cell_type": "code",
   "execution_count": 48,
   "id": "fd563e58-ee10-4e7e-9082-850a8c56e360",
   "metadata": {
    "tags": []
   },
   "outputs": [],
   "source": [
    "# 2017 Data\n",
    "df_2017 = overdose_df[overdose_df['Year'] == 2017]\n",
    "df_2017 = df_2017.drop(columns=['Year','Codeine', 'Norfentanyl', 'Methadone', 'Morphine', 'Amphetamines'])\n",
    "df_2017.to_csv('2017_deaths.csv', index=False) "
   ]
  },
  {
   "cell_type": "code",
   "execution_count": 29,
   "id": "ec901d8a-d8d4-4455-861c-db4a4136b339",
   "metadata": {
    "collapsed": true,
    "jupyter": {
     "outputs_hidden": true
    },
    "tags": []
   },
   "outputs": [
    {
     "data": {
      "text/plain": [
       "Alcohol             6\n",
       "Heroin              8\n",
       "Methamphetamine     9\n",
       "Cocaine             1\n",
       "RX                 21\n",
       "Opioids            15\n",
       "THC                 9\n",
       "Fentanyl           15\n",
       "dtype: int64"
      ]
     },
     "execution_count": 29,
     "metadata": {},
     "output_type": "execute_result"
    }
   ],
   "source": [
    "# Count the 'Yes' values in each column\n",
    "df_2017_sliced = df_2017.drop(columns=columns_to_exclude)\n",
    "yes_counts_2017 = (df_2017_sliced == 1).sum()\n",
    "\n",
    "yes_counts_2017"
   ]
  },
  {
   "cell_type": "markdown",
   "id": "21123e19-5c5f-405c-9ae9-d8c80e2cfb2e",
   "metadata": {
    "tags": []
   },
   "source": [
    "### 2018"
   ]
  },
  {
   "cell_type": "code",
   "execution_count": 49,
   "id": "586364d7-ac60-4c0f-ad71-59c374484a20",
   "metadata": {
    "tags": []
   },
   "outputs": [],
   "source": [
    "# 2018 Data\n",
    "df_2018 = overdose_df[overdose_df['Year'] == 2018]\n",
    "df_2018 = df_2018.drop(columns=['Year','Codeine', 'Norfentanyl', 'Methadone', 'Methamphetamine', 'Heroin'])\n",
    "df_2018.to_csv('2018_deaths.csv', index=False) "
   ]
  },
  {
   "cell_type": "code",
   "execution_count": 31,
   "id": "d36f41a8-ee49-4435-a97e-ccd923d74e55",
   "metadata": {
    "collapsed": true,
    "jupyter": {
     "outputs_hidden": true
    },
    "tags": []
   },
   "outputs": [
    {
     "data": {
      "text/plain": [
       "Alcohol          4\n",
       "Cocaine          4\n",
       "RX               6\n",
       "Opioids         21\n",
       "THC              5\n",
       "Fentanyl        18\n",
       "Morphine        12\n",
       "Amphetamines    10\n",
       "dtype: int64"
      ]
     },
     "execution_count": 31,
     "metadata": {},
     "output_type": "execute_result"
    }
   ],
   "source": [
    "df_2018_sliced = df_2018.drop(columns=columns_to_exclude)\n",
    "yes_counts_2018 = (df_2018_sliced == 1).sum()\n",
    "\n",
    "yes_counts_2018"
   ]
  },
  {
   "cell_type": "markdown",
   "id": "44e668bd-8586-432d-a08c-a7eff13b7db5",
   "metadata": {
    "tags": []
   },
   "source": [
    "### 2019"
   ]
  },
  {
   "cell_type": "code",
   "execution_count": 50,
   "id": "206c6b85-7363-489b-964d-51c9809d2a13",
   "metadata": {
    "tags": []
   },
   "outputs": [],
   "source": [
    "# 2019 Data\n",
    "df_2019 = overdose_df[overdose_df['Year'] == 2019]\n",
    "df_2019 = df_2019.drop(columns=['Year','Codeine', 'Norfentanyl', 'Methadone'])\n",
    "df_2019.to_csv('2019_deaths.csv', index=False) "
   ]
  },
  {
   "cell_type": "code",
   "execution_count": 33,
   "id": "f7f9a995-24a8-488a-9d90-103fe52e86ef",
   "metadata": {
    "collapsed": true,
    "jupyter": {
     "outputs_hidden": true
    },
    "tags": []
   },
   "outputs": [
    {
     "data": {
      "text/plain": [
       "Alcohol             8\n",
       "Heroin              4\n",
       "Methamphetamine    11\n",
       "Cocaine             3\n",
       "RX                  4\n",
       "Opioids            16\n",
       "THC                 2\n",
       "Fentanyl           14\n",
       "Morphine            5\n",
       "Amphetamines        3\n",
       "dtype: int64"
      ]
     },
     "execution_count": 33,
     "metadata": {},
     "output_type": "execute_result"
    }
   ],
   "source": [
    "df_2019_sliced = df_2019.drop(columns=columns_to_exclude)\n",
    "yes_counts_2019 = (df_2019_sliced == 1).sum()\n",
    "\n",
    "yes_counts_2019"
   ]
  },
  {
   "cell_type": "markdown",
   "id": "8da93dc9-1c5f-48dd-b0e1-7cc45fe6b63b",
   "metadata": {
    "tags": []
   },
   "source": [
    "### 2020"
   ]
  },
  {
   "cell_type": "code",
   "execution_count": 51,
   "id": "3871dbed-e6b3-478b-a4b5-f44381c4deda",
   "metadata": {
    "tags": []
   },
   "outputs": [],
   "source": [
    "# 2020 Data\n",
    "df_2020 = overdose_df[overdose_df['Year'] == 2020]\n",
    "df_2020 = df_2020.drop(columns=['Year'])\n",
    "df_2020.to_csv('2020_deaths.csv', index=False) "
   ]
  },
  {
   "cell_type": "code",
   "execution_count": 35,
   "id": "8544e4b7-3f2e-41c1-8323-d86de9872a14",
   "metadata": {
    "collapsed": true,
    "jupyter": {
     "outputs_hidden": true
    },
    "tags": []
   },
   "outputs": [
    {
     "data": {
      "text/plain": [
       "Alcohol             7\n",
       "Heroin              4\n",
       "Methamphetamine    23\n",
       "Cocaine             5\n",
       "RX                 11\n",
       "Opioids            30\n",
       "THC                 9\n",
       "Fentanyl           27\n",
       "Codeine             3\n",
       "Norfentanyl        17\n",
       "Methadone           2\n",
       "Morphine            7\n",
       "Amphetamines       20\n",
       "dtype: int64"
      ]
     },
     "execution_count": 35,
     "metadata": {},
     "output_type": "execute_result"
    }
   ],
   "source": [
    "df_2020_sliced = df_2020.drop(columns=columns_to_exclude)\n",
    "yes_counts_2020 = (df_2020_sliced == 1).sum()\n",
    "\n",
    "yes_counts_2020"
   ]
  },
  {
   "cell_type": "markdown",
   "id": "a5e8b2e0-8771-45cd-9e24-12e841c32661",
   "metadata": {
    "tags": []
   },
   "source": [
    "### 2021"
   ]
  },
  {
   "cell_type": "code",
   "execution_count": 52,
   "id": "1ac96627-88f7-4360-b148-878ec6941bd9",
   "metadata": {
    "tags": []
   },
   "outputs": [],
   "source": [
    "# 2021 Data\n",
    "df_2021 = overdose_df[overdose_df['Year'] == 2021]\n",
    "df_2021 = df_2021.drop(columns=['Year','Alcohol', 'THC'])\n",
    "df_2021.to_csv('2021_deaths.csv', index=False) "
   ]
  },
  {
   "cell_type": "code",
   "execution_count": 37,
   "id": "73a89c6f-0b97-485b-b2d5-f2c206c0fcdd",
   "metadata": {
    "collapsed": true,
    "jupyter": {
     "outputs_hidden": true
    },
    "tags": []
   },
   "outputs": [
    {
     "data": {
      "text/plain": [
       "Heroin              2\n",
       "Methamphetamine    13\n",
       "Cocaine             3\n",
       "RX                  0\n",
       "Opioids            27\n",
       "Fentanyl           27\n",
       "Codeine             1\n",
       "Norfentanyl         0\n",
       "Methadone           1\n",
       "Morphine            2\n",
       "Amphetamines        1\n",
       "dtype: int64"
      ]
     },
     "execution_count": 37,
     "metadata": {},
     "output_type": "execute_result"
    }
   ],
   "source": [
    "df_2021_sliced = df_2021.drop(columns=columns_to_exclude)\n",
    "yes_counts_2021 = (df_2021_sliced == 1).sum()\n",
    "\n",
    "yes_counts_2021"
   ]
  },
  {
   "cell_type": "markdown",
   "id": "cf213c4b-725d-4fa2-8c7e-594d331b9c08",
   "metadata": {
    "tags": []
   },
   "source": [
    "### 2022"
   ]
  },
  {
   "cell_type": "code",
   "execution_count": 53,
   "id": "6031e366-d1aa-4bb5-9377-a5f901681b68",
   "metadata": {
    "tags": []
   },
   "outputs": [],
   "source": [
    "# 2022 Data\n",
    "df_2022 = overdose_df[overdose_df['Year'] == 2022]\n",
    "df_2022 = df_2022.drop(columns=['Year'])\n",
    "df_2022.to_csv('2022_deaths.csv', index=False) "
   ]
  },
  {
   "cell_type": "code",
   "execution_count": 39,
   "id": "399df095-cd1c-462c-9742-a6b58f81ecb2",
   "metadata": {
    "collapsed": true,
    "jupyter": {
     "outputs_hidden": true
    },
    "tags": []
   },
   "outputs": [
    {
     "data": {
      "text/plain": [
       "Alcohol            14\n",
       "Heroin              0\n",
       "Methamphetamine    22\n",
       "Cocaine            11\n",
       "RX                  6\n",
       "Opioids            25\n",
       "THC                 0\n",
       "Fentanyl           25\n",
       "Codeine             0\n",
       "Norfentanyl         0\n",
       "Methadone           0\n",
       "Morphine            0\n",
       "Amphetamines        0\n",
       "dtype: int64"
      ]
     },
     "execution_count": 39,
     "metadata": {},
     "output_type": "execute_result"
    }
   ],
   "source": [
    "df_2022_sliced = df_2022.drop(columns=columns_to_exclude)\n",
    "yes_counts_2022 = (df_2022_sliced == 1).sum()\n",
    "\n",
    "yes_counts_2022"
   ]
  },
  {
   "cell_type": "code",
   "execution_count": null,
   "id": "4a4ce8af-8122-4689-aef7-4877717d5d5f",
   "metadata": {
    "collapsed": true,
    "jupyter": {
     "outputs_hidden": true
    }
   },
   "outputs": [],
   "source": []
  }
 ],
 "metadata": {
  "kernelspec": {
   "display_name": "Python 3 (ipykernel)",
   "language": "python",
   "name": "python3"
  },
  "language_info": {
   "codemirror_mode": {
    "name": "ipython",
    "version": 3
   },
   "file_extension": ".py",
   "mimetype": "text/x-python",
   "name": "python",
   "nbconvert_exporter": "python",
   "pygments_lexer": "ipython3",
   "version": "3.11.7"
  }
 },
 "nbformat": 4,
 "nbformat_minor": 5
}
